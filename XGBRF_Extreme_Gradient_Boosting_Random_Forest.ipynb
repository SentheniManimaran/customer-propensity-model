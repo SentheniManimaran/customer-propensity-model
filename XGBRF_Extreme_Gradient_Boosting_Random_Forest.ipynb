{
 "cells": [
  {
   "cell_type": "markdown",
   "id": "b1d21c78",
   "metadata": {},
   "source": [
    "# Data Cleaning And Preprocessing"
   ]
  },
  {
   "cell_type": "code",
   "execution_count": 2,
   "id": "4283593c",
   "metadata": {},
   "outputs": [],
   "source": [
    "#Data Preprocessing\n",
    "import numpy as np\n",
    "import matplotlib.pyplot as plt\n",
    "import pandas as pd\n",
    "from sklearn import preprocessing\n",
    "from datetime import datetime, date, timedelta\n",
    "import seaborn as sns\n",
    "import plotly.express as px\n",
    "from sklearn import preprocessing\n",
    "\n",
    "#Model Application\n",
    "from sklearn.model_selection import train_test_split\n",
    "from xgboost import XGBRFClassifier\n",
    "\n",
    "#Model Evaluation\n",
    "from sklearn.metrics import confusion_matrix, classification_report\n",
    "from sklearn.metrics import accuracy_score\n",
    "from sklearn.metrics import precision_score\n",
    "from sklearn.metrics import recall_score\n",
    "from sklearn.metrics import f1_score\n",
    "from mlxtend.evaluate import bias_variance_decomp\n",
    "from sklearn import metrics\n",
    "\n",
    "#Parameter Tuning\n",
    "from sklearn.model_selection import GridSearchCV\n",
    "from sklearn.model_selection import RepeatedStratifiedKFold\n",
    "\n",
    "# Ignore all warnings\n",
    "import warnings\n",
    "warnings.filterwarnings('ignore')\n",
    "warnings.filterwarnings(action='ignore', category=DeprecationWarning)\n",
    "pd.set_option('display.max_columns', None)\n",
    "pd.set_option('display.max_rows', None)"
   ]
  },
  {
   "cell_type": "code",
   "execution_count": 3,
   "id": "1fe725ca",
   "metadata": {},
   "outputs": [],
   "source": [
    "np.random.seed(42)"
   ]
  },
  {
   "cell_type": "code",
   "execution_count": 4,
   "id": "b7ed536d",
   "metadata": {},
   "outputs": [],
   "source": [
    "marketing_data = pd.read_csv('marketing_campaign.csv')"
   ]
  },
  {
   "cell_type": "markdown",
   "id": "61f769ec",
   "metadata": {},
   "source": [
    "### Check Null Values"
   ]
  },
  {
   "cell_type": "code",
   "execution_count": 5,
   "id": "4ed019e6",
   "metadata": {},
   "outputs": [
    {
     "name": "stdout",
     "output_type": "stream",
     "text": [
      "52247.25\n"
     ]
    }
   ],
   "source": [
    "mean_income = marketing_data['Income'].mean()\n",
    "print(\"%.2f\" % mean_income)"
   ]
  },
  {
   "cell_type": "code",
   "execution_count": 6,
   "id": "926d2c4d",
   "metadata": {},
   "outputs": [
    {
     "data": {
      "text/plain": [
       "False"
      ]
     },
     "execution_count": 6,
     "metadata": {},
     "output_type": "execute_result"
    }
   ],
   "source": [
    "marketing_data['Income'].fillna(value=mean_income, inplace=True)\n",
    "marketing_data.isnull().values.any()"
   ]
  },
  {
   "cell_type": "markdown",
   "id": "9b2d61d1",
   "metadata": {},
   "source": [
    "### Remove Unwanted Columns "
   ]
  },
  {
   "cell_type": "code",
   "execution_count": 7,
   "id": "fd5eec33",
   "metadata": {},
   "outputs": [],
   "source": [
    "remove_cols= ['Z_CostContact','Z_Revenue']\n",
    "marketing_data = marketing_data.drop(remove_cols,axis=1)"
   ]
  },
  {
   "cell_type": "markdown",
   "id": "7d32ec5e",
   "metadata": {},
   "source": [
    "    "
   ]
  },
  {
   "cell_type": "markdown",
   "id": "d548ca3f",
   "metadata": {},
   "source": [
    "### Alter Data Values"
   ]
  },
  {
   "cell_type": "code",
   "execution_count": 8,
   "id": "942201b1",
   "metadata": {},
   "outputs": [],
   "source": [
    "# Marital Status\n",
    "marketing_data['Marital_Status'] = marketing_data['Marital_Status'].replace(['Together', 'Married'],'Couple')\n",
    "marketing_data['Marital_Status'] = marketing_data['Marital_Status'].replace(['Divorced', 'Widow', 'Alone'],'Single')\n",
    "marketing_data['Marital_Status'] = marketing_data['Marital_Status'].replace(['Absurd', 'YOLO'],'Unspecified')"
   ]
  },
  {
   "cell_type": "code",
   "execution_count": 9,
   "id": "058eed44",
   "metadata": {},
   "outputs": [],
   "source": [
    "# Education\n",
    "marketing_data['Education'] = marketing_data['Education'].replace(['Graduation','Basic', '2n Cycle'],['Graduate','High School','Unspecified'])\n",
    "marketing_data['Education'] = marketing_data['Education'].replace(['PhD','Master'],'Post-Graduate')"
   ]
  },
  {
   "cell_type": "markdown",
   "id": "11473074",
   "metadata": {},
   "source": [
    "### Alter Data Types"
   ]
  },
  {
   "cell_type": "code",
   "execution_count": 10,
   "id": "2b40872b",
   "metadata": {},
   "outputs": [
    {
     "name": "stdout",
     "output_type": "stream",
     "text": [
      "Current Year_Birth Format =  int64\n",
      "Altered Year_Birth Format =  datetime64[ns]\n"
     ]
    }
   ],
   "source": [
    "# Year Birth\n",
    "print(\"Current Year_Birth Format = \", marketing_data['Year_Birth'].dtypes)\n",
    "marketing_data['Year_Birth'] = pd.to_datetime(marketing_data['Year_Birth'], format='%Y')\n",
    "print(\"Altered Year_Birth Format = \",marketing_data['Year_Birth'].dtypes)"
   ]
  },
  {
   "cell_type": "code",
   "execution_count": 11,
   "id": "b92ed724",
   "metadata": {},
   "outputs": [
    {
     "name": "stdout",
     "output_type": "stream",
     "text": [
      "Current Dt_Customer Format =  object\n",
      "Altered Dt_Customer Format =  datetime64[ns]\n"
     ]
    }
   ],
   "source": [
    "# Joined Date\n",
    "print(\"Current Dt_Customer Format = \", marketing_data['Dt_Customer'].dtypes)\n",
    "marketing_data['Dt_Customer'] = pd.to_datetime(marketing_data['Dt_Customer'], format='%Y-%m-%d')\n",
    "print(\"Altered Dt_Customer Format = \", marketing_data['Dt_Customer'].dtypes)"
   ]
  },
  {
   "cell_type": "code",
   "execution_count": 12,
   "id": "0ba02592",
   "metadata": {},
   "outputs": [],
   "source": [
    "# Currency Values to Float\n",
    "marketing_data['MntWines'] = marketing_data['MntWines'].astype(float)\n",
    "marketing_data['MntFruits'] = marketing_data['MntFruits'].astype(float)\n",
    "marketing_data['MntMeatProducts'] = marketing_data['MntMeatProducts'].astype(float)\n",
    "marketing_data['MntFishProducts'] = marketing_data['MntFishProducts'].astype(float)\n",
    "marketing_data['MntSweetProducts'] = marketing_data['MntSweetProducts'].astype(float)\n",
    "marketing_data['MntGoldProds'] = marketing_data['MntGoldProds'].astype(float)"
   ]
  },
  {
   "cell_type": "markdown",
   "id": "54c10f2a",
   "metadata": {},
   "source": [
    "# Feature Engineering"
   ]
  },
  {
   "cell_type": "markdown",
   "id": "2e299f19",
   "metadata": {},
   "source": [
    "### Age"
   ]
  },
  {
   "cell_type": "code",
   "execution_count": 13,
   "id": "4e72896a",
   "metadata": {},
   "outputs": [],
   "source": [
    "#function to calculate age\n",
    "def calculateAge(birthDate):\n",
    "    today = date.today()\n",
    "    age = today.year - birthDate.year - ((today.month, today.day) < (birthDate.month, birthDate.day)) \n",
    "    return age\n",
    "\n",
    "#apply function to all rows\n",
    "marketing_data['Year_Birth'] = marketing_data['Year_Birth'].apply(calculateAge)"
   ]
  },
  {
   "cell_type": "code",
   "execution_count": 14,
   "id": "4b96ffa1",
   "metadata": {},
   "outputs": [
    {
     "name": "stdout",
     "output_type": "stream",
     "text": [
      "0    66\n",
      "1    69\n",
      "2    58\n",
      "3    39\n",
      "4    42\n",
      "Name: Age, dtype: int64\n"
     ]
    }
   ],
   "source": [
    "marketing_data.rename(columns = {'Year_Birth':'Age'}, inplace = True)\n",
    "print(marketing_data['Age'].head())"
   ]
  },
  {
   "cell_type": "markdown",
   "id": "3efdf2a2",
   "metadata": {},
   "source": [
    "### Overall Acceptance Rate"
   ]
  },
  {
   "cell_type": "code",
   "execution_count": 15,
   "id": "3b78509e",
   "metadata": {},
   "outputs": [
    {
     "name": "stdout",
     "output_type": "stream",
     "text": [
      "[0 1 2 3 4]\n"
     ]
    }
   ],
   "source": [
    "marketing_data['Overall_Acceptance_Rate'] = marketing_data['AcceptedCmp1'] + marketing_data['AcceptedCmp2'] + marketing_data['AcceptedCmp3'] + marketing_data['AcceptedCmp4'] + marketing_data['AcceptedCmp5']\n",
    "print(marketing_data['Overall_Acceptance_Rate'].unique())"
   ]
  },
  {
   "cell_type": "markdown",
   "id": "321845fc",
   "metadata": {},
   "source": [
    "### Membership duration"
   ]
  },
  {
   "cell_type": "code",
   "execution_count": 16,
   "id": "1cd7aa4e",
   "metadata": {},
   "outputs": [
    {
     "name": "stdout",
     "output_type": "stream",
     "text": [
      "2014-06-29 00:00:00\n",
      "2012-07-30 00:00:00\n"
     ]
    }
   ],
   "source": [
    "marketing_data['Membership_Duration'] = marketing_data['Dt_Customer'].apply(calculateAge)\n",
    "print(marketing_data['Dt_Customer'].max())\n",
    "print(marketing_data['Dt_Customer'].min())"
   ]
  },
  {
   "cell_type": "markdown",
   "id": "4fbbe5b9",
   "metadata": {},
   "source": [
    "### Total Amount Spent"
   ]
  },
  {
   "cell_type": "code",
   "execution_count": 17,
   "id": "48650e67",
   "metadata": {},
   "outputs": [
    {
     "name": "stdout",
     "output_type": "stream",
     "text": [
      "0    1617.0\n",
      "1      27.0\n",
      "2     776.0\n",
      "3      53.0\n",
      "4     422.0\n",
      "Name: Total_Amt_Spent, dtype: float64\n"
     ]
    }
   ],
   "source": [
    "marketing_data['Total_Amt_Spent'] = marketing_data['MntWines'] + marketing_data['MntFruits'] + marketing_data['MntMeatProducts'] + marketing_data['MntFishProducts'] + marketing_data['MntSweetProducts'] + marketing_data['MntGoldProds']\n",
    "print(marketing_data['Total_Amt_Spent'].head())"
   ]
  },
  {
   "cell_type": "markdown",
   "id": "9d3cf9e3",
   "metadata": {},
   "source": [
    "### Total People In The Household"
   ]
  },
  {
   "cell_type": "code",
   "execution_count": 18,
   "id": "c045f268",
   "metadata": {},
   "outputs": [],
   "source": [
    "total_count = []\n",
    "\n",
    "for status in marketing_data['Marital_Status']:\n",
    "    \n",
    "    adults = 0\n",
    "\n",
    "    if status == 'Couple':\n",
    "        adults = total_count.append(2)  \n",
    "    else:\n",
    "        adults = total_count.append(1)  \n",
    " "
   ]
  },
  {
   "cell_type": "code",
   "execution_count": 19,
   "id": "c67d3cf8",
   "metadata": {},
   "outputs": [
    {
     "name": "stdout",
     "output_type": "stream",
     "text": [
      "0    1\n",
      "1    3\n",
      "2    2\n",
      "3    3\n",
      "4    3\n",
      "Name: Total_People, dtype: int64\n"
     ]
    }
   ],
   "source": [
    "marketing_data['Total_People'] = total_count + marketing_data['Kidhome'] + marketing_data['Teenhome']\n",
    "print(marketing_data['Total_People'].head())"
   ]
  },
  {
   "cell_type": "markdown",
   "id": "5cd9c24c",
   "metadata": {},
   "source": [
    "### Outlier Detection"
   ]
  },
  {
   "cell_type": "code",
   "execution_count": 20,
   "id": "e4145425",
   "metadata": {},
   "outputs": [
    {
     "name": "stdout",
     "output_type": "stream",
     "text": [
      "52247.25135379059\n"
     ]
    }
   ],
   "source": [
    "mode_age = marketing_data['Age'].mode()\n",
    "mean_income = marketing_data['Income'].mean()\n",
    "\n",
    "marketing_data['Age'] = np.where(marketing_data['Age'] >83, mode_age ,marketing_data['Age'])\n",
    "marketing_data['Income'] = marketing_data['Income'].replace([666666.00], mean_income)\n",
    "\n",
    "print(mean_income)"
   ]
  },
  {
   "cell_type": "markdown",
   "id": "5ad4bf54",
   "metadata": {},
   "source": [
    "### Encoding"
   ]
  },
  {
   "cell_type": "code",
   "execution_count": 21,
   "id": "7cb160ac",
   "metadata": {},
   "outputs": [
    {
     "data": {
      "text/html": [
       "<div>\n",
       "<style scoped>\n",
       "    .dataframe tbody tr th:only-of-type {\n",
       "        vertical-align: middle;\n",
       "    }\n",
       "\n",
       "    .dataframe tbody tr th {\n",
       "        vertical-align: top;\n",
       "    }\n",
       "\n",
       "    .dataframe thead th {\n",
       "        text-align: right;\n",
       "    }\n",
       "</style>\n",
       "<table border=\"1\" class=\"dataframe\">\n",
       "  <thead>\n",
       "    <tr style=\"text-align: right;\">\n",
       "      <th></th>\n",
       "      <th>ID</th>\n",
       "      <th>Age</th>\n",
       "      <th>Education</th>\n",
       "      <th>Marital_Status</th>\n",
       "      <th>Income</th>\n",
       "      <th>Kidhome</th>\n",
       "      <th>Teenhome</th>\n",
       "      <th>Dt_Customer</th>\n",
       "      <th>Recency</th>\n",
       "      <th>MntWines</th>\n",
       "      <th>MntFruits</th>\n",
       "      <th>MntMeatProducts</th>\n",
       "      <th>MntFishProducts</th>\n",
       "      <th>MntSweetProducts</th>\n",
       "      <th>MntGoldProds</th>\n",
       "      <th>NumDealsPurchases</th>\n",
       "      <th>NumWebPurchases</th>\n",
       "      <th>NumCatalogPurchases</th>\n",
       "      <th>NumStorePurchases</th>\n",
       "      <th>NumWebVisitsMonth</th>\n",
       "      <th>AcceptedCmp3</th>\n",
       "      <th>AcceptedCmp4</th>\n",
       "      <th>AcceptedCmp5</th>\n",
       "      <th>AcceptedCmp1</th>\n",
       "      <th>AcceptedCmp2</th>\n",
       "      <th>Complain</th>\n",
       "      <th>Response</th>\n",
       "      <th>Overall_Acceptance_Rate</th>\n",
       "      <th>Membership_Duration</th>\n",
       "      <th>Total_Amt_Spent</th>\n",
       "      <th>Total_People</th>\n",
       "    </tr>\n",
       "  </thead>\n",
       "  <tbody>\n",
       "    <tr>\n",
       "      <th>0</th>\n",
       "      <td>5524</td>\n",
       "      <td>66</td>\n",
       "      <td>0</td>\n",
       "      <td>1</td>\n",
       "      <td>58138.0</td>\n",
       "      <td>0</td>\n",
       "      <td>0</td>\n",
       "      <td>2012-09-04</td>\n",
       "      <td>58</td>\n",
       "      <td>635.0</td>\n",
       "      <td>88.0</td>\n",
       "      <td>546.0</td>\n",
       "      <td>172.0</td>\n",
       "      <td>88.0</td>\n",
       "      <td>88.0</td>\n",
       "      <td>3</td>\n",
       "      <td>8</td>\n",
       "      <td>10</td>\n",
       "      <td>4</td>\n",
       "      <td>7</td>\n",
       "      <td>0</td>\n",
       "      <td>0</td>\n",
       "      <td>0</td>\n",
       "      <td>0</td>\n",
       "      <td>0</td>\n",
       "      <td>0</td>\n",
       "      <td>1</td>\n",
       "      <td>0</td>\n",
       "      <td>11</td>\n",
       "      <td>1617.0</td>\n",
       "      <td>1</td>\n",
       "    </tr>\n",
       "    <tr>\n",
       "      <th>1</th>\n",
       "      <td>2174</td>\n",
       "      <td>69</td>\n",
       "      <td>0</td>\n",
       "      <td>1</td>\n",
       "      <td>46344.0</td>\n",
       "      <td>1</td>\n",
       "      <td>1</td>\n",
       "      <td>2014-03-08</td>\n",
       "      <td>38</td>\n",
       "      <td>11.0</td>\n",
       "      <td>1.0</td>\n",
       "      <td>6.0</td>\n",
       "      <td>2.0</td>\n",
       "      <td>1.0</td>\n",
       "      <td>6.0</td>\n",
       "      <td>2</td>\n",
       "      <td>1</td>\n",
       "      <td>1</td>\n",
       "      <td>2</td>\n",
       "      <td>5</td>\n",
       "      <td>0</td>\n",
       "      <td>0</td>\n",
       "      <td>0</td>\n",
       "      <td>0</td>\n",
       "      <td>0</td>\n",
       "      <td>0</td>\n",
       "      <td>0</td>\n",
       "      <td>0</td>\n",
       "      <td>9</td>\n",
       "      <td>27.0</td>\n",
       "      <td>3</td>\n",
       "    </tr>\n",
       "    <tr>\n",
       "      <th>2</th>\n",
       "      <td>4141</td>\n",
       "      <td>58</td>\n",
       "      <td>0</td>\n",
       "      <td>0</td>\n",
       "      <td>71613.0</td>\n",
       "      <td>0</td>\n",
       "      <td>0</td>\n",
       "      <td>2013-08-21</td>\n",
       "      <td>26</td>\n",
       "      <td>426.0</td>\n",
       "      <td>49.0</td>\n",
       "      <td>127.0</td>\n",
       "      <td>111.0</td>\n",
       "      <td>21.0</td>\n",
       "      <td>42.0</td>\n",
       "      <td>1</td>\n",
       "      <td>8</td>\n",
       "      <td>2</td>\n",
       "      <td>10</td>\n",
       "      <td>4</td>\n",
       "      <td>0</td>\n",
       "      <td>0</td>\n",
       "      <td>0</td>\n",
       "      <td>0</td>\n",
       "      <td>0</td>\n",
       "      <td>0</td>\n",
       "      <td>0</td>\n",
       "      <td>0</td>\n",
       "      <td>10</td>\n",
       "      <td>776.0</td>\n",
       "      <td>2</td>\n",
       "    </tr>\n",
       "    <tr>\n",
       "      <th>3</th>\n",
       "      <td>6182</td>\n",
       "      <td>39</td>\n",
       "      <td>0</td>\n",
       "      <td>0</td>\n",
       "      <td>26646.0</td>\n",
       "      <td>1</td>\n",
       "      <td>0</td>\n",
       "      <td>2014-02-10</td>\n",
       "      <td>26</td>\n",
       "      <td>11.0</td>\n",
       "      <td>4.0</td>\n",
       "      <td>20.0</td>\n",
       "      <td>10.0</td>\n",
       "      <td>3.0</td>\n",
       "      <td>5.0</td>\n",
       "      <td>2</td>\n",
       "      <td>2</td>\n",
       "      <td>0</td>\n",
       "      <td>4</td>\n",
       "      <td>6</td>\n",
       "      <td>0</td>\n",
       "      <td>0</td>\n",
       "      <td>0</td>\n",
       "      <td>0</td>\n",
       "      <td>0</td>\n",
       "      <td>0</td>\n",
       "      <td>0</td>\n",
       "      <td>0</td>\n",
       "      <td>9</td>\n",
       "      <td>53.0</td>\n",
       "      <td>3</td>\n",
       "    </tr>\n",
       "    <tr>\n",
       "      <th>4</th>\n",
       "      <td>5324</td>\n",
       "      <td>42</td>\n",
       "      <td>2</td>\n",
       "      <td>0</td>\n",
       "      <td>58293.0</td>\n",
       "      <td>1</td>\n",
       "      <td>0</td>\n",
       "      <td>2014-01-19</td>\n",
       "      <td>94</td>\n",
       "      <td>173.0</td>\n",
       "      <td>43.0</td>\n",
       "      <td>118.0</td>\n",
       "      <td>46.0</td>\n",
       "      <td>27.0</td>\n",
       "      <td>15.0</td>\n",
       "      <td>5</td>\n",
       "      <td>5</td>\n",
       "      <td>3</td>\n",
       "      <td>6</td>\n",
       "      <td>5</td>\n",
       "      <td>0</td>\n",
       "      <td>0</td>\n",
       "      <td>0</td>\n",
       "      <td>0</td>\n",
       "      <td>0</td>\n",
       "      <td>0</td>\n",
       "      <td>0</td>\n",
       "      <td>0</td>\n",
       "      <td>9</td>\n",
       "      <td>422.0</td>\n",
       "      <td>3</td>\n",
       "    </tr>\n",
       "  </tbody>\n",
       "</table>\n",
       "</div>"
      ],
      "text/plain": [
       "     ID  Age  Education  Marital_Status   Income  Kidhome  Teenhome  \\\n",
       "0  5524   66          0               1  58138.0        0         0   \n",
       "1  2174   69          0               1  46344.0        1         1   \n",
       "2  4141   58          0               0  71613.0        0         0   \n",
       "3  6182   39          0               0  26646.0        1         0   \n",
       "4  5324   42          2               0  58293.0        1         0   \n",
       "\n",
       "  Dt_Customer  Recency  MntWines  MntFruits  MntMeatProducts  MntFishProducts  \\\n",
       "0  2012-09-04       58     635.0       88.0            546.0            172.0   \n",
       "1  2014-03-08       38      11.0        1.0              6.0              2.0   \n",
       "2  2013-08-21       26     426.0       49.0            127.0            111.0   \n",
       "3  2014-02-10       26      11.0        4.0             20.0             10.0   \n",
       "4  2014-01-19       94     173.0       43.0            118.0             46.0   \n",
       "\n",
       "   MntSweetProducts  MntGoldProds  NumDealsPurchases  NumWebPurchases  \\\n",
       "0              88.0          88.0                  3                8   \n",
       "1               1.0           6.0                  2                1   \n",
       "2              21.0          42.0                  1                8   \n",
       "3               3.0           5.0                  2                2   \n",
       "4              27.0          15.0                  5                5   \n",
       "\n",
       "   NumCatalogPurchases  NumStorePurchases  NumWebVisitsMonth  AcceptedCmp3  \\\n",
       "0                   10                  4                  7             0   \n",
       "1                    1                  2                  5             0   \n",
       "2                    2                 10                  4             0   \n",
       "3                    0                  4                  6             0   \n",
       "4                    3                  6                  5             0   \n",
       "\n",
       "   AcceptedCmp4  AcceptedCmp5  AcceptedCmp1  AcceptedCmp2  Complain  Response  \\\n",
       "0             0             0             0             0         0         1   \n",
       "1             0             0             0             0         0         0   \n",
       "2             0             0             0             0         0         0   \n",
       "3             0             0             0             0         0         0   \n",
       "4             0             0             0             0         0         0   \n",
       "\n",
       "   Overall_Acceptance_Rate  Membership_Duration  Total_Amt_Spent  Total_People  \n",
       "0                        0                   11           1617.0             1  \n",
       "1                        0                    9             27.0             3  \n",
       "2                        0                   10            776.0             2  \n",
       "3                        0                    9             53.0             3  \n",
       "4                        0                    9            422.0             3  "
      ]
     },
     "execution_count": 21,
     "metadata": {},
     "output_type": "execute_result"
    }
   ],
   "source": [
    "unencoded_cols = ['Education','Marital_Status']\n",
    "le = preprocessing.LabelEncoder()\n",
    "enc_marketing_data = marketing_data.copy()\n",
    "\n",
    "for col in unencoded_cols:\n",
    "    enc_marketing_data[col] = le.fit_transform(marketing_data[col])\n",
    "    \n",
    "enc_marketing_data.head()"
   ]
  },
  {
   "cell_type": "markdown",
   "id": "a876f0af",
   "metadata": {},
   "source": [
    "### Log Transformation"
   ]
  },
  {
   "cell_type": "code",
   "execution_count": 23,
   "id": "a1b44c19",
   "metadata": {
    "scrolled": false
   },
   "outputs": [],
   "source": [
    "cols = ['Income','MntWines','MntFruits','MntMeatProducts','MntFishProducts','MntSweetProducts','MntGoldProds','NumDealsPurchases','NumCatalogPurchases','NumStorePurchases','NumWebVisitsMonth','Total_Amt_Spent']\n",
    "\n",
    "for chosen_col in cols:\n",
    "    enc_marketing_data[chosen_col] = np.log(enc_marketing_data[chosen_col] + 1)\n"
   ]
  },
  {
   "cell_type": "markdown",
   "id": "6b86dd7c",
   "metadata": {},
   "source": [
    "# Feature Selection"
   ]
  },
  {
   "cell_type": "code",
   "execution_count": 24,
   "id": "48c81810",
   "metadata": {},
   "outputs": [],
   "source": [
    "cols_to_remove = ['ID', 'Dt_Customer']\n",
    "enc_marketing_data.drop(cols_to_remove, axis=1, inplace=True)"
   ]
  },
  {
   "cell_type": "code",
   "execution_count": 25,
   "id": "d81903cd",
   "metadata": {},
   "outputs": [
    {
     "data": {
      "text/plain": [
       "(2240, 27)"
      ]
     },
     "execution_count": 25,
     "metadata": {},
     "output_type": "execute_result"
    }
   ],
   "source": [
    "cols_to_remove = ['Complain','Overall_Acceptance_Rate']\n",
    "enc_marketing_data.drop(cols_to_remove, axis=1, inplace=True)\n",
    "enc_marketing_data.shape"
   ]
  },
  {
   "cell_type": "markdown",
   "id": "52350215",
   "metadata": {},
   "source": [
    "# Model Application And Evaluation"
   ]
  },
  {
   "cell_type": "markdown",
   "id": "bb4c7287",
   "metadata": {},
   "source": [
    "### Base Model"
   ]
  },
  {
   "cell_type": "markdown",
   "id": "9bd0dcf0",
   "metadata": {},
   "source": [
    "##### Application"
   ]
  },
  {
   "cell_type": "code",
   "execution_count": 26,
   "id": "0ae248ce",
   "metadata": {},
   "outputs": [],
   "source": [
    "# Split the data into features (X) and target (y)\n",
    "X = enc_marketing_data\n",
    "y = enc_marketing_data.pop('Response')"
   ]
  },
  {
   "cell_type": "code",
   "execution_count": 27,
   "id": "bb0736c5",
   "metadata": {},
   "outputs": [
    {
     "name": "stdout",
     "output_type": "stream",
     "text": [
      "Train size X :  (1792, 26)\n",
      "Train size y :  (1792,)\n",
      "\n",
      "Test size X :  (448, 26)\n",
      "Test size y :  (448,)\n"
     ]
    }
   ],
   "source": [
    "# Train test split\n",
    "X_train, X_test, y_train, y_test = train_test_split(X, y, random_state = 42, test_size = 0.2)\n",
    "\n",
    "X_train_arr = np.array(X_train)\n",
    "y_train_arr = np.array(y_train)\n",
    "X_test_arr = np.array(X_test)\n",
    "y_test_arr = np.array(y_test)\n",
    "\n",
    "print(\"Train size X : \",X_train.shape)\n",
    "print(\"Train size y : \",y_train.shape)\n",
    "print(\"\\nTest size X : \",X_test.shape)\n",
    "print(\"Test size y : \",y_test.shape)"
   ]
  },
  {
   "cell_type": "code",
   "execution_count": 28,
   "id": "a20de14e",
   "metadata": {},
   "outputs": [
    {
     "data": {
      "text/plain": [
       "XGBRFClassifier(base_score=None, booster=None, callbacks=None,\n",
       "                colsample_bylevel=None, colsample_bytree=None,\n",
       "                early_stopping_rounds=None, enable_categorical=False,\n",
       "                eval_metric=None, feature_types=None, gamma=None, gpu_id=None,\n",
       "                grow_policy=None, importance_type=None,\n",
       "                interaction_constraints=None, max_bin=None,\n",
       "                max_cat_threshold=None, max_cat_to_onehot=None,\n",
       "                max_delta_step=None, max_depth=None, max_leaves=None,\n",
       "                min_child_weight=None, missing=nan, monotone_constraints=None,\n",
       "                n_estimators=100, n_jobs=None, num_parallel_tree=None,\n",
       "                objective='binary:logistic', predictor=None, random_state=None,\n",
       "                reg_alpha=None, ...)"
      ]
     },
     "execution_count": 28,
     "metadata": {},
     "output_type": "execute_result"
    }
   ],
   "source": [
    "#Training the model\n",
    "xgbrf_basemodel = XGBRFClassifier()\n",
    "xgbrf_basemodel.fit(X_train,y_train)"
   ]
  },
  {
   "cell_type": "markdown",
   "id": "296e723b",
   "metadata": {},
   "source": [
    "##### Evaluation"
   ]
  },
  {
   "cell_type": "code",
   "execution_count": 29,
   "id": "a915fbde",
   "metadata": {},
   "outputs": [
    {
     "name": "stdout",
     "output_type": "stream",
     "text": [
      "Accuracy: 0.862\n",
      "Precision: 0.652\n",
      "Recall: 0.217\n",
      "F1 Score: 0.326\n"
     ]
    }
   ],
   "source": [
    "y_pred_base = xgbrf_basemodel.predict(X_test)\n",
    "print('Accuracy: %.3f' % accuracy_score(y_test, y_pred_base))\n",
    "print('Precision: %.3f' % precision_score(y_test, y_pred_base))\n",
    "print('Recall: %.3f' % recall_score(y_test, y_pred_base))\n",
    "print('F1 Score: %.3f' % f1_score(y_test, y_pred_base))"
   ]
  },
  {
   "cell_type": "markdown",
   "id": "bcbd5994",
   "metadata": {},
   "source": [
    "### Tuned Model"
   ]
  },
  {
   "cell_type": "markdown",
   "id": "347e550a",
   "metadata": {},
   "source": [
    "###### Application"
   ]
  },
  {
   "cell_type": "code",
   "execution_count": 31,
   "id": "0d5b02cf",
   "metadata": {},
   "outputs": [
    {
     "name": "stdout",
     "output_type": "stream",
     "text": [
      "Best: 0.893968 using {'colsample_bynode': 0.4, 'learning_rate': 0.01, 'max_depth': 20, 'n_estimators': 25}\n",
      "0.869239 (0.010195) with: {'colsample_bynode': 0.2, 'learning_rate': 0.01, 'max_depth': 3, 'n_estimators': 10}\n",
      "0.870721 (0.010208) with: {'colsample_bynode': 0.2, 'learning_rate': 0.01, 'max_depth': 3, 'n_estimators': 25}\n",
      "0.870908 (0.009302) with: {'colsample_bynode': 0.2, 'learning_rate': 0.01, 'max_depth': 3, 'n_estimators': 30}\n",
      "0.873138 (0.009791) with: {'colsample_bynode': 0.2, 'learning_rate': 0.01, 'max_depth': 3, 'n_estimators': 50}\n",
      "0.873328 (0.010677) with: {'colsample_bynode': 0.2, 'learning_rate': 0.01, 'max_depth': 3, 'n_estimators': 100}\n",
      "0.873325 (0.010905) with: {'colsample_bynode': 0.2, 'learning_rate': 0.01, 'max_depth': 3, 'n_estimators': 200}\n",
      "0.874632 (0.014146) with: {'colsample_bynode': 0.2, 'learning_rate': 0.01, 'max_depth': 5, 'n_estimators': 10}\n",
      "0.874256 (0.013344) with: {'colsample_bynode': 0.2, 'learning_rate': 0.01, 'max_depth': 5, 'n_estimators': 25}\n",
      "0.875927 (0.013214) with: {'colsample_bynode': 0.2, 'learning_rate': 0.01, 'max_depth': 5, 'n_estimators': 30}\n",
      "0.879646 (0.015869) with: {'colsample_bynode': 0.2, 'learning_rate': 0.01, 'max_depth': 5, 'n_estimators': 50}\n",
      "0.878532 (0.015454) with: {'colsample_bynode': 0.2, 'learning_rate': 0.01, 'max_depth': 5, 'n_estimators': 100}\n",
      "0.878719 (0.013135) with: {'colsample_bynode': 0.2, 'learning_rate': 0.01, 'max_depth': 5, 'n_estimators': 200}\n",
      "0.879657 (0.015853) with: {'colsample_bynode': 0.2, 'learning_rate': 0.01, 'max_depth': 6, 'n_estimators': 10}\n",
      "0.879281 (0.014061) with: {'colsample_bynode': 0.2, 'learning_rate': 0.01, 'max_depth': 6, 'n_estimators': 25}\n",
      "0.881142 (0.014394) with: {'colsample_bynode': 0.2, 'learning_rate': 0.01, 'max_depth': 6, 'n_estimators': 30}\n",
      "0.883372 (0.015999) with: {'colsample_bynode': 0.2, 'learning_rate': 0.01, 'max_depth': 6, 'n_estimators': 50}\n",
      "0.885232 (0.015955) with: {'colsample_bynode': 0.2, 'learning_rate': 0.01, 'max_depth': 6, 'n_estimators': 100}\n",
      "0.883926 (0.015228) with: {'colsample_bynode': 0.2, 'learning_rate': 0.01, 'max_depth': 6, 'n_estimators': 200}\n",
      "0.881324 (0.016116) with: {'colsample_bynode': 0.2, 'learning_rate': 0.01, 'max_depth': 10, 'n_estimators': 10}\n",
      "0.884307 (0.016256) with: {'colsample_bynode': 0.2, 'learning_rate': 0.01, 'max_depth': 10, 'n_estimators': 25}\n",
      "0.883747 (0.015889) with: {'colsample_bynode': 0.2, 'learning_rate': 0.01, 'max_depth': 10, 'n_estimators': 30}\n",
      "0.888025 (0.014306) with: {'colsample_bynode': 0.2, 'learning_rate': 0.01, 'max_depth': 10, 'n_estimators': 50}\n",
      "0.890626 (0.014736) with: {'colsample_bynode': 0.2, 'learning_rate': 0.01, 'max_depth': 10, 'n_estimators': 100}\n",
      "0.890625 (0.012615) with: {'colsample_bynode': 0.2, 'learning_rate': 0.01, 'max_depth': 10, 'n_estimators': 200}\n",
      "0.882629 (0.017252) with: {'colsample_bynode': 0.2, 'learning_rate': 0.01, 'max_depth': 15, 'n_estimators': 10}\n",
      "0.884122 (0.016236) with: {'colsample_bynode': 0.2, 'learning_rate': 0.01, 'max_depth': 15, 'n_estimators': 25}\n",
      "0.883748 (0.015003) with: {'colsample_bynode': 0.2, 'learning_rate': 0.01, 'max_depth': 15, 'n_estimators': 30}\n",
      "0.888584 (0.016492) with: {'colsample_bynode': 0.2, 'learning_rate': 0.01, 'max_depth': 15, 'n_estimators': 50}\n",
      "0.889698 (0.014993) with: {'colsample_bynode': 0.2, 'learning_rate': 0.01, 'max_depth': 15, 'n_estimators': 100}\n",
      "0.891370 (0.013335) with: {'colsample_bynode': 0.2, 'learning_rate': 0.01, 'max_depth': 15, 'n_estimators': 200}\n",
      "0.882444 (0.017213) with: {'colsample_bynode': 0.2, 'learning_rate': 0.01, 'max_depth': 20, 'n_estimators': 10}\n",
      "0.884122 (0.016236) with: {'colsample_bynode': 0.2, 'learning_rate': 0.01, 'max_depth': 20, 'n_estimators': 25}\n",
      "0.883563 (0.014765) with: {'colsample_bynode': 0.2, 'learning_rate': 0.01, 'max_depth': 20, 'n_estimators': 30}\n",
      "0.888397 (0.016336) with: {'colsample_bynode': 0.2, 'learning_rate': 0.01, 'max_depth': 20, 'n_estimators': 50}\n",
      "0.889698 (0.014993) with: {'colsample_bynode': 0.2, 'learning_rate': 0.01, 'max_depth': 20, 'n_estimators': 100}\n",
      "0.891185 (0.013635) with: {'colsample_bynode': 0.2, 'learning_rate': 0.01, 'max_depth': 20, 'n_estimators': 200}\n",
      "0.869239 (0.010195) with: {'colsample_bynode': 0.2, 'learning_rate': 0.1, 'max_depth': 3, 'n_estimators': 10}\n",
      "0.870721 (0.010208) with: {'colsample_bynode': 0.2, 'learning_rate': 0.1, 'max_depth': 3, 'n_estimators': 25}\n",
      "0.870908 (0.009302) with: {'colsample_bynode': 0.2, 'learning_rate': 0.1, 'max_depth': 3, 'n_estimators': 30}\n",
      "0.873138 (0.009791) with: {'colsample_bynode': 0.2, 'learning_rate': 0.1, 'max_depth': 3, 'n_estimators': 50}\n",
      "0.873328 (0.010677) with: {'colsample_bynode': 0.2, 'learning_rate': 0.1, 'max_depth': 3, 'n_estimators': 100}\n",
      "0.873325 (0.010905) with: {'colsample_bynode': 0.2, 'learning_rate': 0.1, 'max_depth': 3, 'n_estimators': 200}\n",
      "0.874632 (0.014146) with: {'colsample_bynode': 0.2, 'learning_rate': 0.1, 'max_depth': 5, 'n_estimators': 10}\n",
      "0.874256 (0.013344) with: {'colsample_bynode': 0.2, 'learning_rate': 0.1, 'max_depth': 5, 'n_estimators': 25}\n",
      "0.875927 (0.013214) with: {'colsample_bynode': 0.2, 'learning_rate': 0.1, 'max_depth': 5, 'n_estimators': 30}\n",
      "0.879646 (0.015869) with: {'colsample_bynode': 0.2, 'learning_rate': 0.1, 'max_depth': 5, 'n_estimators': 50}\n",
      "0.878532 (0.015454) with: {'colsample_bynode': 0.2, 'learning_rate': 0.1, 'max_depth': 5, 'n_estimators': 100}\n",
      "0.878719 (0.013135) with: {'colsample_bynode': 0.2, 'learning_rate': 0.1, 'max_depth': 5, 'n_estimators': 200}\n",
      "0.879657 (0.015853) with: {'colsample_bynode': 0.2, 'learning_rate': 0.1, 'max_depth': 6, 'n_estimators': 10}\n",
      "0.879281 (0.014061) with: {'colsample_bynode': 0.2, 'learning_rate': 0.1, 'max_depth': 6, 'n_estimators': 25}\n",
      "0.881142 (0.014394) with: {'colsample_bynode': 0.2, 'learning_rate': 0.1, 'max_depth': 6, 'n_estimators': 30}\n",
      "0.883372 (0.015999) with: {'colsample_bynode': 0.2, 'learning_rate': 0.1, 'max_depth': 6, 'n_estimators': 50}\n",
      "0.885232 (0.015955) with: {'colsample_bynode': 0.2, 'learning_rate': 0.1, 'max_depth': 6, 'n_estimators': 100}\n",
      "0.883926 (0.015228) with: {'colsample_bynode': 0.2, 'learning_rate': 0.1, 'max_depth': 6, 'n_estimators': 200}\n",
      "0.881324 (0.016116) with: {'colsample_bynode': 0.2, 'learning_rate': 0.1, 'max_depth': 10, 'n_estimators': 10}\n",
      "0.884307 (0.016256) with: {'colsample_bynode': 0.2, 'learning_rate': 0.1, 'max_depth': 10, 'n_estimators': 25}\n",
      "0.883747 (0.015889) with: {'colsample_bynode': 0.2, 'learning_rate': 0.1, 'max_depth': 10, 'n_estimators': 30}\n",
      "0.888025 (0.014306) with: {'colsample_bynode': 0.2, 'learning_rate': 0.1, 'max_depth': 10, 'n_estimators': 50}\n",
      "0.890626 (0.014736) with: {'colsample_bynode': 0.2, 'learning_rate': 0.1, 'max_depth': 10, 'n_estimators': 100}\n",
      "0.890625 (0.012615) with: {'colsample_bynode': 0.2, 'learning_rate': 0.1, 'max_depth': 10, 'n_estimators': 200}\n",
      "0.882629 (0.017252) with: {'colsample_bynode': 0.2, 'learning_rate': 0.1, 'max_depth': 15, 'n_estimators': 10}\n",
      "0.884122 (0.016236) with: {'colsample_bynode': 0.2, 'learning_rate': 0.1, 'max_depth': 15, 'n_estimators': 25}\n",
      "0.883748 (0.015003) with: {'colsample_bynode': 0.2, 'learning_rate': 0.1, 'max_depth': 15, 'n_estimators': 30}\n",
      "0.888584 (0.016492) with: {'colsample_bynode': 0.2, 'learning_rate': 0.1, 'max_depth': 15, 'n_estimators': 50}\n",
      "0.889698 (0.014993) with: {'colsample_bynode': 0.2, 'learning_rate': 0.1, 'max_depth': 15, 'n_estimators': 100}\n",
      "0.891370 (0.013335) with: {'colsample_bynode': 0.2, 'learning_rate': 0.1, 'max_depth': 15, 'n_estimators': 200}\n",
      "0.882444 (0.017213) with: {'colsample_bynode': 0.2, 'learning_rate': 0.1, 'max_depth': 20, 'n_estimators': 10}\n",
      "0.884122 (0.016236) with: {'colsample_bynode': 0.2, 'learning_rate': 0.1, 'max_depth': 20, 'n_estimators': 25}\n",
      "0.883563 (0.014765) with: {'colsample_bynode': 0.2, 'learning_rate': 0.1, 'max_depth': 20, 'n_estimators': 30}\n",
      "0.888397 (0.016336) with: {'colsample_bynode': 0.2, 'learning_rate': 0.1, 'max_depth': 20, 'n_estimators': 50}\n",
      "0.889698 (0.014993) with: {'colsample_bynode': 0.2, 'learning_rate': 0.1, 'max_depth': 20, 'n_estimators': 100}\n",
      "0.891185 (0.013635) with: {'colsample_bynode': 0.2, 'learning_rate': 0.1, 'max_depth': 20, 'n_estimators': 200}\n",
      "0.869239 (0.010195) with: {'colsample_bynode': 0.2, 'learning_rate': 0.2, 'max_depth': 3, 'n_estimators': 10}\n",
      "0.870721 (0.010208) with: {'colsample_bynode': 0.2, 'learning_rate': 0.2, 'max_depth': 3, 'n_estimators': 25}\n",
      "0.870908 (0.009302) with: {'colsample_bynode': 0.2, 'learning_rate': 0.2, 'max_depth': 3, 'n_estimators': 30}\n",
      "0.873138 (0.009791) with: {'colsample_bynode': 0.2, 'learning_rate': 0.2, 'max_depth': 3, 'n_estimators': 50}\n",
      "0.873328 (0.010677) with: {'colsample_bynode': 0.2, 'learning_rate': 0.2, 'max_depth': 3, 'n_estimators': 100}\n",
      "0.873325 (0.010905) with: {'colsample_bynode': 0.2, 'learning_rate': 0.2, 'max_depth': 3, 'n_estimators': 200}\n",
      "0.874632 (0.014146) with: {'colsample_bynode': 0.2, 'learning_rate': 0.2, 'max_depth': 5, 'n_estimators': 10}\n",
      "0.874256 (0.013344) with: {'colsample_bynode': 0.2, 'learning_rate': 0.2, 'max_depth': 5, 'n_estimators': 25}\n",
      "0.875927 (0.013214) with: {'colsample_bynode': 0.2, 'learning_rate': 0.2, 'max_depth': 5, 'n_estimators': 30}\n",
      "0.879646 (0.015869) with: {'colsample_bynode': 0.2, 'learning_rate': 0.2, 'max_depth': 5, 'n_estimators': 50}\n",
      "0.878532 (0.015454) with: {'colsample_bynode': 0.2, 'learning_rate': 0.2, 'max_depth': 5, 'n_estimators': 100}\n",
      "0.878719 (0.013135) with: {'colsample_bynode': 0.2, 'learning_rate': 0.2, 'max_depth': 5, 'n_estimators': 200}\n",
      "0.879657 (0.015853) with: {'colsample_bynode': 0.2, 'learning_rate': 0.2, 'max_depth': 6, 'n_estimators': 10}\n",
      "0.879281 (0.014061) with: {'colsample_bynode': 0.2, 'learning_rate': 0.2, 'max_depth': 6, 'n_estimators': 25}\n",
      "0.881142 (0.014394) with: {'colsample_bynode': 0.2, 'learning_rate': 0.2, 'max_depth': 6, 'n_estimators': 30}\n",
      "0.883372 (0.015999) with: {'colsample_bynode': 0.2, 'learning_rate': 0.2, 'max_depth': 6, 'n_estimators': 50}\n",
      "0.885232 (0.015955) with: {'colsample_bynode': 0.2, 'learning_rate': 0.2, 'max_depth': 6, 'n_estimators': 100}\n",
      "0.883926 (0.015228) with: {'colsample_bynode': 0.2, 'learning_rate': 0.2, 'max_depth': 6, 'n_estimators': 200}\n",
      "0.881324 (0.016116) with: {'colsample_bynode': 0.2, 'learning_rate': 0.2, 'max_depth': 10, 'n_estimators': 10}\n",
      "0.884307 (0.016256) with: {'colsample_bynode': 0.2, 'learning_rate': 0.2, 'max_depth': 10, 'n_estimators': 25}\n",
      "0.883747 (0.015889) with: {'colsample_bynode': 0.2, 'learning_rate': 0.2, 'max_depth': 10, 'n_estimators': 30}\n",
      "0.888025 (0.014306) with: {'colsample_bynode': 0.2, 'learning_rate': 0.2, 'max_depth': 10, 'n_estimators': 50}\n",
      "0.890626 (0.014736) with: {'colsample_bynode': 0.2, 'learning_rate': 0.2, 'max_depth': 10, 'n_estimators': 100}\n",
      "0.890625 (0.012615) with: {'colsample_bynode': 0.2, 'learning_rate': 0.2, 'max_depth': 10, 'n_estimators': 200}\n",
      "0.882629 (0.017252) with: {'colsample_bynode': 0.2, 'learning_rate': 0.2, 'max_depth': 15, 'n_estimators': 10}\n",
      "0.884122 (0.016236) with: {'colsample_bynode': 0.2, 'learning_rate': 0.2, 'max_depth': 15, 'n_estimators': 25}\n",
      "0.883748 (0.015003) with: {'colsample_bynode': 0.2, 'learning_rate': 0.2, 'max_depth': 15, 'n_estimators': 30}\n",
      "0.888584 (0.016492) with: {'colsample_bynode': 0.2, 'learning_rate': 0.2, 'max_depth': 15, 'n_estimators': 50}\n",
      "0.889698 (0.014993) with: {'colsample_bynode': 0.2, 'learning_rate': 0.2, 'max_depth': 15, 'n_estimators': 100}\n",
      "0.891370 (0.013335) with: {'colsample_bynode': 0.2, 'learning_rate': 0.2, 'max_depth': 15, 'n_estimators': 200}\n",
      "0.882444 (0.017213) with: {'colsample_bynode': 0.2, 'learning_rate': 0.2, 'max_depth': 20, 'n_estimators': 10}\n",
      "0.884122 (0.016236) with: {'colsample_bynode': 0.2, 'learning_rate': 0.2, 'max_depth': 20, 'n_estimators': 25}\n",
      "0.883563 (0.014765) with: {'colsample_bynode': 0.2, 'learning_rate': 0.2, 'max_depth': 20, 'n_estimators': 30}\n",
      "0.888397 (0.016336) with: {'colsample_bynode': 0.2, 'learning_rate': 0.2, 'max_depth': 20, 'n_estimators': 50}\n",
      "0.889698 (0.014993) with: {'colsample_bynode': 0.2, 'learning_rate': 0.2, 'max_depth': 20, 'n_estimators': 100}\n",
      "0.891185 (0.013635) with: {'colsample_bynode': 0.2, 'learning_rate': 0.2, 'max_depth': 20, 'n_estimators': 200}\n",
      "0.869239 (0.010195) with: {'colsample_bynode': 0.2, 'learning_rate': 0.3, 'max_depth': 3, 'n_estimators': 10}\n",
      "0.870721 (0.010208) with: {'colsample_bynode': 0.2, 'learning_rate': 0.3, 'max_depth': 3, 'n_estimators': 25}\n",
      "0.870908 (0.009302) with: {'colsample_bynode': 0.2, 'learning_rate': 0.3, 'max_depth': 3, 'n_estimators': 30}\n",
      "0.873138 (0.009791) with: {'colsample_bynode': 0.2, 'learning_rate': 0.3, 'max_depth': 3, 'n_estimators': 50}\n",
      "0.873328 (0.010677) with: {'colsample_bynode': 0.2, 'learning_rate': 0.3, 'max_depth': 3, 'n_estimators': 100}\n",
      "0.873325 (0.010905) with: {'colsample_bynode': 0.2, 'learning_rate': 0.3, 'max_depth': 3, 'n_estimators': 200}\n",
      "0.874632 (0.014146) with: {'colsample_bynode': 0.2, 'learning_rate': 0.3, 'max_depth': 5, 'n_estimators': 10}\n",
      "0.874256 (0.013344) with: {'colsample_bynode': 0.2, 'learning_rate': 0.3, 'max_depth': 5, 'n_estimators': 25}\n",
      "0.875927 (0.013214) with: {'colsample_bynode': 0.2, 'learning_rate': 0.3, 'max_depth': 5, 'n_estimators': 30}\n",
      "0.879646 (0.015869) with: {'colsample_bynode': 0.2, 'learning_rate': 0.3, 'max_depth': 5, 'n_estimators': 50}\n",
      "0.878532 (0.015454) with: {'colsample_bynode': 0.2, 'learning_rate': 0.3, 'max_depth': 5, 'n_estimators': 100}\n",
      "0.878719 (0.013135) with: {'colsample_bynode': 0.2, 'learning_rate': 0.3, 'max_depth': 5, 'n_estimators': 200}\n",
      "0.879657 (0.015853) with: {'colsample_bynode': 0.2, 'learning_rate': 0.3, 'max_depth': 6, 'n_estimators': 10}\n",
      "0.879281 (0.014061) with: {'colsample_bynode': 0.2, 'learning_rate': 0.3, 'max_depth': 6, 'n_estimators': 25}\n",
      "0.881142 (0.014394) with: {'colsample_bynode': 0.2, 'learning_rate': 0.3, 'max_depth': 6, 'n_estimators': 30}\n",
      "0.883372 (0.015999) with: {'colsample_bynode': 0.2, 'learning_rate': 0.3, 'max_depth': 6, 'n_estimators': 50}\n",
      "0.885232 (0.015955) with: {'colsample_bynode': 0.2, 'learning_rate': 0.3, 'max_depth': 6, 'n_estimators': 100}\n",
      "0.883926 (0.015228) with: {'colsample_bynode': 0.2, 'learning_rate': 0.3, 'max_depth': 6, 'n_estimators': 200}\n",
      "0.881324 (0.016116) with: {'colsample_bynode': 0.2, 'learning_rate': 0.3, 'max_depth': 10, 'n_estimators': 10}\n",
      "0.884307 (0.016256) with: {'colsample_bynode': 0.2, 'learning_rate': 0.3, 'max_depth': 10, 'n_estimators': 25}\n",
      "0.883747 (0.015889) with: {'colsample_bynode': 0.2, 'learning_rate': 0.3, 'max_depth': 10, 'n_estimators': 30}\n",
      "0.888025 (0.014306) with: {'colsample_bynode': 0.2, 'learning_rate': 0.3, 'max_depth': 10, 'n_estimators': 50}\n",
      "0.890626 (0.014736) with: {'colsample_bynode': 0.2, 'learning_rate': 0.3, 'max_depth': 10, 'n_estimators': 100}\n",
      "0.890625 (0.012615) with: {'colsample_bynode': 0.2, 'learning_rate': 0.3, 'max_depth': 10, 'n_estimators': 200}\n",
      "0.882629 (0.017252) with: {'colsample_bynode': 0.2, 'learning_rate': 0.3, 'max_depth': 15, 'n_estimators': 10}\n",
      "0.884122 (0.016236) with: {'colsample_bynode': 0.2, 'learning_rate': 0.3, 'max_depth': 15, 'n_estimators': 25}\n",
      "0.883748 (0.015003) with: {'colsample_bynode': 0.2, 'learning_rate': 0.3, 'max_depth': 15, 'n_estimators': 30}\n",
      "0.888584 (0.016492) with: {'colsample_bynode': 0.2, 'learning_rate': 0.3, 'max_depth': 15, 'n_estimators': 50}\n",
      "0.889698 (0.014993) with: {'colsample_bynode': 0.2, 'learning_rate': 0.3, 'max_depth': 15, 'n_estimators': 100}\n",
      "0.891370 (0.013335) with: {'colsample_bynode': 0.2, 'learning_rate': 0.3, 'max_depth': 15, 'n_estimators': 200}\n",
      "0.882444 (0.017213) with: {'colsample_bynode': 0.2, 'learning_rate': 0.3, 'max_depth': 20, 'n_estimators': 10}\n",
      "0.884122 (0.016236) with: {'colsample_bynode': 0.2, 'learning_rate': 0.3, 'max_depth': 20, 'n_estimators': 25}\n",
      "0.883563 (0.014765) with: {'colsample_bynode': 0.2, 'learning_rate': 0.3, 'max_depth': 20, 'n_estimators': 30}\n",
      "0.888397 (0.016336) with: {'colsample_bynode': 0.2, 'learning_rate': 0.3, 'max_depth': 20, 'n_estimators': 50}\n",
      "0.889698 (0.014993) with: {'colsample_bynode': 0.2, 'learning_rate': 0.3, 'max_depth': 20, 'n_estimators': 100}\n",
      "0.891185 (0.013635) with: {'colsample_bynode': 0.2, 'learning_rate': 0.3, 'max_depth': 20, 'n_estimators': 200}\n",
      "0.877040 (0.013986) with: {'colsample_bynode': 0.4, 'learning_rate': 0.01, 'max_depth': 3, 'n_estimators': 10}\n",
      "0.875737 (0.013659) with: {'colsample_bynode': 0.4, 'learning_rate': 0.01, 'max_depth': 3, 'n_estimators': 25}\n",
      "0.875364 (0.013917) with: {'colsample_bynode': 0.4, 'learning_rate': 0.01, 'max_depth': 3, 'n_estimators': 30}\n",
      "0.875740 (0.013557) with: {'colsample_bynode': 0.4, 'learning_rate': 0.01, 'max_depth': 3, 'n_estimators': 50}\n",
      "0.876856 (0.014007) with: {'colsample_bynode': 0.4, 'learning_rate': 0.01, 'max_depth': 3, 'n_estimators': 100}\n",
      "0.875927 (0.013833) with: {'colsample_bynode': 0.4, 'learning_rate': 0.01, 'max_depth': 3, 'n_estimators': 200}\n",
      "0.889688 (0.015149) with: {'colsample_bynode': 0.4, 'learning_rate': 0.01, 'max_depth': 5, 'n_estimators': 10}\n",
      "0.889690 (0.014572) with: {'colsample_bynode': 0.4, 'learning_rate': 0.01, 'max_depth': 5, 'n_estimators': 25}\n",
      "0.891552 (0.014341) with: {'colsample_bynode': 0.4, 'learning_rate': 0.01, 'max_depth': 5, 'n_estimators': 30}\n",
      "0.890991 (0.013779) with: {'colsample_bynode': 0.4, 'learning_rate': 0.01, 'max_depth': 5, 'n_estimators': 50}\n",
      "0.890433 (0.012321) with: {'colsample_bynode': 0.4, 'learning_rate': 0.01, 'max_depth': 5, 'n_estimators': 100}\n",
      "0.890066 (0.012669) with: {'colsample_bynode': 0.4, 'learning_rate': 0.01, 'max_depth': 5, 'n_estimators': 200}\n",
      "0.887827 (0.014496) with: {'colsample_bynode': 0.4, 'learning_rate': 0.01, 'max_depth': 6, 'n_estimators': 10}\n",
      "0.891552 (0.016183) with: {'colsample_bynode': 0.4, 'learning_rate': 0.01, 'max_depth': 6, 'n_estimators': 25}\n",
      "0.890806 (0.013147) with: {'colsample_bynode': 0.4, 'learning_rate': 0.01, 'max_depth': 6, 'n_estimators': 30}\n",
      "0.891737 (0.011071) with: {'colsample_bynode': 0.4, 'learning_rate': 0.01, 'max_depth': 6, 'n_estimators': 50}\n",
      "0.890249 (0.011685) with: {'colsample_bynode': 0.4, 'learning_rate': 0.01, 'max_depth': 6, 'n_estimators': 100}\n",
      "0.890248 (0.013962) with: {'colsample_bynode': 0.4, 'learning_rate': 0.01, 'max_depth': 6, 'n_estimators': 200}\n",
      "0.888570 (0.015809) with: {'colsample_bynode': 0.4, 'learning_rate': 0.01, 'max_depth': 10, 'n_estimators': 10}\n",
      "0.893596 (0.015209) with: {'colsample_bynode': 0.4, 'learning_rate': 0.01, 'max_depth': 10, 'n_estimators': 25}\n",
      "0.893964 (0.015517) with: {'colsample_bynode': 0.4, 'learning_rate': 0.01, 'max_depth': 10, 'n_estimators': 30}\n",
      "0.893041 (0.014868) with: {'colsample_bynode': 0.4, 'learning_rate': 0.01, 'max_depth': 10, 'n_estimators': 50}\n",
      "0.892294 (0.013266) with: {'colsample_bynode': 0.4, 'learning_rate': 0.01, 'max_depth': 10, 'n_estimators': 100}\n",
      "0.891922 (0.014770) with: {'colsample_bynode': 0.4, 'learning_rate': 0.01, 'max_depth': 10, 'n_estimators': 200}\n",
      "0.889684 (0.016664) with: {'colsample_bynode': 0.4, 'learning_rate': 0.01, 'max_depth': 15, 'n_estimators': 10}\n",
      "0.893966 (0.015228) with: {'colsample_bynode': 0.4, 'learning_rate': 0.01, 'max_depth': 15, 'n_estimators': 25}\n",
      "0.892477 (0.015101) with: {'colsample_bynode': 0.4, 'learning_rate': 0.01, 'max_depth': 15, 'n_estimators': 30}\n",
      "0.891367 (0.015853) with: {'colsample_bynode': 0.4, 'learning_rate': 0.01, 'max_depth': 15, 'n_estimators': 50}\n",
      "0.892667 (0.014053) with: {'colsample_bynode': 0.4, 'learning_rate': 0.01, 'max_depth': 15, 'n_estimators': 100}\n",
      "0.891738 (0.014693) with: {'colsample_bynode': 0.4, 'learning_rate': 0.01, 'max_depth': 15, 'n_estimators': 200}\n",
      "0.889683 (0.016671) with: {'colsample_bynode': 0.4, 'learning_rate': 0.01, 'max_depth': 20, 'n_estimators': 10}\n",
      "0.893968 (0.015557) with: {'colsample_bynode': 0.4, 'learning_rate': 0.01, 'max_depth': 20, 'n_estimators': 25}\n",
      "0.892291 (0.015049) with: {'colsample_bynode': 0.4, 'learning_rate': 0.01, 'max_depth': 20, 'n_estimators': 30}\n",
      "0.891367 (0.015853) with: {'colsample_bynode': 0.4, 'learning_rate': 0.01, 'max_depth': 20, 'n_estimators': 50}\n",
      "0.892482 (0.014138) with: {'colsample_bynode': 0.4, 'learning_rate': 0.01, 'max_depth': 20, 'n_estimators': 100}\n",
      "0.891368 (0.014899) with: {'colsample_bynode': 0.4, 'learning_rate': 0.01, 'max_depth': 20, 'n_estimators': 200}\n",
      "0.877040 (0.013986) with: {'colsample_bynode': 0.4, 'learning_rate': 0.1, 'max_depth': 3, 'n_estimators': 10}\n",
      "0.875737 (0.013659) with: {'colsample_bynode': 0.4, 'learning_rate': 0.1, 'max_depth': 3, 'n_estimators': 25}\n",
      "0.875364 (0.013917) with: {'colsample_bynode': 0.4, 'learning_rate': 0.1, 'max_depth': 3, 'n_estimators': 30}\n",
      "0.875740 (0.013557) with: {'colsample_bynode': 0.4, 'learning_rate': 0.1, 'max_depth': 3, 'n_estimators': 50}\n",
      "0.876856 (0.014007) with: {'colsample_bynode': 0.4, 'learning_rate': 0.1, 'max_depth': 3, 'n_estimators': 100}\n",
      "0.875927 (0.013833) with: {'colsample_bynode': 0.4, 'learning_rate': 0.1, 'max_depth': 3, 'n_estimators': 200}\n",
      "0.889688 (0.015149) with: {'colsample_bynode': 0.4, 'learning_rate': 0.1, 'max_depth': 5, 'n_estimators': 10}\n",
      "0.889690 (0.014572) with: {'colsample_bynode': 0.4, 'learning_rate': 0.1, 'max_depth': 5, 'n_estimators': 25}\n",
      "0.891552 (0.014341) with: {'colsample_bynode': 0.4, 'learning_rate': 0.1, 'max_depth': 5, 'n_estimators': 30}\n",
      "0.890991 (0.013779) with: {'colsample_bynode': 0.4, 'learning_rate': 0.1, 'max_depth': 5, 'n_estimators': 50}\n",
      "0.890433 (0.012321) with: {'colsample_bynode': 0.4, 'learning_rate': 0.1, 'max_depth': 5, 'n_estimators': 100}\n",
      "0.890066 (0.012669) with: {'colsample_bynode': 0.4, 'learning_rate': 0.1, 'max_depth': 5, 'n_estimators': 200}\n",
      "0.887827 (0.014496) with: {'colsample_bynode': 0.4, 'learning_rate': 0.1, 'max_depth': 6, 'n_estimators': 10}\n",
      "0.891552 (0.016183) with: {'colsample_bynode': 0.4, 'learning_rate': 0.1, 'max_depth': 6, 'n_estimators': 25}\n",
      "0.890806 (0.013147) with: {'colsample_bynode': 0.4, 'learning_rate': 0.1, 'max_depth': 6, 'n_estimators': 30}\n",
      "0.891737 (0.011071) with: {'colsample_bynode': 0.4, 'learning_rate': 0.1, 'max_depth': 6, 'n_estimators': 50}\n",
      "0.890249 (0.011685) with: {'colsample_bynode': 0.4, 'learning_rate': 0.1, 'max_depth': 6, 'n_estimators': 100}\n",
      "0.890248 (0.013962) with: {'colsample_bynode': 0.4, 'learning_rate': 0.1, 'max_depth': 6, 'n_estimators': 200}\n",
      "0.888570 (0.015809) with: {'colsample_bynode': 0.4, 'learning_rate': 0.1, 'max_depth': 10, 'n_estimators': 10}\n",
      "0.893596 (0.015209) with: {'colsample_bynode': 0.4, 'learning_rate': 0.1, 'max_depth': 10, 'n_estimators': 25}\n",
      "0.893964 (0.015517) with: {'colsample_bynode': 0.4, 'learning_rate': 0.1, 'max_depth': 10, 'n_estimators': 30}\n",
      "0.893041 (0.014868) with: {'colsample_bynode': 0.4, 'learning_rate': 0.1, 'max_depth': 10, 'n_estimators': 50}\n",
      "0.892294 (0.013266) with: {'colsample_bynode': 0.4, 'learning_rate': 0.1, 'max_depth': 10, 'n_estimators': 100}\n",
      "0.891922 (0.014770) with: {'colsample_bynode': 0.4, 'learning_rate': 0.1, 'max_depth': 10, 'n_estimators': 200}\n",
      "0.889684 (0.016664) with: {'colsample_bynode': 0.4, 'learning_rate': 0.1, 'max_depth': 15, 'n_estimators': 10}\n",
      "0.893966 (0.015228) with: {'colsample_bynode': 0.4, 'learning_rate': 0.1, 'max_depth': 15, 'n_estimators': 25}\n",
      "0.892477 (0.015101) with: {'colsample_bynode': 0.4, 'learning_rate': 0.1, 'max_depth': 15, 'n_estimators': 30}\n",
      "0.891367 (0.015853) with: {'colsample_bynode': 0.4, 'learning_rate': 0.1, 'max_depth': 15, 'n_estimators': 50}\n",
      "0.892667 (0.014053) with: {'colsample_bynode': 0.4, 'learning_rate': 0.1, 'max_depth': 15, 'n_estimators': 100}\n",
      "0.891738 (0.014693) with: {'colsample_bynode': 0.4, 'learning_rate': 0.1, 'max_depth': 15, 'n_estimators': 200}\n",
      "0.889683 (0.016671) with: {'colsample_bynode': 0.4, 'learning_rate': 0.1, 'max_depth': 20, 'n_estimators': 10}\n",
      "0.893968 (0.015557) with: {'colsample_bynode': 0.4, 'learning_rate': 0.1, 'max_depth': 20, 'n_estimators': 25}\n",
      "0.892291 (0.015049) with: {'colsample_bynode': 0.4, 'learning_rate': 0.1, 'max_depth': 20, 'n_estimators': 30}\n",
      "0.891367 (0.015853) with: {'colsample_bynode': 0.4, 'learning_rate': 0.1, 'max_depth': 20, 'n_estimators': 50}\n",
      "0.892482 (0.014138) with: {'colsample_bynode': 0.4, 'learning_rate': 0.1, 'max_depth': 20, 'n_estimators': 100}\n",
      "0.891368 (0.014899) with: {'colsample_bynode': 0.4, 'learning_rate': 0.1, 'max_depth': 20, 'n_estimators': 200}\n",
      "0.877040 (0.013986) with: {'colsample_bynode': 0.4, 'learning_rate': 0.2, 'max_depth': 3, 'n_estimators': 10}\n",
      "0.875737 (0.013659) with: {'colsample_bynode': 0.4, 'learning_rate': 0.2, 'max_depth': 3, 'n_estimators': 25}\n",
      "0.875364 (0.013917) with: {'colsample_bynode': 0.4, 'learning_rate': 0.2, 'max_depth': 3, 'n_estimators': 30}\n",
      "0.875740 (0.013557) with: {'colsample_bynode': 0.4, 'learning_rate': 0.2, 'max_depth': 3, 'n_estimators': 50}\n",
      "0.876856 (0.014007) with: {'colsample_bynode': 0.4, 'learning_rate': 0.2, 'max_depth': 3, 'n_estimators': 100}\n",
      "0.875927 (0.013833) with: {'colsample_bynode': 0.4, 'learning_rate': 0.2, 'max_depth': 3, 'n_estimators': 200}\n",
      "0.889688 (0.015149) with: {'colsample_bynode': 0.4, 'learning_rate': 0.2, 'max_depth': 5, 'n_estimators': 10}\n",
      "0.889690 (0.014572) with: {'colsample_bynode': 0.4, 'learning_rate': 0.2, 'max_depth': 5, 'n_estimators': 25}\n",
      "0.891552 (0.014341) with: {'colsample_bynode': 0.4, 'learning_rate': 0.2, 'max_depth': 5, 'n_estimators': 30}\n",
      "0.890991 (0.013779) with: {'colsample_bynode': 0.4, 'learning_rate': 0.2, 'max_depth': 5, 'n_estimators': 50}\n",
      "0.890433 (0.012321) with: {'colsample_bynode': 0.4, 'learning_rate': 0.2, 'max_depth': 5, 'n_estimators': 100}\n",
      "0.890066 (0.012669) with: {'colsample_bynode': 0.4, 'learning_rate': 0.2, 'max_depth': 5, 'n_estimators': 200}\n",
      "0.887827 (0.014496) with: {'colsample_bynode': 0.4, 'learning_rate': 0.2, 'max_depth': 6, 'n_estimators': 10}\n",
      "0.891552 (0.016183) with: {'colsample_bynode': 0.4, 'learning_rate': 0.2, 'max_depth': 6, 'n_estimators': 25}\n",
      "0.890806 (0.013147) with: {'colsample_bynode': 0.4, 'learning_rate': 0.2, 'max_depth': 6, 'n_estimators': 30}\n",
      "0.891737 (0.011071) with: {'colsample_bynode': 0.4, 'learning_rate': 0.2, 'max_depth': 6, 'n_estimators': 50}\n",
      "0.890249 (0.011685) with: {'colsample_bynode': 0.4, 'learning_rate': 0.2, 'max_depth': 6, 'n_estimators': 100}\n",
      "0.890248 (0.013962) with: {'colsample_bynode': 0.4, 'learning_rate': 0.2, 'max_depth': 6, 'n_estimators': 200}\n",
      "0.888570 (0.015809) with: {'colsample_bynode': 0.4, 'learning_rate': 0.2, 'max_depth': 10, 'n_estimators': 10}\n",
      "0.893596 (0.015209) with: {'colsample_bynode': 0.4, 'learning_rate': 0.2, 'max_depth': 10, 'n_estimators': 25}\n",
      "0.893964 (0.015517) with: {'colsample_bynode': 0.4, 'learning_rate': 0.2, 'max_depth': 10, 'n_estimators': 30}\n",
      "0.893041 (0.014868) with: {'colsample_bynode': 0.4, 'learning_rate': 0.2, 'max_depth': 10, 'n_estimators': 50}\n",
      "0.892294 (0.013266) with: {'colsample_bynode': 0.4, 'learning_rate': 0.2, 'max_depth': 10, 'n_estimators': 100}\n",
      "0.891922 (0.014770) with: {'colsample_bynode': 0.4, 'learning_rate': 0.2, 'max_depth': 10, 'n_estimators': 200}\n",
      "0.889684 (0.016664) with: {'colsample_bynode': 0.4, 'learning_rate': 0.2, 'max_depth': 15, 'n_estimators': 10}\n",
      "0.893966 (0.015228) with: {'colsample_bynode': 0.4, 'learning_rate': 0.2, 'max_depth': 15, 'n_estimators': 25}\n",
      "0.892477 (0.015101) with: {'colsample_bynode': 0.4, 'learning_rate': 0.2, 'max_depth': 15, 'n_estimators': 30}\n",
      "0.891367 (0.015853) with: {'colsample_bynode': 0.4, 'learning_rate': 0.2, 'max_depth': 15, 'n_estimators': 50}\n",
      "0.892667 (0.014053) with: {'colsample_bynode': 0.4, 'learning_rate': 0.2, 'max_depth': 15, 'n_estimators': 100}\n",
      "0.891738 (0.014693) with: {'colsample_bynode': 0.4, 'learning_rate': 0.2, 'max_depth': 15, 'n_estimators': 200}\n",
      "0.889683 (0.016671) with: {'colsample_bynode': 0.4, 'learning_rate': 0.2, 'max_depth': 20, 'n_estimators': 10}\n",
      "0.893968 (0.015557) with: {'colsample_bynode': 0.4, 'learning_rate': 0.2, 'max_depth': 20, 'n_estimators': 25}\n",
      "0.892291 (0.015049) with: {'colsample_bynode': 0.4, 'learning_rate': 0.2, 'max_depth': 20, 'n_estimators': 30}\n",
      "0.891367 (0.015853) with: {'colsample_bynode': 0.4, 'learning_rate': 0.2, 'max_depth': 20, 'n_estimators': 50}\n",
      "0.892482 (0.014138) with: {'colsample_bynode': 0.4, 'learning_rate': 0.2, 'max_depth': 20, 'n_estimators': 100}\n",
      "0.891368 (0.014899) with: {'colsample_bynode': 0.4, 'learning_rate': 0.2, 'max_depth': 20, 'n_estimators': 200}\n",
      "0.877040 (0.013986) with: {'colsample_bynode': 0.4, 'learning_rate': 0.3, 'max_depth': 3, 'n_estimators': 10}\n",
      "0.875737 (0.013659) with: {'colsample_bynode': 0.4, 'learning_rate': 0.3, 'max_depth': 3, 'n_estimators': 25}\n",
      "0.875364 (0.013917) with: {'colsample_bynode': 0.4, 'learning_rate': 0.3, 'max_depth': 3, 'n_estimators': 30}\n",
      "0.875740 (0.013557) with: {'colsample_bynode': 0.4, 'learning_rate': 0.3, 'max_depth': 3, 'n_estimators': 50}\n",
      "0.876856 (0.014007) with: {'colsample_bynode': 0.4, 'learning_rate': 0.3, 'max_depth': 3, 'n_estimators': 100}\n",
      "0.875927 (0.013833) with: {'colsample_bynode': 0.4, 'learning_rate': 0.3, 'max_depth': 3, 'n_estimators': 200}\n",
      "0.889688 (0.015149) with: {'colsample_bynode': 0.4, 'learning_rate': 0.3, 'max_depth': 5, 'n_estimators': 10}\n",
      "0.889690 (0.014572) with: {'colsample_bynode': 0.4, 'learning_rate': 0.3, 'max_depth': 5, 'n_estimators': 25}\n",
      "0.891552 (0.014341) with: {'colsample_bynode': 0.4, 'learning_rate': 0.3, 'max_depth': 5, 'n_estimators': 30}\n",
      "0.890991 (0.013779) with: {'colsample_bynode': 0.4, 'learning_rate': 0.3, 'max_depth': 5, 'n_estimators': 50}\n",
      "0.890433 (0.012321) with: {'colsample_bynode': 0.4, 'learning_rate': 0.3, 'max_depth': 5, 'n_estimators': 100}\n",
      "0.890066 (0.012669) with: {'colsample_bynode': 0.4, 'learning_rate': 0.3, 'max_depth': 5, 'n_estimators': 200}\n",
      "0.887827 (0.014496) with: {'colsample_bynode': 0.4, 'learning_rate': 0.3, 'max_depth': 6, 'n_estimators': 10}\n",
      "0.891552 (0.016183) with: {'colsample_bynode': 0.4, 'learning_rate': 0.3, 'max_depth': 6, 'n_estimators': 25}\n",
      "0.890806 (0.013147) with: {'colsample_bynode': 0.4, 'learning_rate': 0.3, 'max_depth': 6, 'n_estimators': 30}\n",
      "0.891737 (0.011071) with: {'colsample_bynode': 0.4, 'learning_rate': 0.3, 'max_depth': 6, 'n_estimators': 50}\n",
      "0.890249 (0.011685) with: {'colsample_bynode': 0.4, 'learning_rate': 0.3, 'max_depth': 6, 'n_estimators': 100}\n",
      "0.890248 (0.013962) with: {'colsample_bynode': 0.4, 'learning_rate': 0.3, 'max_depth': 6, 'n_estimators': 200}\n",
      "0.888570 (0.015809) with: {'colsample_bynode': 0.4, 'learning_rate': 0.3, 'max_depth': 10, 'n_estimators': 10}\n",
      "0.893596 (0.015209) with: {'colsample_bynode': 0.4, 'learning_rate': 0.3, 'max_depth': 10, 'n_estimators': 25}\n",
      "0.893964 (0.015517) with: {'colsample_bynode': 0.4, 'learning_rate': 0.3, 'max_depth': 10, 'n_estimators': 30}\n",
      "0.893041 (0.014868) with: {'colsample_bynode': 0.4, 'learning_rate': 0.3, 'max_depth': 10, 'n_estimators': 50}\n",
      "0.892294 (0.013266) with: {'colsample_bynode': 0.4, 'learning_rate': 0.3, 'max_depth': 10, 'n_estimators': 100}\n",
      "0.891922 (0.014770) with: {'colsample_bynode': 0.4, 'learning_rate': 0.3, 'max_depth': 10, 'n_estimators': 200}\n",
      "0.889684 (0.016664) with: {'colsample_bynode': 0.4, 'learning_rate': 0.3, 'max_depth': 15, 'n_estimators': 10}\n",
      "0.893966 (0.015228) with: {'colsample_bynode': 0.4, 'learning_rate': 0.3, 'max_depth': 15, 'n_estimators': 25}\n",
      "0.892477 (0.015101) with: {'colsample_bynode': 0.4, 'learning_rate': 0.3, 'max_depth': 15, 'n_estimators': 30}\n",
      "0.891367 (0.015853) with: {'colsample_bynode': 0.4, 'learning_rate': 0.3, 'max_depth': 15, 'n_estimators': 50}\n",
      "0.892667 (0.014053) with: {'colsample_bynode': 0.4, 'learning_rate': 0.3, 'max_depth': 15, 'n_estimators': 100}\n",
      "0.891738 (0.014693) with: {'colsample_bynode': 0.4, 'learning_rate': 0.3, 'max_depth': 15, 'n_estimators': 200}\n",
      "0.889683 (0.016671) with: {'colsample_bynode': 0.4, 'learning_rate': 0.3, 'max_depth': 20, 'n_estimators': 10}\n",
      "0.893968 (0.015557) with: {'colsample_bynode': 0.4, 'learning_rate': 0.3, 'max_depth': 20, 'n_estimators': 25}\n",
      "0.892291 (0.015049) with: {'colsample_bynode': 0.4, 'learning_rate': 0.3, 'max_depth': 20, 'n_estimators': 30}\n",
      "0.891367 (0.015853) with: {'colsample_bynode': 0.4, 'learning_rate': 0.3, 'max_depth': 20, 'n_estimators': 50}\n",
      "0.892482 (0.014138) with: {'colsample_bynode': 0.4, 'learning_rate': 0.3, 'max_depth': 20, 'n_estimators': 100}\n",
      "0.891368 (0.014899) with: {'colsample_bynode': 0.4, 'learning_rate': 0.3, 'max_depth': 20, 'n_estimators': 200}\n",
      "0.881878 (0.014093) with: {'colsample_bynode': 0.6, 'learning_rate': 0.01, 'max_depth': 3, 'n_estimators': 10}\n",
      "0.878716 (0.013241) with: {'colsample_bynode': 0.6, 'learning_rate': 0.01, 'max_depth': 3, 'n_estimators': 25}\n",
      "0.878344 (0.011701) with: {'colsample_bynode': 0.6, 'learning_rate': 0.01, 'max_depth': 3, 'n_estimators': 30}\n",
      "0.878528 (0.014298) with: {'colsample_bynode': 0.6, 'learning_rate': 0.01, 'max_depth': 3, 'n_estimators': 50}\n",
      "0.879085 (0.015532) with: {'colsample_bynode': 0.6, 'learning_rate': 0.01, 'max_depth': 3, 'n_estimators': 100}\n",
      "0.877600 (0.015081) with: {'colsample_bynode': 0.6, 'learning_rate': 0.01, 'max_depth': 3, 'n_estimators': 200}\n",
      "0.886520 (0.013948) with: {'colsample_bynode': 0.6, 'learning_rate': 0.01, 'max_depth': 5, 'n_estimators': 10}\n",
      "0.886523 (0.014224) with: {'colsample_bynode': 0.6, 'learning_rate': 0.01, 'max_depth': 5, 'n_estimators': 25}\n",
      "0.886892 (0.013918) with: {'colsample_bynode': 0.6, 'learning_rate': 0.01, 'max_depth': 5, 'n_estimators': 30}\n",
      "0.887828 (0.012814) with: {'colsample_bynode': 0.6, 'learning_rate': 0.01, 'max_depth': 5, 'n_estimators': 50}\n",
      "0.889875 (0.011403) with: {'colsample_bynode': 0.6, 'learning_rate': 0.01, 'max_depth': 5, 'n_estimators': 100}\n",
      "0.889318 (0.013180) with: {'colsample_bynode': 0.6, 'learning_rate': 0.01, 'max_depth': 5, 'n_estimators': 200}\n",
      "0.884288 (0.016317) with: {'colsample_bynode': 0.6, 'learning_rate': 0.01, 'max_depth': 6, 'n_estimators': 10}\n",
      "0.888571 (0.013389) with: {'colsample_bynode': 0.6, 'learning_rate': 0.01, 'max_depth': 6, 'n_estimators': 25}\n",
      "0.887639 (0.014395) with: {'colsample_bynode': 0.6, 'learning_rate': 0.01, 'max_depth': 6, 'n_estimators': 30}\n",
      "0.888203 (0.015384) with: {'colsample_bynode': 0.6, 'learning_rate': 0.01, 'max_depth': 6, 'n_estimators': 50}\n",
      "0.890622 (0.014412) with: {'colsample_bynode': 0.6, 'learning_rate': 0.01, 'max_depth': 6, 'n_estimators': 100}\n",
      "0.889318 (0.013869) with: {'colsample_bynode': 0.6, 'learning_rate': 0.01, 'max_depth': 6, 'n_estimators': 200}\n",
      "0.881677 (0.019409) with: {'colsample_bynode': 0.6, 'learning_rate': 0.01, 'max_depth': 10, 'n_estimators': 10}\n",
      "0.887263 (0.016422) with: {'colsample_bynode': 0.6, 'learning_rate': 0.01, 'max_depth': 10, 'n_estimators': 25}\n",
      "0.888006 (0.015941) with: {'colsample_bynode': 0.6, 'learning_rate': 0.01, 'max_depth': 10, 'n_estimators': 30}\n",
      "0.888011 (0.015856) with: {'colsample_bynode': 0.6, 'learning_rate': 0.01, 'max_depth': 10, 'n_estimators': 50}\n",
      "0.889501 (0.012581) with: {'colsample_bynode': 0.6, 'learning_rate': 0.01, 'max_depth': 10, 'n_estimators': 100}\n",
      "0.890246 (0.014630) with: {'colsample_bynode': 0.6, 'learning_rate': 0.01, 'max_depth': 10, 'n_estimators': 200}\n",
      "0.881308 (0.019736) with: {'colsample_bynode': 0.6, 'learning_rate': 0.01, 'max_depth': 15, 'n_estimators': 10}\n",
      "0.886520 (0.016154) with: {'colsample_bynode': 0.6, 'learning_rate': 0.01, 'max_depth': 15, 'n_estimators': 25}\n",
      "0.886892 (0.014996) with: {'colsample_bynode': 0.6, 'learning_rate': 0.01, 'max_depth': 15, 'n_estimators': 30}\n",
      "0.887823 (0.016085) with: {'colsample_bynode': 0.6, 'learning_rate': 0.01, 'max_depth': 15, 'n_estimators': 50}\n",
      "0.888756 (0.012127) with: {'colsample_bynode': 0.6, 'learning_rate': 0.01, 'max_depth': 15, 'n_estimators': 100}\n",
      "0.889501 (0.013685) with: {'colsample_bynode': 0.6, 'learning_rate': 0.01, 'max_depth': 15, 'n_estimators': 200}\n",
      "0.881122 (0.019480) with: {'colsample_bynode': 0.6, 'learning_rate': 0.01, 'max_depth': 20, 'n_estimators': 10}\n",
      "0.886705 (0.016084) with: {'colsample_bynode': 0.6, 'learning_rate': 0.01, 'max_depth': 20, 'n_estimators': 25}\n",
      "0.886892 (0.014996) with: {'colsample_bynode': 0.6, 'learning_rate': 0.01, 'max_depth': 20, 'n_estimators': 30}\n",
      "0.887453 (0.015667) with: {'colsample_bynode': 0.6, 'learning_rate': 0.01, 'max_depth': 20, 'n_estimators': 50}\n",
      "0.888200 (0.012333) with: {'colsample_bynode': 0.6, 'learning_rate': 0.01, 'max_depth': 20, 'n_estimators': 100}\n",
      "0.888945 (0.013671) with: {'colsample_bynode': 0.6, 'learning_rate': 0.01, 'max_depth': 20, 'n_estimators': 200}\n",
      "0.881878 (0.014093) with: {'colsample_bynode': 0.6, 'learning_rate': 0.1, 'max_depth': 3, 'n_estimators': 10}\n",
      "0.878716 (0.013241) with: {'colsample_bynode': 0.6, 'learning_rate': 0.1, 'max_depth': 3, 'n_estimators': 25}\n",
      "0.878344 (0.011701) with: {'colsample_bynode': 0.6, 'learning_rate': 0.1, 'max_depth': 3, 'n_estimators': 30}\n",
      "0.878528 (0.014298) with: {'colsample_bynode': 0.6, 'learning_rate': 0.1, 'max_depth': 3, 'n_estimators': 50}\n",
      "0.879085 (0.015532) with: {'colsample_bynode': 0.6, 'learning_rate': 0.1, 'max_depth': 3, 'n_estimators': 100}\n",
      "0.877600 (0.015081) with: {'colsample_bynode': 0.6, 'learning_rate': 0.1, 'max_depth': 3, 'n_estimators': 200}\n",
      "0.886520 (0.013948) with: {'colsample_bynode': 0.6, 'learning_rate': 0.1, 'max_depth': 5, 'n_estimators': 10}\n",
      "0.886523 (0.014224) with: {'colsample_bynode': 0.6, 'learning_rate': 0.1, 'max_depth': 5, 'n_estimators': 25}\n",
      "0.886892 (0.013918) with: {'colsample_bynode': 0.6, 'learning_rate': 0.1, 'max_depth': 5, 'n_estimators': 30}\n",
      "0.887828 (0.012814) with: {'colsample_bynode': 0.6, 'learning_rate': 0.1, 'max_depth': 5, 'n_estimators': 50}\n",
      "0.889875 (0.011403) with: {'colsample_bynode': 0.6, 'learning_rate': 0.1, 'max_depth': 5, 'n_estimators': 100}\n",
      "0.889318 (0.013180) with: {'colsample_bynode': 0.6, 'learning_rate': 0.1, 'max_depth': 5, 'n_estimators': 200}\n",
      "0.884288 (0.016317) with: {'colsample_bynode': 0.6, 'learning_rate': 0.1, 'max_depth': 6, 'n_estimators': 10}\n",
      "0.888571 (0.013389) with: {'colsample_bynode': 0.6, 'learning_rate': 0.1, 'max_depth': 6, 'n_estimators': 25}\n",
      "0.887639 (0.014395) with: {'colsample_bynode': 0.6, 'learning_rate': 0.1, 'max_depth': 6, 'n_estimators': 30}\n",
      "0.888203 (0.015384) with: {'colsample_bynode': 0.6, 'learning_rate': 0.1, 'max_depth': 6, 'n_estimators': 50}\n",
      "0.890622 (0.014412) with: {'colsample_bynode': 0.6, 'learning_rate': 0.1, 'max_depth': 6, 'n_estimators': 100}\n",
      "0.889318 (0.013869) with: {'colsample_bynode': 0.6, 'learning_rate': 0.1, 'max_depth': 6, 'n_estimators': 200}\n",
      "0.881677 (0.019409) with: {'colsample_bynode': 0.6, 'learning_rate': 0.1, 'max_depth': 10, 'n_estimators': 10}\n",
      "0.887263 (0.016422) with: {'colsample_bynode': 0.6, 'learning_rate': 0.1, 'max_depth': 10, 'n_estimators': 25}\n",
      "0.888006 (0.015941) with: {'colsample_bynode': 0.6, 'learning_rate': 0.1, 'max_depth': 10, 'n_estimators': 30}\n",
      "0.888011 (0.015856) with: {'colsample_bynode': 0.6, 'learning_rate': 0.1, 'max_depth': 10, 'n_estimators': 50}\n",
      "0.889501 (0.012581) with: {'colsample_bynode': 0.6, 'learning_rate': 0.1, 'max_depth': 10, 'n_estimators': 100}\n",
      "0.890246 (0.014630) with: {'colsample_bynode': 0.6, 'learning_rate': 0.1, 'max_depth': 10, 'n_estimators': 200}\n",
      "0.881308 (0.019736) with: {'colsample_bynode': 0.6, 'learning_rate': 0.1, 'max_depth': 15, 'n_estimators': 10}\n",
      "0.886520 (0.016154) with: {'colsample_bynode': 0.6, 'learning_rate': 0.1, 'max_depth': 15, 'n_estimators': 25}\n",
      "0.886892 (0.014996) with: {'colsample_bynode': 0.6, 'learning_rate': 0.1, 'max_depth': 15, 'n_estimators': 30}\n",
      "0.887823 (0.016085) with: {'colsample_bynode': 0.6, 'learning_rate': 0.1, 'max_depth': 15, 'n_estimators': 50}\n",
      "0.888756 (0.012127) with: {'colsample_bynode': 0.6, 'learning_rate': 0.1, 'max_depth': 15, 'n_estimators': 100}\n",
      "0.889501 (0.013685) with: {'colsample_bynode': 0.6, 'learning_rate': 0.1, 'max_depth': 15, 'n_estimators': 200}\n",
      "0.881122 (0.019480) with: {'colsample_bynode': 0.6, 'learning_rate': 0.1, 'max_depth': 20, 'n_estimators': 10}\n",
      "0.886705 (0.016084) with: {'colsample_bynode': 0.6, 'learning_rate': 0.1, 'max_depth': 20, 'n_estimators': 25}\n",
      "0.886892 (0.014996) with: {'colsample_bynode': 0.6, 'learning_rate': 0.1, 'max_depth': 20, 'n_estimators': 30}\n",
      "0.887453 (0.015667) with: {'colsample_bynode': 0.6, 'learning_rate': 0.1, 'max_depth': 20, 'n_estimators': 50}\n",
      "0.888200 (0.012333) with: {'colsample_bynode': 0.6, 'learning_rate': 0.1, 'max_depth': 20, 'n_estimators': 100}\n",
      "0.888945 (0.013671) with: {'colsample_bynode': 0.6, 'learning_rate': 0.1, 'max_depth': 20, 'n_estimators': 200}\n",
      "0.881878 (0.014093) with: {'colsample_bynode': 0.6, 'learning_rate': 0.2, 'max_depth': 3, 'n_estimators': 10}\n",
      "0.878716 (0.013241) with: {'colsample_bynode': 0.6, 'learning_rate': 0.2, 'max_depth': 3, 'n_estimators': 25}\n",
      "0.878344 (0.011701) with: {'colsample_bynode': 0.6, 'learning_rate': 0.2, 'max_depth': 3, 'n_estimators': 30}\n",
      "0.878528 (0.014298) with: {'colsample_bynode': 0.6, 'learning_rate': 0.2, 'max_depth': 3, 'n_estimators': 50}\n",
      "0.879085 (0.015532) with: {'colsample_bynode': 0.6, 'learning_rate': 0.2, 'max_depth': 3, 'n_estimators': 100}\n",
      "0.877600 (0.015081) with: {'colsample_bynode': 0.6, 'learning_rate': 0.2, 'max_depth': 3, 'n_estimators': 200}\n",
      "0.886520 (0.013948) with: {'colsample_bynode': 0.6, 'learning_rate': 0.2, 'max_depth': 5, 'n_estimators': 10}\n",
      "0.886523 (0.014224) with: {'colsample_bynode': 0.6, 'learning_rate': 0.2, 'max_depth': 5, 'n_estimators': 25}\n",
      "0.886892 (0.013918) with: {'colsample_bynode': 0.6, 'learning_rate': 0.2, 'max_depth': 5, 'n_estimators': 30}\n",
      "0.887828 (0.012814) with: {'colsample_bynode': 0.6, 'learning_rate': 0.2, 'max_depth': 5, 'n_estimators': 50}\n",
      "0.889875 (0.011403) with: {'colsample_bynode': 0.6, 'learning_rate': 0.2, 'max_depth': 5, 'n_estimators': 100}\n",
      "0.889318 (0.013180) with: {'colsample_bynode': 0.6, 'learning_rate': 0.2, 'max_depth': 5, 'n_estimators': 200}\n",
      "0.884288 (0.016317) with: {'colsample_bynode': 0.6, 'learning_rate': 0.2, 'max_depth': 6, 'n_estimators': 10}\n",
      "0.888571 (0.013389) with: {'colsample_bynode': 0.6, 'learning_rate': 0.2, 'max_depth': 6, 'n_estimators': 25}\n",
      "0.887639 (0.014395) with: {'colsample_bynode': 0.6, 'learning_rate': 0.2, 'max_depth': 6, 'n_estimators': 30}\n",
      "0.888203 (0.015384) with: {'colsample_bynode': 0.6, 'learning_rate': 0.2, 'max_depth': 6, 'n_estimators': 50}\n",
      "0.890622 (0.014412) with: {'colsample_bynode': 0.6, 'learning_rate': 0.2, 'max_depth': 6, 'n_estimators': 100}\n",
      "0.889318 (0.013869) with: {'colsample_bynode': 0.6, 'learning_rate': 0.2, 'max_depth': 6, 'n_estimators': 200}\n",
      "0.881677 (0.019409) with: {'colsample_bynode': 0.6, 'learning_rate': 0.2, 'max_depth': 10, 'n_estimators': 10}\n",
      "0.887263 (0.016422) with: {'colsample_bynode': 0.6, 'learning_rate': 0.2, 'max_depth': 10, 'n_estimators': 25}\n",
      "0.888006 (0.015941) with: {'colsample_bynode': 0.6, 'learning_rate': 0.2, 'max_depth': 10, 'n_estimators': 30}\n",
      "0.888011 (0.015856) with: {'colsample_bynode': 0.6, 'learning_rate': 0.2, 'max_depth': 10, 'n_estimators': 50}\n",
      "0.889501 (0.012581) with: {'colsample_bynode': 0.6, 'learning_rate': 0.2, 'max_depth': 10, 'n_estimators': 100}\n",
      "0.890246 (0.014630) with: {'colsample_bynode': 0.6, 'learning_rate': 0.2, 'max_depth': 10, 'n_estimators': 200}\n",
      "0.881308 (0.019736) with: {'colsample_bynode': 0.6, 'learning_rate': 0.2, 'max_depth': 15, 'n_estimators': 10}\n",
      "0.886520 (0.016154) with: {'colsample_bynode': 0.6, 'learning_rate': 0.2, 'max_depth': 15, 'n_estimators': 25}\n",
      "0.886892 (0.014996) with: {'colsample_bynode': 0.6, 'learning_rate': 0.2, 'max_depth': 15, 'n_estimators': 30}\n",
      "0.887823 (0.016085) with: {'colsample_bynode': 0.6, 'learning_rate': 0.2, 'max_depth': 15, 'n_estimators': 50}\n",
      "0.888756 (0.012127) with: {'colsample_bynode': 0.6, 'learning_rate': 0.2, 'max_depth': 15, 'n_estimators': 100}\n",
      "0.889501 (0.013685) with: {'colsample_bynode': 0.6, 'learning_rate': 0.2, 'max_depth': 15, 'n_estimators': 200}\n",
      "0.881122 (0.019480) with: {'colsample_bynode': 0.6, 'learning_rate': 0.2, 'max_depth': 20, 'n_estimators': 10}\n",
      "0.886705 (0.016084) with: {'colsample_bynode': 0.6, 'learning_rate': 0.2, 'max_depth': 20, 'n_estimators': 25}\n",
      "0.886892 (0.014996) with: {'colsample_bynode': 0.6, 'learning_rate': 0.2, 'max_depth': 20, 'n_estimators': 30}\n",
      "0.887453 (0.015667) with: {'colsample_bynode': 0.6, 'learning_rate': 0.2, 'max_depth': 20, 'n_estimators': 50}\n",
      "0.888200 (0.012333) with: {'colsample_bynode': 0.6, 'learning_rate': 0.2, 'max_depth': 20, 'n_estimators': 100}\n",
      "0.888945 (0.013671) with: {'colsample_bynode': 0.6, 'learning_rate': 0.2, 'max_depth': 20, 'n_estimators': 200}\n",
      "0.881878 (0.014093) with: {'colsample_bynode': 0.6, 'learning_rate': 0.3, 'max_depth': 3, 'n_estimators': 10}\n",
      "0.878716 (0.013241) with: {'colsample_bynode': 0.6, 'learning_rate': 0.3, 'max_depth': 3, 'n_estimators': 25}\n",
      "0.878344 (0.011701) with: {'colsample_bynode': 0.6, 'learning_rate': 0.3, 'max_depth': 3, 'n_estimators': 30}\n",
      "0.878528 (0.014298) with: {'colsample_bynode': 0.6, 'learning_rate': 0.3, 'max_depth': 3, 'n_estimators': 50}\n",
      "0.879085 (0.015532) with: {'colsample_bynode': 0.6, 'learning_rate': 0.3, 'max_depth': 3, 'n_estimators': 100}\n",
      "0.877600 (0.015081) with: {'colsample_bynode': 0.6, 'learning_rate': 0.3, 'max_depth': 3, 'n_estimators': 200}\n",
      "0.886520 (0.013948) with: {'colsample_bynode': 0.6, 'learning_rate': 0.3, 'max_depth': 5, 'n_estimators': 10}\n",
      "0.886523 (0.014224) with: {'colsample_bynode': 0.6, 'learning_rate': 0.3, 'max_depth': 5, 'n_estimators': 25}\n",
      "0.886892 (0.013918) with: {'colsample_bynode': 0.6, 'learning_rate': 0.3, 'max_depth': 5, 'n_estimators': 30}\n",
      "0.887828 (0.012814) with: {'colsample_bynode': 0.6, 'learning_rate': 0.3, 'max_depth': 5, 'n_estimators': 50}\n",
      "0.889875 (0.011403) with: {'colsample_bynode': 0.6, 'learning_rate': 0.3, 'max_depth': 5, 'n_estimators': 100}\n",
      "0.889318 (0.013180) with: {'colsample_bynode': 0.6, 'learning_rate': 0.3, 'max_depth': 5, 'n_estimators': 200}\n",
      "0.884288 (0.016317) with: {'colsample_bynode': 0.6, 'learning_rate': 0.3, 'max_depth': 6, 'n_estimators': 10}\n",
      "0.888571 (0.013389) with: {'colsample_bynode': 0.6, 'learning_rate': 0.3, 'max_depth': 6, 'n_estimators': 25}\n",
      "0.887639 (0.014395) with: {'colsample_bynode': 0.6, 'learning_rate': 0.3, 'max_depth': 6, 'n_estimators': 30}\n",
      "0.888203 (0.015384) with: {'colsample_bynode': 0.6, 'learning_rate': 0.3, 'max_depth': 6, 'n_estimators': 50}\n",
      "0.890622 (0.014412) with: {'colsample_bynode': 0.6, 'learning_rate': 0.3, 'max_depth': 6, 'n_estimators': 100}\n",
      "0.889318 (0.013869) with: {'colsample_bynode': 0.6, 'learning_rate': 0.3, 'max_depth': 6, 'n_estimators': 200}\n",
      "0.881677 (0.019409) with: {'colsample_bynode': 0.6, 'learning_rate': 0.3, 'max_depth': 10, 'n_estimators': 10}\n",
      "0.887263 (0.016422) with: {'colsample_bynode': 0.6, 'learning_rate': 0.3, 'max_depth': 10, 'n_estimators': 25}\n",
      "0.888006 (0.015941) with: {'colsample_bynode': 0.6, 'learning_rate': 0.3, 'max_depth': 10, 'n_estimators': 30}\n",
      "0.888011 (0.015856) with: {'colsample_bynode': 0.6, 'learning_rate': 0.3, 'max_depth': 10, 'n_estimators': 50}\n",
      "0.889501 (0.012581) with: {'colsample_bynode': 0.6, 'learning_rate': 0.3, 'max_depth': 10, 'n_estimators': 100}\n",
      "0.890246 (0.014630) with: {'colsample_bynode': 0.6, 'learning_rate': 0.3, 'max_depth': 10, 'n_estimators': 200}\n",
      "0.881308 (0.019736) with: {'colsample_bynode': 0.6, 'learning_rate': 0.3, 'max_depth': 15, 'n_estimators': 10}\n",
      "0.886520 (0.016154) with: {'colsample_bynode': 0.6, 'learning_rate': 0.3, 'max_depth': 15, 'n_estimators': 25}\n",
      "0.886892 (0.014996) with: {'colsample_bynode': 0.6, 'learning_rate': 0.3, 'max_depth': 15, 'n_estimators': 30}\n",
      "0.887823 (0.016085) with: {'colsample_bynode': 0.6, 'learning_rate': 0.3, 'max_depth': 15, 'n_estimators': 50}\n",
      "0.888756 (0.012127) with: {'colsample_bynode': 0.6, 'learning_rate': 0.3, 'max_depth': 15, 'n_estimators': 100}\n",
      "0.889501 (0.013685) with: {'colsample_bynode': 0.6, 'learning_rate': 0.3, 'max_depth': 15, 'n_estimators': 200}\n",
      "0.881122 (0.019480) with: {'colsample_bynode': 0.6, 'learning_rate': 0.3, 'max_depth': 20, 'n_estimators': 10}\n",
      "0.886705 (0.016084) with: {'colsample_bynode': 0.6, 'learning_rate': 0.3, 'max_depth': 20, 'n_estimators': 25}\n",
      "0.886892 (0.014996) with: {'colsample_bynode': 0.6, 'learning_rate': 0.3, 'max_depth': 20, 'n_estimators': 30}\n",
      "0.887453 (0.015667) with: {'colsample_bynode': 0.6, 'learning_rate': 0.3, 'max_depth': 20, 'n_estimators': 50}\n",
      "0.888200 (0.012333) with: {'colsample_bynode': 0.6, 'learning_rate': 0.3, 'max_depth': 20, 'n_estimators': 100}\n",
      "0.888945 (0.013671) with: {'colsample_bynode': 0.6, 'learning_rate': 0.3, 'max_depth': 20, 'n_estimators': 200}\n",
      "0.883918 (0.013403) with: {'colsample_bynode': 0.8, 'learning_rate': 0.01, 'max_depth': 3, 'n_estimators': 10}\n",
      "0.884291 (0.012963) with: {'colsample_bynode': 0.8, 'learning_rate': 0.01, 'max_depth': 3, 'n_estimators': 25}\n",
      "0.883549 (0.012363) with: {'colsample_bynode': 0.8, 'learning_rate': 0.01, 'max_depth': 3, 'n_estimators': 30}\n",
      "0.883551 (0.011383) with: {'colsample_bynode': 0.8, 'learning_rate': 0.01, 'max_depth': 3, 'n_estimators': 50}\n",
      "0.883555 (0.012310) with: {'colsample_bynode': 0.8, 'learning_rate': 0.01, 'max_depth': 3, 'n_estimators': 100}\n",
      "0.884112 (0.012561) with: {'colsample_bynode': 0.8, 'learning_rate': 0.01, 'max_depth': 3, 'n_estimators': 200}\n",
      "0.885408 (0.016602) with: {'colsample_bynode': 0.8, 'learning_rate': 0.01, 'max_depth': 5, 'n_estimators': 10}\n",
      "0.887268 (0.013927) with: {'colsample_bynode': 0.8, 'learning_rate': 0.01, 'max_depth': 5, 'n_estimators': 25}\n",
      "0.887456 (0.014035) with: {'colsample_bynode': 0.8, 'learning_rate': 0.01, 'max_depth': 5, 'n_estimators': 30}\n",
      "0.888014 (0.012947) with: {'colsample_bynode': 0.8, 'learning_rate': 0.01, 'max_depth': 5, 'n_estimators': 50}\n",
      "0.889690 (0.012992) with: {'colsample_bynode': 0.8, 'learning_rate': 0.01, 'max_depth': 5, 'n_estimators': 100}\n",
      "0.889504 (0.012641) with: {'colsample_bynode': 0.8, 'learning_rate': 0.01, 'max_depth': 5, 'n_estimators': 200}\n",
      "0.885785 (0.014345) with: {'colsample_bynode': 0.8, 'learning_rate': 0.01, 'max_depth': 6, 'n_estimators': 10}\n",
      "0.886525 (0.017302) with: {'colsample_bynode': 0.8, 'learning_rate': 0.01, 'max_depth': 6, 'n_estimators': 25}\n",
      "0.886527 (0.015981) with: {'colsample_bynode': 0.8, 'learning_rate': 0.01, 'max_depth': 6, 'n_estimators': 30}\n",
      "0.887274 (0.013186) with: {'colsample_bynode': 0.8, 'learning_rate': 0.01, 'max_depth': 6, 'n_estimators': 50}\n",
      "0.888946 (0.012553) with: {'colsample_bynode': 0.8, 'learning_rate': 0.01, 'max_depth': 6, 'n_estimators': 100}\n",
      "0.888947 (0.011511) with: {'colsample_bynode': 0.8, 'learning_rate': 0.01, 'max_depth': 6, 'n_estimators': 200}\n",
      "0.885402 (0.017607) with: {'colsample_bynode': 0.8, 'learning_rate': 0.01, 'max_depth': 10, 'n_estimators': 10}\n",
      "0.886148 (0.018225) with: {'colsample_bynode': 0.8, 'learning_rate': 0.01, 'max_depth': 10, 'n_estimators': 25}\n",
      "0.886148 (0.017524) with: {'colsample_bynode': 0.8, 'learning_rate': 0.01, 'max_depth': 10, 'n_estimators': 30}\n",
      "0.886708 (0.015471) with: {'colsample_bynode': 0.8, 'learning_rate': 0.01, 'max_depth': 10, 'n_estimators': 50}\n",
      "0.888008 (0.015863) with: {'colsample_bynode': 0.8, 'learning_rate': 0.01, 'max_depth': 10, 'n_estimators': 100}\n",
      "0.889127 (0.015034) with: {'colsample_bynode': 0.8, 'learning_rate': 0.01, 'max_depth': 10, 'n_estimators': 200}\n",
      "0.886522 (0.017505) with: {'colsample_bynode': 0.8, 'learning_rate': 0.01, 'max_depth': 15, 'n_estimators': 10}\n",
      "0.885031 (0.018402) with: {'colsample_bynode': 0.8, 'learning_rate': 0.01, 'max_depth': 15, 'n_estimators': 25}\n",
      "0.885590 (0.017598) with: {'colsample_bynode': 0.8, 'learning_rate': 0.01, 'max_depth': 15, 'n_estimators': 30}\n",
      "0.886152 (0.015146) with: {'colsample_bynode': 0.8, 'learning_rate': 0.01, 'max_depth': 15, 'n_estimators': 50}\n",
      "0.888940 (0.016209) with: {'colsample_bynode': 0.8, 'learning_rate': 0.01, 'max_depth': 15, 'n_estimators': 100}\n",
      "0.889314 (0.014913) with: {'colsample_bynode': 0.8, 'learning_rate': 0.01, 'max_depth': 15, 'n_estimators': 200}\n",
      "0.886336 (0.017336) with: {'colsample_bynode': 0.8, 'learning_rate': 0.01, 'max_depth': 20, 'n_estimators': 10}\n",
      "0.884661 (0.018094) with: {'colsample_bynode': 0.8, 'learning_rate': 0.01, 'max_depth': 20, 'n_estimators': 25}\n",
      "0.885219 (0.017641) with: {'colsample_bynode': 0.8, 'learning_rate': 0.01, 'max_depth': 20, 'n_estimators': 30}\n",
      "0.886152 (0.015146) with: {'colsample_bynode': 0.8, 'learning_rate': 0.01, 'max_depth': 20, 'n_estimators': 50}\n",
      "0.888384 (0.015586) with: {'colsample_bynode': 0.8, 'learning_rate': 0.01, 'max_depth': 20, 'n_estimators': 100}\n",
      "0.888944 (0.014781) with: {'colsample_bynode': 0.8, 'learning_rate': 0.01, 'max_depth': 20, 'n_estimators': 200}\n",
      "0.883918 (0.013403) with: {'colsample_bynode': 0.8, 'learning_rate': 0.1, 'max_depth': 3, 'n_estimators': 10}\n",
      "0.884291 (0.012963) with: {'colsample_bynode': 0.8, 'learning_rate': 0.1, 'max_depth': 3, 'n_estimators': 25}\n",
      "0.883549 (0.012363) with: {'colsample_bynode': 0.8, 'learning_rate': 0.1, 'max_depth': 3, 'n_estimators': 30}\n",
      "0.883551 (0.011383) with: {'colsample_bynode': 0.8, 'learning_rate': 0.1, 'max_depth': 3, 'n_estimators': 50}\n",
      "0.883555 (0.012310) with: {'colsample_bynode': 0.8, 'learning_rate': 0.1, 'max_depth': 3, 'n_estimators': 100}\n",
      "0.884112 (0.012561) with: {'colsample_bynode': 0.8, 'learning_rate': 0.1, 'max_depth': 3, 'n_estimators': 200}\n",
      "0.885594 (0.015963) with: {'colsample_bynode': 0.8, 'learning_rate': 0.1, 'max_depth': 5, 'n_estimators': 10}\n",
      "0.887268 (0.013927) with: {'colsample_bynode': 0.8, 'learning_rate': 0.1, 'max_depth': 5, 'n_estimators': 25}\n",
      "0.887456 (0.014035) with: {'colsample_bynode': 0.8, 'learning_rate': 0.1, 'max_depth': 5, 'n_estimators': 30}\n",
      "0.888014 (0.012947) with: {'colsample_bynode': 0.8, 'learning_rate': 0.1, 'max_depth': 5, 'n_estimators': 50}\n",
      "0.889690 (0.012992) with: {'colsample_bynode': 0.8, 'learning_rate': 0.1, 'max_depth': 5, 'n_estimators': 100}\n",
      "0.889504 (0.012641) with: {'colsample_bynode': 0.8, 'learning_rate': 0.1, 'max_depth': 5, 'n_estimators': 200}\n",
      "0.885785 (0.014345) with: {'colsample_bynode': 0.8, 'learning_rate': 0.1, 'max_depth': 6, 'n_estimators': 10}\n",
      "0.886525 (0.017302) with: {'colsample_bynode': 0.8, 'learning_rate': 0.1, 'max_depth': 6, 'n_estimators': 25}\n",
      "0.886527 (0.015981) with: {'colsample_bynode': 0.8, 'learning_rate': 0.1, 'max_depth': 6, 'n_estimators': 30}\n",
      "0.887274 (0.013186) with: {'colsample_bynode': 0.8, 'learning_rate': 0.1, 'max_depth': 6, 'n_estimators': 50}\n",
      "0.888946 (0.012553) with: {'colsample_bynode': 0.8, 'learning_rate': 0.1, 'max_depth': 6, 'n_estimators': 100}\n",
      "0.888947 (0.011511) with: {'colsample_bynode': 0.8, 'learning_rate': 0.1, 'max_depth': 6, 'n_estimators': 200}\n",
      "0.885030 (0.017836) with: {'colsample_bynode': 0.8, 'learning_rate': 0.1, 'max_depth': 10, 'n_estimators': 10}\n",
      "0.886148 (0.018225) with: {'colsample_bynode': 0.8, 'learning_rate': 0.1, 'max_depth': 10, 'n_estimators': 25}\n",
      "0.886148 (0.017524) with: {'colsample_bynode': 0.8, 'learning_rate': 0.1, 'max_depth': 10, 'n_estimators': 30}\n",
      "0.886708 (0.015471) with: {'colsample_bynode': 0.8, 'learning_rate': 0.1, 'max_depth': 10, 'n_estimators': 50}\n",
      "0.888008 (0.015863) with: {'colsample_bynode': 0.8, 'learning_rate': 0.1, 'max_depth': 10, 'n_estimators': 100}\n",
      "0.889127 (0.015034) with: {'colsample_bynode': 0.8, 'learning_rate': 0.1, 'max_depth': 10, 'n_estimators': 200}\n",
      "0.886149 (0.017642) with: {'colsample_bynode': 0.8, 'learning_rate': 0.1, 'max_depth': 15, 'n_estimators': 10}\n",
      "0.885031 (0.018402) with: {'colsample_bynode': 0.8, 'learning_rate': 0.1, 'max_depth': 15, 'n_estimators': 25}\n",
      "0.885590 (0.017598) with: {'colsample_bynode': 0.8, 'learning_rate': 0.1, 'max_depth': 15, 'n_estimators': 30}\n",
      "0.886152 (0.015146) with: {'colsample_bynode': 0.8, 'learning_rate': 0.1, 'max_depth': 15, 'n_estimators': 50}\n",
      "0.888940 (0.016209) with: {'colsample_bynode': 0.8, 'learning_rate': 0.1, 'max_depth': 15, 'n_estimators': 100}\n",
      "0.889314 (0.014913) with: {'colsample_bynode': 0.8, 'learning_rate': 0.1, 'max_depth': 15, 'n_estimators': 200}\n",
      "0.885963 (0.017470) with: {'colsample_bynode': 0.8, 'learning_rate': 0.1, 'max_depth': 20, 'n_estimators': 10}\n",
      "0.884661 (0.018094) with: {'colsample_bynode': 0.8, 'learning_rate': 0.1, 'max_depth': 20, 'n_estimators': 25}\n",
      "0.885219 (0.017641) with: {'colsample_bynode': 0.8, 'learning_rate': 0.1, 'max_depth': 20, 'n_estimators': 30}\n",
      "0.886152 (0.015146) with: {'colsample_bynode': 0.8, 'learning_rate': 0.1, 'max_depth': 20, 'n_estimators': 50}\n",
      "0.888384 (0.015586) with: {'colsample_bynode': 0.8, 'learning_rate': 0.1, 'max_depth': 20, 'n_estimators': 100}\n",
      "0.888944 (0.014781) with: {'colsample_bynode': 0.8, 'learning_rate': 0.1, 'max_depth': 20, 'n_estimators': 200}\n",
      "0.883918 (0.013403) with: {'colsample_bynode': 0.8, 'learning_rate': 0.2, 'max_depth': 3, 'n_estimators': 10}\n",
      "0.884291 (0.012963) with: {'colsample_bynode': 0.8, 'learning_rate': 0.2, 'max_depth': 3, 'n_estimators': 25}\n",
      "0.883549 (0.012363) with: {'colsample_bynode': 0.8, 'learning_rate': 0.2, 'max_depth': 3, 'n_estimators': 30}\n",
      "0.883551 (0.011383) with: {'colsample_bynode': 0.8, 'learning_rate': 0.2, 'max_depth': 3, 'n_estimators': 50}\n",
      "0.883555 (0.012310) with: {'colsample_bynode': 0.8, 'learning_rate': 0.2, 'max_depth': 3, 'n_estimators': 100}\n",
      "0.884112 (0.012561) with: {'colsample_bynode': 0.8, 'learning_rate': 0.2, 'max_depth': 3, 'n_estimators': 200}\n",
      "0.885594 (0.015963) with: {'colsample_bynode': 0.8, 'learning_rate': 0.2, 'max_depth': 5, 'n_estimators': 10}\n",
      "0.887268 (0.013927) with: {'colsample_bynode': 0.8, 'learning_rate': 0.2, 'max_depth': 5, 'n_estimators': 25}\n",
      "0.887456 (0.014035) with: {'colsample_bynode': 0.8, 'learning_rate': 0.2, 'max_depth': 5, 'n_estimators': 30}\n",
      "0.888014 (0.012947) with: {'colsample_bynode': 0.8, 'learning_rate': 0.2, 'max_depth': 5, 'n_estimators': 50}\n",
      "0.889690 (0.012992) with: {'colsample_bynode': 0.8, 'learning_rate': 0.2, 'max_depth': 5, 'n_estimators': 100}\n",
      "0.889504 (0.012641) with: {'colsample_bynode': 0.8, 'learning_rate': 0.2, 'max_depth': 5, 'n_estimators': 200}\n",
      "0.885785 (0.014345) with: {'colsample_bynode': 0.8, 'learning_rate': 0.2, 'max_depth': 6, 'n_estimators': 10}\n",
      "0.886525 (0.017302) with: {'colsample_bynode': 0.8, 'learning_rate': 0.2, 'max_depth': 6, 'n_estimators': 25}\n",
      "0.886527 (0.015981) with: {'colsample_bynode': 0.8, 'learning_rate': 0.2, 'max_depth': 6, 'n_estimators': 30}\n",
      "0.887274 (0.013186) with: {'colsample_bynode': 0.8, 'learning_rate': 0.2, 'max_depth': 6, 'n_estimators': 50}\n",
      "0.888946 (0.012553) with: {'colsample_bynode': 0.8, 'learning_rate': 0.2, 'max_depth': 6, 'n_estimators': 100}\n",
      "0.888947 (0.011511) with: {'colsample_bynode': 0.8, 'learning_rate': 0.2, 'max_depth': 6, 'n_estimators': 200}\n",
      "0.885030 (0.017836) with: {'colsample_bynode': 0.8, 'learning_rate': 0.2, 'max_depth': 10, 'n_estimators': 10}\n",
      "0.886148 (0.018225) with: {'colsample_bynode': 0.8, 'learning_rate': 0.2, 'max_depth': 10, 'n_estimators': 25}\n",
      "0.886148 (0.017524) with: {'colsample_bynode': 0.8, 'learning_rate': 0.2, 'max_depth': 10, 'n_estimators': 30}\n",
      "0.886708 (0.015471) with: {'colsample_bynode': 0.8, 'learning_rate': 0.2, 'max_depth': 10, 'n_estimators': 50}\n",
      "0.888008 (0.015863) with: {'colsample_bynode': 0.8, 'learning_rate': 0.2, 'max_depth': 10, 'n_estimators': 100}\n",
      "0.889127 (0.015034) with: {'colsample_bynode': 0.8, 'learning_rate': 0.2, 'max_depth': 10, 'n_estimators': 200}\n",
      "0.886149 (0.017642) with: {'colsample_bynode': 0.8, 'learning_rate': 0.2, 'max_depth': 15, 'n_estimators': 10}\n",
      "0.885031 (0.018402) with: {'colsample_bynode': 0.8, 'learning_rate': 0.2, 'max_depth': 15, 'n_estimators': 25}\n",
      "0.885590 (0.017598) with: {'colsample_bynode': 0.8, 'learning_rate': 0.2, 'max_depth': 15, 'n_estimators': 30}\n",
      "0.886152 (0.015146) with: {'colsample_bynode': 0.8, 'learning_rate': 0.2, 'max_depth': 15, 'n_estimators': 50}\n",
      "0.888940 (0.016209) with: {'colsample_bynode': 0.8, 'learning_rate': 0.2, 'max_depth': 15, 'n_estimators': 100}\n",
      "0.889314 (0.014913) with: {'colsample_bynode': 0.8, 'learning_rate': 0.2, 'max_depth': 15, 'n_estimators': 200}\n",
      "0.885963 (0.017470) with: {'colsample_bynode': 0.8, 'learning_rate': 0.2, 'max_depth': 20, 'n_estimators': 10}\n",
      "0.884661 (0.018094) with: {'colsample_bynode': 0.8, 'learning_rate': 0.2, 'max_depth': 20, 'n_estimators': 25}\n",
      "0.885219 (0.017641) with: {'colsample_bynode': 0.8, 'learning_rate': 0.2, 'max_depth': 20, 'n_estimators': 30}\n",
      "0.886152 (0.015146) with: {'colsample_bynode': 0.8, 'learning_rate': 0.2, 'max_depth': 20, 'n_estimators': 50}\n",
      "0.888384 (0.015586) with: {'colsample_bynode': 0.8, 'learning_rate': 0.2, 'max_depth': 20, 'n_estimators': 100}\n",
      "0.888944 (0.014781) with: {'colsample_bynode': 0.8, 'learning_rate': 0.2, 'max_depth': 20, 'n_estimators': 200}\n",
      "0.883918 (0.013403) with: {'colsample_bynode': 0.8, 'learning_rate': 0.3, 'max_depth': 3, 'n_estimators': 10}\n",
      "0.884291 (0.012963) with: {'colsample_bynode': 0.8, 'learning_rate': 0.3, 'max_depth': 3, 'n_estimators': 25}\n",
      "0.883549 (0.012363) with: {'colsample_bynode': 0.8, 'learning_rate': 0.3, 'max_depth': 3, 'n_estimators': 30}\n",
      "0.883551 (0.011383) with: {'colsample_bynode': 0.8, 'learning_rate': 0.3, 'max_depth': 3, 'n_estimators': 50}\n",
      "0.883555 (0.012310) with: {'colsample_bynode': 0.8, 'learning_rate': 0.3, 'max_depth': 3, 'n_estimators': 100}\n",
      "0.884112 (0.012561) with: {'colsample_bynode': 0.8, 'learning_rate': 0.3, 'max_depth': 3, 'n_estimators': 200}\n",
      "0.885594 (0.015963) with: {'colsample_bynode': 0.8, 'learning_rate': 0.3, 'max_depth': 5, 'n_estimators': 10}\n",
      "0.887268 (0.013927) with: {'colsample_bynode': 0.8, 'learning_rate': 0.3, 'max_depth': 5, 'n_estimators': 25}\n",
      "0.887456 (0.014035) with: {'colsample_bynode': 0.8, 'learning_rate': 0.3, 'max_depth': 5, 'n_estimators': 30}\n",
      "0.888014 (0.012947) with: {'colsample_bynode': 0.8, 'learning_rate': 0.3, 'max_depth': 5, 'n_estimators': 50}\n",
      "0.889690 (0.012992) with: {'colsample_bynode': 0.8, 'learning_rate': 0.3, 'max_depth': 5, 'n_estimators': 100}\n",
      "0.889504 (0.012641) with: {'colsample_bynode': 0.8, 'learning_rate': 0.3, 'max_depth': 5, 'n_estimators': 200}\n",
      "0.885785 (0.014345) with: {'colsample_bynode': 0.8, 'learning_rate': 0.3, 'max_depth': 6, 'n_estimators': 10}\n",
      "0.886525 (0.017302) with: {'colsample_bynode': 0.8, 'learning_rate': 0.3, 'max_depth': 6, 'n_estimators': 25}\n",
      "0.886527 (0.015981) with: {'colsample_bynode': 0.8, 'learning_rate': 0.3, 'max_depth': 6, 'n_estimators': 30}\n",
      "0.887274 (0.013186) with: {'colsample_bynode': 0.8, 'learning_rate': 0.3, 'max_depth': 6, 'n_estimators': 50}\n",
      "0.888946 (0.012553) with: {'colsample_bynode': 0.8, 'learning_rate': 0.3, 'max_depth': 6, 'n_estimators': 100}\n",
      "0.888947 (0.011511) with: {'colsample_bynode': 0.8, 'learning_rate': 0.3, 'max_depth': 6, 'n_estimators': 200}\n",
      "0.885030 (0.017836) with: {'colsample_bynode': 0.8, 'learning_rate': 0.3, 'max_depth': 10, 'n_estimators': 10}\n",
      "0.886148 (0.018225) with: {'colsample_bynode': 0.8, 'learning_rate': 0.3, 'max_depth': 10, 'n_estimators': 25}\n",
      "0.886148 (0.017524) with: {'colsample_bynode': 0.8, 'learning_rate': 0.3, 'max_depth': 10, 'n_estimators': 30}\n",
      "0.886708 (0.015471) with: {'colsample_bynode': 0.8, 'learning_rate': 0.3, 'max_depth': 10, 'n_estimators': 50}\n",
      "0.888008 (0.015863) with: {'colsample_bynode': 0.8, 'learning_rate': 0.3, 'max_depth': 10, 'n_estimators': 100}\n",
      "0.889127 (0.015034) with: {'colsample_bynode': 0.8, 'learning_rate': 0.3, 'max_depth': 10, 'n_estimators': 200}\n",
      "0.886149 (0.017642) with: {'colsample_bynode': 0.8, 'learning_rate': 0.3, 'max_depth': 15, 'n_estimators': 10}\n",
      "0.885031 (0.018402) with: {'colsample_bynode': 0.8, 'learning_rate': 0.3, 'max_depth': 15, 'n_estimators': 25}\n",
      "0.885590 (0.017598) with: {'colsample_bynode': 0.8, 'learning_rate': 0.3, 'max_depth': 15, 'n_estimators': 30}\n",
      "0.886152 (0.015146) with: {'colsample_bynode': 0.8, 'learning_rate': 0.3, 'max_depth': 15, 'n_estimators': 50}\n",
      "0.888940 (0.016209) with: {'colsample_bynode': 0.8, 'learning_rate': 0.3, 'max_depth': 15, 'n_estimators': 100}\n",
      "0.889314 (0.014913) with: {'colsample_bynode': 0.8, 'learning_rate': 0.3, 'max_depth': 15, 'n_estimators': 200}\n",
      "0.885963 (0.017470) with: {'colsample_bynode': 0.8, 'learning_rate': 0.3, 'max_depth': 20, 'n_estimators': 10}\n",
      "0.884661 (0.018094) with: {'colsample_bynode': 0.8, 'learning_rate': 0.3, 'max_depth': 20, 'n_estimators': 25}\n",
      "0.885219 (0.017641) with: {'colsample_bynode': 0.8, 'learning_rate': 0.3, 'max_depth': 20, 'n_estimators': 30}\n",
      "0.886152 (0.015146) with: {'colsample_bynode': 0.8, 'learning_rate': 0.3, 'max_depth': 20, 'n_estimators': 50}\n",
      "0.888384 (0.015586) with: {'colsample_bynode': 0.8, 'learning_rate': 0.3, 'max_depth': 20, 'n_estimators': 100}\n",
      "0.888944 (0.014781) with: {'colsample_bynode': 0.8, 'learning_rate': 0.3, 'max_depth': 20, 'n_estimators': 200}\n"
     ]
    }
   ],
   "source": [
    "#define model\n",
    "xgbrf = XGBRFClassifier()\n",
    "\n",
    "#specifying all hyperparameters with possible values\n",
    "param = {\n",
    "    'max_depth': [3, 5, 6, 10, 15, 20],\n",
    "    'learning_rate': [0.01, 0.1, 0.2, 0.3],\n",
    "    'n_estimators': [10,25,30,50,100,200],\n",
    "    'colsample_bynode': [0.2, 0.4, 0.6, 0.8],\n",
    "}\n",
    "\n",
    "# define grid search\n",
    "cv = RepeatedStratifiedKFold(n_splits=10, n_repeats=3)\n",
    "grid_search = GridSearchCV(estimator=xgbrf, param_grid=param, n_jobs=-1, cv=cv, scoring='accuracy',error_score=0)\n",
    "grid_result = grid_search.fit(X_train, y_train)\n",
    "# summarize results\n",
    "print(\"Best: %f using %s\" % (grid_result.best_score_, grid_result.best_params_))\n",
    "means = grid_result.cv_results_['mean_test_score']\n",
    "stds = grid_result.cv_results_['std_test_score']\n",
    "params = grid_result.cv_results_['params']\n",
    "for mean, stdev, param in zip(means, stds, params):\n",
    "    print(\"%f (%f) with: %r\" % (mean, stdev, param))"
   ]
  },
  {
   "cell_type": "code",
   "execution_count": 30,
   "id": "5b726ae5",
   "metadata": {},
   "outputs": [
    {
     "data": {
      "text/plain": [
       "XGBRFClassifier(base_score=None, booster=None, callbacks=None,\n",
       "                colsample_bylevel=None, colsample_bynode=0.4,\n",
       "                colsample_bytree=None, early_stopping_rounds=None,\n",
       "                enable_categorical=False, eval_metric=None, feature_types=None,\n",
       "                gamma=None, gpu_id=None, grow_policy=None, importance_type=None,\n",
       "                interaction_constraints=None, learning_rate=0.01, max_bin=None,\n",
       "                max_cat_threshold=None, max_cat_to_onehot=None,\n",
       "                max_delta_step=None, max_depth=20, max_leaves=None,\n",
       "                min_child_weight=None, missing=nan, monotone_constraints=None,\n",
       "                n_estimators=25, n_jobs=None, num_parallel_tree=None,\n",
       "                objective='binary:logistic', predictor=None, ...)"
      ]
     },
     "execution_count": 30,
     "metadata": {},
     "output_type": "execute_result"
    }
   ],
   "source": [
    "xgbrf_tunedmodel = XGBRFClassifier(learning_rate=0.01, max_depth=20, n_estimators=25, colsample_bynode= 0.4)\n",
    "xgbrf_tunedmodel.fit(X_train,y_train)"
   ]
  },
  {
   "cell_type": "markdown",
   "id": "c5182739",
   "metadata": {},
   "source": [
    "###### Evaluation"
   ]
  },
  {
   "cell_type": "code",
   "execution_count": 31,
   "id": "ae5422ac",
   "metadata": {},
   "outputs": [
    {
     "name": "stdout",
     "output_type": "stream",
     "text": [
      "Accuracy: 0.871\n",
      "Precision: 0.677\n",
      "Recall: 0.304\n",
      "F1 Score: 0.420\n"
     ]
    }
   ],
   "source": [
    "y_pred_tuned = xgbrf_tunedmodel.predict(X_test)\n",
    "print('Accuracy: %.3f' % accuracy_score(y_test, y_pred_tuned))\n",
    "print('Precision: %.3f' % precision_score(y_test, y_pred_tuned))\n",
    "print('Recall: %.3f' % recall_score(y_test, y_pred_tuned))\n",
    "print('F1 Score: %.3f' % f1_score(y_test, y_pred_tuned))"
   ]
  },
  {
   "cell_type": "code",
   "execution_count": null,
   "id": "63187ff2",
   "metadata": {},
   "outputs": [],
   "source": []
  }
 ],
 "metadata": {
  "kernelspec": {
   "display_name": "Python 3 (ipykernel)",
   "language": "python",
   "name": "python3"
  },
  "language_info": {
   "codemirror_mode": {
    "name": "ipython",
    "version": 3
   },
   "file_extension": ".py",
   "mimetype": "text/x-python",
   "name": "python",
   "nbconvert_exporter": "python",
   "pygments_lexer": "ipython3",
   "version": "3.9.12"
  },
  "widgets": {
   "application/vnd.jupyter.widget-state+json": {
    "state": {},
    "version_major": 2,
    "version_minor": 0
   }
  }
 },
 "nbformat": 4,
 "nbformat_minor": 5
}
