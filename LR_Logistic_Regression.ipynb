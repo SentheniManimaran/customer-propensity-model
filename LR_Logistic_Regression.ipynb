{
 "cells": [
  {
   "cell_type": "markdown",
   "id": "b1d21c78",
   "metadata": {},
   "source": [
    "# Data Cleaning And Preprocessing"
   ]
  },
  {
   "cell_type": "code",
   "execution_count": 1,
   "id": "4283593c",
   "metadata": {},
   "outputs": [],
   "source": [
    "#Data Preprocessing\n",
    "import numpy as np\n",
    "import matplotlib.pyplot as plt\n",
    "import pandas as pd\n",
    "from sklearn import preprocessing\n",
    "from datetime import datetime, date, timedelta\n",
    "import seaborn as sns\n",
    "import plotly.express as px\n",
    "from sklearn import preprocessing\n",
    "\n",
    "#Model Application\n",
    "from sklearn.model_selection import train_test_split\n",
    "from sklearn.linear_model import LogisticRegression\n",
    "\n",
    "#Model Evaluation\n",
    "from sklearn.metrics import confusion_matrix, classification_report\n",
    "from sklearn.metrics import accuracy_score\n",
    "from sklearn.metrics import precision_score\n",
    "from sklearn.metrics import recall_score\n",
    "from sklearn.metrics import f1_score\n",
    "from mlxtend.evaluate import bias_variance_decomp\n",
    "from sklearn import metrics\n",
    "\n",
    "#Parameter Tuning\n",
    "from sklearn.model_selection import GridSearchCV\n",
    "from sklearn.model_selection import RepeatedStratifiedKFold\n",
    "\n",
    "# Ignore all warnings\n",
    "import warnings\n",
    "warnings.filterwarnings('ignore')\n",
    "warnings.filterwarnings(action='ignore', category=DeprecationWarning)\n",
    "pd.set_option('display.max_columns', None)\n",
    "pd.set_option('display.max_rows', None)"
   ]
  },
  {
   "cell_type": "code",
   "execution_count": 2,
   "id": "1fe725ca",
   "metadata": {},
   "outputs": [],
   "source": [
    "np.random.seed(42)"
   ]
  },
  {
   "cell_type": "code",
   "execution_count": 3,
   "id": "b7ed536d",
   "metadata": {},
   "outputs": [],
   "source": [
    "marketing_data = pd.read_csv('marketing_campaign.csv')"
   ]
  },
  {
   "cell_type": "markdown",
   "id": "61f769ec",
   "metadata": {},
   "source": [
    "### Check Null Values"
   ]
  },
  {
   "cell_type": "code",
   "execution_count": 4,
   "id": "4ed019e6",
   "metadata": {},
   "outputs": [
    {
     "name": "stdout",
     "output_type": "stream",
     "text": [
      "52247.25\n"
     ]
    }
   ],
   "source": [
    "mean_income = marketing_data['Income'].mean()\n",
    "print(\"%.2f\" % mean_income)"
   ]
  },
  {
   "cell_type": "code",
   "execution_count": 5,
   "id": "926d2c4d",
   "metadata": {},
   "outputs": [
    {
     "data": {
      "text/plain": [
       "False"
      ]
     },
     "execution_count": 5,
     "metadata": {},
     "output_type": "execute_result"
    }
   ],
   "source": [
    "marketing_data['Income'].fillna(value=mean_income, inplace=True)\n",
    "marketing_data.isnull().values.any()"
   ]
  },
  {
   "cell_type": "markdown",
   "id": "9b2d61d1",
   "metadata": {},
   "source": [
    "### Remove Unwanted Columns "
   ]
  },
  {
   "cell_type": "code",
   "execution_count": 6,
   "id": "fd5eec33",
   "metadata": {},
   "outputs": [],
   "source": [
    "remove_cols= ['Z_CostContact','Z_Revenue']\n",
    "marketing_data = marketing_data.drop(remove_cols,axis=1)"
   ]
  },
  {
   "cell_type": "markdown",
   "id": "7d32ec5e",
   "metadata": {},
   "source": [
    "    "
   ]
  },
  {
   "cell_type": "markdown",
   "id": "d548ca3f",
   "metadata": {},
   "source": [
    "### Alter Data Values"
   ]
  },
  {
   "cell_type": "code",
   "execution_count": 7,
   "id": "942201b1",
   "metadata": {},
   "outputs": [],
   "source": [
    "# Marital Status\n",
    "marketing_data['Marital_Status'] = marketing_data['Marital_Status'].replace(['Together', 'Married'],'Couple')\n",
    "marketing_data['Marital_Status'] = marketing_data['Marital_Status'].replace(['Divorced', 'Widow', 'Alone'],'Single')\n",
    "marketing_data['Marital_Status'] = marketing_data['Marital_Status'].replace(['Absurd', 'YOLO'],'Unspecified')"
   ]
  },
  {
   "cell_type": "code",
   "execution_count": 8,
   "id": "058eed44",
   "metadata": {},
   "outputs": [],
   "source": [
    "# Education\n",
    "marketing_data['Education'] = marketing_data['Education'].replace(['Graduation','Basic', '2n Cycle'],['Graduate','High School','Unspecified'])\n",
    "marketing_data['Education'] = marketing_data['Education'].replace(['PhD','Master'],'Post-Graduate')"
   ]
  },
  {
   "cell_type": "markdown",
   "id": "11473074",
   "metadata": {},
   "source": [
    "### Alter Data Types"
   ]
  },
  {
   "cell_type": "code",
   "execution_count": 9,
   "id": "2b40872b",
   "metadata": {},
   "outputs": [
    {
     "name": "stdout",
     "output_type": "stream",
     "text": [
      "Current Year_Birth Format =  int64\n",
      "Altered Year_Birth Format =  datetime64[ns]\n"
     ]
    }
   ],
   "source": [
    "# Year Birth\n",
    "print(\"Current Year_Birth Format = \", marketing_data['Year_Birth'].dtypes)\n",
    "marketing_data['Year_Birth'] = pd.to_datetime(marketing_data['Year_Birth'], format='%Y')\n",
    "print(\"Altered Year_Birth Format = \",marketing_data['Year_Birth'].dtypes)"
   ]
  },
  {
   "cell_type": "code",
   "execution_count": 10,
   "id": "b92ed724",
   "metadata": {},
   "outputs": [
    {
     "name": "stdout",
     "output_type": "stream",
     "text": [
      "Current Dt_Customer Format =  object\n",
      "Altered Dt_Customer Format =  datetime64[ns]\n"
     ]
    }
   ],
   "source": [
    "# Joined Date\n",
    "print(\"Current Dt_Customer Format = \", marketing_data['Dt_Customer'].dtypes)\n",
    "marketing_data['Dt_Customer'] = pd.to_datetime(marketing_data['Dt_Customer'], format='%Y-%m-%d')\n",
    "print(\"Altered Dt_Customer Format = \", marketing_data['Dt_Customer'].dtypes)"
   ]
  },
  {
   "cell_type": "code",
   "execution_count": 11,
   "id": "0ba02592",
   "metadata": {},
   "outputs": [],
   "source": [
    "# Currency Values to Float\n",
    "marketing_data['MntWines'] = marketing_data['MntWines'].astype(float)\n",
    "marketing_data['MntFruits'] = marketing_data['MntFruits'].astype(float)\n",
    "marketing_data['MntMeatProducts'] = marketing_data['MntMeatProducts'].astype(float)\n",
    "marketing_data['MntFishProducts'] = marketing_data['MntFishProducts'].astype(float)\n",
    "marketing_data['MntSweetProducts'] = marketing_data['MntSweetProducts'].astype(float)\n",
    "marketing_data['MntGoldProds'] = marketing_data['MntGoldProds'].astype(float)"
   ]
  },
  {
   "cell_type": "markdown",
   "id": "54c10f2a",
   "metadata": {},
   "source": [
    "# Feature Engineering"
   ]
  },
  {
   "cell_type": "markdown",
   "id": "2e299f19",
   "metadata": {},
   "source": [
    "### Age"
   ]
  },
  {
   "cell_type": "code",
   "execution_count": 12,
   "id": "4e72896a",
   "metadata": {},
   "outputs": [],
   "source": [
    "#function to calculate age\n",
    "def calculateAge(birthDate):\n",
    "    today = date.today()\n",
    "    age = today.year - birthDate.year - ((today.month, today.day) < (birthDate.month, birthDate.day)) \n",
    "    return age\n",
    "\n",
    "#apply function to all rows\n",
    "marketing_data['Year_Birth'] = marketing_data['Year_Birth'].apply(calculateAge)"
   ]
  },
  {
   "cell_type": "code",
   "execution_count": 13,
   "id": "4b96ffa1",
   "metadata": {},
   "outputs": [
    {
     "name": "stdout",
     "output_type": "stream",
     "text": [
      "0    66\n",
      "1    69\n",
      "2    58\n",
      "3    39\n",
      "4    42\n",
      "Name: Age, dtype: int64\n"
     ]
    }
   ],
   "source": [
    "marketing_data.rename(columns = {'Year_Birth':'Age'}, inplace = True)\n",
    "print(marketing_data['Age'].head())"
   ]
  },
  {
   "cell_type": "markdown",
   "id": "3efdf2a2",
   "metadata": {},
   "source": [
    "### Overall Acceptance Rate"
   ]
  },
  {
   "cell_type": "code",
   "execution_count": 14,
   "id": "3b78509e",
   "metadata": {},
   "outputs": [
    {
     "name": "stdout",
     "output_type": "stream",
     "text": [
      "[0 1 2 3 4]\n"
     ]
    }
   ],
   "source": [
    "marketing_data['Overall_Acceptance_Rate'] = marketing_data['AcceptedCmp1'] + marketing_data['AcceptedCmp2'] + marketing_data['AcceptedCmp3'] + marketing_data['AcceptedCmp4'] + marketing_data['AcceptedCmp5']\n",
    "print(marketing_data['Overall_Acceptance_Rate'].unique())"
   ]
  },
  {
   "cell_type": "markdown",
   "id": "321845fc",
   "metadata": {},
   "source": [
    "### Membership duration"
   ]
  },
  {
   "cell_type": "code",
   "execution_count": 15,
   "id": "1cd7aa4e",
   "metadata": {},
   "outputs": [
    {
     "name": "stdout",
     "output_type": "stream",
     "text": [
      "2014-06-29 00:00:00\n",
      "2012-07-30 00:00:00\n"
     ]
    }
   ],
   "source": [
    "marketing_data['Membership_Duration'] = marketing_data['Dt_Customer'].apply(calculateAge)\n",
    "print(marketing_data['Dt_Customer'].max())\n",
    "print(marketing_data['Dt_Customer'].min())"
   ]
  },
  {
   "cell_type": "markdown",
   "id": "4fbbe5b9",
   "metadata": {},
   "source": [
    "### Total Amount Spent"
   ]
  },
  {
   "cell_type": "code",
   "execution_count": 16,
   "id": "48650e67",
   "metadata": {},
   "outputs": [
    {
     "name": "stdout",
     "output_type": "stream",
     "text": [
      "0    1617.0\n",
      "1      27.0\n",
      "2     776.0\n",
      "3      53.0\n",
      "4     422.0\n",
      "Name: Total_Amt_Spent, dtype: float64\n"
     ]
    }
   ],
   "source": [
    "marketing_data['Total_Amt_Spent'] = marketing_data['MntWines'] + marketing_data['MntFruits'] + marketing_data['MntMeatProducts'] + marketing_data['MntFishProducts'] + marketing_data['MntSweetProducts'] + marketing_data['MntGoldProds']\n",
    "print(marketing_data['Total_Amt_Spent'].head())"
   ]
  },
  {
   "cell_type": "markdown",
   "id": "9d3cf9e3",
   "metadata": {},
   "source": [
    "### Total People In The Household"
   ]
  },
  {
   "cell_type": "code",
   "execution_count": 17,
   "id": "c045f268",
   "metadata": {},
   "outputs": [],
   "source": [
    "total_count = []\n",
    "\n",
    "for status in marketing_data['Marital_Status']:\n",
    "    \n",
    "    adults = 0\n",
    "\n",
    "    if status == 'Couple':\n",
    "        adults = total_count.append(2)  \n",
    "    else:\n",
    "        adults = total_count.append(1)  \n",
    " "
   ]
  },
  {
   "cell_type": "code",
   "execution_count": 18,
   "id": "c67d3cf8",
   "metadata": {},
   "outputs": [
    {
     "name": "stdout",
     "output_type": "stream",
     "text": [
      "0    1\n",
      "1    3\n",
      "2    2\n",
      "3    3\n",
      "4    3\n",
      "Name: Total_People, dtype: int64\n"
     ]
    }
   ],
   "source": [
    "marketing_data['Total_People'] = total_count + marketing_data['Kidhome'] + marketing_data['Teenhome']\n",
    "print(marketing_data['Total_People'].head())"
   ]
  },
  {
   "cell_type": "markdown",
   "id": "5cd9c24c",
   "metadata": {},
   "source": [
    "### Outlier Detection"
   ]
  },
  {
   "cell_type": "code",
   "execution_count": 19,
   "id": "e4145425",
   "metadata": {},
   "outputs": [
    {
     "name": "stdout",
     "output_type": "stream",
     "text": [
      "52247.25135379059\n"
     ]
    }
   ],
   "source": [
    "mode_age = marketing_data['Age'].mode()\n",
    "mean_income = marketing_data['Income'].mean()\n",
    "\n",
    "marketing_data['Age'] = np.where(marketing_data['Age'] >83, mode_age ,marketing_data['Age'])\n",
    "marketing_data['Income'] = marketing_data['Income'].replace([666666.00], mean_income)\n",
    "\n",
    "print(mean_income)"
   ]
  },
  {
   "cell_type": "markdown",
   "id": "5ad4bf54",
   "metadata": {},
   "source": [
    "### Encoding"
   ]
  },
  {
   "cell_type": "code",
   "execution_count": 20,
   "id": "7cb160ac",
   "metadata": {},
   "outputs": [
    {
     "data": {
      "text/html": [
       "<div>\n",
       "<style scoped>\n",
       "    .dataframe tbody tr th:only-of-type {\n",
       "        vertical-align: middle;\n",
       "    }\n",
       "\n",
       "    .dataframe tbody tr th {\n",
       "        vertical-align: top;\n",
       "    }\n",
       "\n",
       "    .dataframe thead th {\n",
       "        text-align: right;\n",
       "    }\n",
       "</style>\n",
       "<table border=\"1\" class=\"dataframe\">\n",
       "  <thead>\n",
       "    <tr style=\"text-align: right;\">\n",
       "      <th></th>\n",
       "      <th>ID</th>\n",
       "      <th>Age</th>\n",
       "      <th>Education</th>\n",
       "      <th>Marital_Status</th>\n",
       "      <th>Income</th>\n",
       "      <th>Kidhome</th>\n",
       "      <th>Teenhome</th>\n",
       "      <th>Dt_Customer</th>\n",
       "      <th>Recency</th>\n",
       "      <th>MntWines</th>\n",
       "      <th>MntFruits</th>\n",
       "      <th>MntMeatProducts</th>\n",
       "      <th>MntFishProducts</th>\n",
       "      <th>MntSweetProducts</th>\n",
       "      <th>MntGoldProds</th>\n",
       "      <th>NumDealsPurchases</th>\n",
       "      <th>NumWebPurchases</th>\n",
       "      <th>NumCatalogPurchases</th>\n",
       "      <th>NumStorePurchases</th>\n",
       "      <th>NumWebVisitsMonth</th>\n",
       "      <th>AcceptedCmp3</th>\n",
       "      <th>AcceptedCmp4</th>\n",
       "      <th>AcceptedCmp5</th>\n",
       "      <th>AcceptedCmp1</th>\n",
       "      <th>AcceptedCmp2</th>\n",
       "      <th>Complain</th>\n",
       "      <th>Response</th>\n",
       "      <th>Overall_Acceptance_Rate</th>\n",
       "      <th>Membership_Duration</th>\n",
       "      <th>Total_Amt_Spent</th>\n",
       "      <th>Total_People</th>\n",
       "    </tr>\n",
       "  </thead>\n",
       "  <tbody>\n",
       "    <tr>\n",
       "      <th>0</th>\n",
       "      <td>5524</td>\n",
       "      <td>66</td>\n",
       "      <td>0</td>\n",
       "      <td>1</td>\n",
       "      <td>58138.0</td>\n",
       "      <td>0</td>\n",
       "      <td>0</td>\n",
       "      <td>2012-09-04</td>\n",
       "      <td>58</td>\n",
       "      <td>635.0</td>\n",
       "      <td>88.0</td>\n",
       "      <td>546.0</td>\n",
       "      <td>172.0</td>\n",
       "      <td>88.0</td>\n",
       "      <td>88.0</td>\n",
       "      <td>3</td>\n",
       "      <td>8</td>\n",
       "      <td>10</td>\n",
       "      <td>4</td>\n",
       "      <td>7</td>\n",
       "      <td>0</td>\n",
       "      <td>0</td>\n",
       "      <td>0</td>\n",
       "      <td>0</td>\n",
       "      <td>0</td>\n",
       "      <td>0</td>\n",
       "      <td>1</td>\n",
       "      <td>0</td>\n",
       "      <td>11</td>\n",
       "      <td>1617.0</td>\n",
       "      <td>1</td>\n",
       "    </tr>\n",
       "    <tr>\n",
       "      <th>1</th>\n",
       "      <td>2174</td>\n",
       "      <td>69</td>\n",
       "      <td>0</td>\n",
       "      <td>1</td>\n",
       "      <td>46344.0</td>\n",
       "      <td>1</td>\n",
       "      <td>1</td>\n",
       "      <td>2014-03-08</td>\n",
       "      <td>38</td>\n",
       "      <td>11.0</td>\n",
       "      <td>1.0</td>\n",
       "      <td>6.0</td>\n",
       "      <td>2.0</td>\n",
       "      <td>1.0</td>\n",
       "      <td>6.0</td>\n",
       "      <td>2</td>\n",
       "      <td>1</td>\n",
       "      <td>1</td>\n",
       "      <td>2</td>\n",
       "      <td>5</td>\n",
       "      <td>0</td>\n",
       "      <td>0</td>\n",
       "      <td>0</td>\n",
       "      <td>0</td>\n",
       "      <td>0</td>\n",
       "      <td>0</td>\n",
       "      <td>0</td>\n",
       "      <td>0</td>\n",
       "      <td>9</td>\n",
       "      <td>27.0</td>\n",
       "      <td>3</td>\n",
       "    </tr>\n",
       "    <tr>\n",
       "      <th>2</th>\n",
       "      <td>4141</td>\n",
       "      <td>58</td>\n",
       "      <td>0</td>\n",
       "      <td>0</td>\n",
       "      <td>71613.0</td>\n",
       "      <td>0</td>\n",
       "      <td>0</td>\n",
       "      <td>2013-08-21</td>\n",
       "      <td>26</td>\n",
       "      <td>426.0</td>\n",
       "      <td>49.0</td>\n",
       "      <td>127.0</td>\n",
       "      <td>111.0</td>\n",
       "      <td>21.0</td>\n",
       "      <td>42.0</td>\n",
       "      <td>1</td>\n",
       "      <td>8</td>\n",
       "      <td>2</td>\n",
       "      <td>10</td>\n",
       "      <td>4</td>\n",
       "      <td>0</td>\n",
       "      <td>0</td>\n",
       "      <td>0</td>\n",
       "      <td>0</td>\n",
       "      <td>0</td>\n",
       "      <td>0</td>\n",
       "      <td>0</td>\n",
       "      <td>0</td>\n",
       "      <td>10</td>\n",
       "      <td>776.0</td>\n",
       "      <td>2</td>\n",
       "    </tr>\n",
       "    <tr>\n",
       "      <th>3</th>\n",
       "      <td>6182</td>\n",
       "      <td>39</td>\n",
       "      <td>0</td>\n",
       "      <td>0</td>\n",
       "      <td>26646.0</td>\n",
       "      <td>1</td>\n",
       "      <td>0</td>\n",
       "      <td>2014-02-10</td>\n",
       "      <td>26</td>\n",
       "      <td>11.0</td>\n",
       "      <td>4.0</td>\n",
       "      <td>20.0</td>\n",
       "      <td>10.0</td>\n",
       "      <td>3.0</td>\n",
       "      <td>5.0</td>\n",
       "      <td>2</td>\n",
       "      <td>2</td>\n",
       "      <td>0</td>\n",
       "      <td>4</td>\n",
       "      <td>6</td>\n",
       "      <td>0</td>\n",
       "      <td>0</td>\n",
       "      <td>0</td>\n",
       "      <td>0</td>\n",
       "      <td>0</td>\n",
       "      <td>0</td>\n",
       "      <td>0</td>\n",
       "      <td>0</td>\n",
       "      <td>9</td>\n",
       "      <td>53.0</td>\n",
       "      <td>3</td>\n",
       "    </tr>\n",
       "    <tr>\n",
       "      <th>4</th>\n",
       "      <td>5324</td>\n",
       "      <td>42</td>\n",
       "      <td>2</td>\n",
       "      <td>0</td>\n",
       "      <td>58293.0</td>\n",
       "      <td>1</td>\n",
       "      <td>0</td>\n",
       "      <td>2014-01-19</td>\n",
       "      <td>94</td>\n",
       "      <td>173.0</td>\n",
       "      <td>43.0</td>\n",
       "      <td>118.0</td>\n",
       "      <td>46.0</td>\n",
       "      <td>27.0</td>\n",
       "      <td>15.0</td>\n",
       "      <td>5</td>\n",
       "      <td>5</td>\n",
       "      <td>3</td>\n",
       "      <td>6</td>\n",
       "      <td>5</td>\n",
       "      <td>0</td>\n",
       "      <td>0</td>\n",
       "      <td>0</td>\n",
       "      <td>0</td>\n",
       "      <td>0</td>\n",
       "      <td>0</td>\n",
       "      <td>0</td>\n",
       "      <td>0</td>\n",
       "      <td>9</td>\n",
       "      <td>422.0</td>\n",
       "      <td>3</td>\n",
       "    </tr>\n",
       "  </tbody>\n",
       "</table>\n",
       "</div>"
      ],
      "text/plain": [
       "     ID  Age  Education  Marital_Status   Income  Kidhome  Teenhome  \\\n",
       "0  5524   66          0               1  58138.0        0         0   \n",
       "1  2174   69          0               1  46344.0        1         1   \n",
       "2  4141   58          0               0  71613.0        0         0   \n",
       "3  6182   39          0               0  26646.0        1         0   \n",
       "4  5324   42          2               0  58293.0        1         0   \n",
       "\n",
       "  Dt_Customer  Recency  MntWines  MntFruits  MntMeatProducts  MntFishProducts  \\\n",
       "0  2012-09-04       58     635.0       88.0            546.0            172.0   \n",
       "1  2014-03-08       38      11.0        1.0              6.0              2.0   \n",
       "2  2013-08-21       26     426.0       49.0            127.0            111.0   \n",
       "3  2014-02-10       26      11.0        4.0             20.0             10.0   \n",
       "4  2014-01-19       94     173.0       43.0            118.0             46.0   \n",
       "\n",
       "   MntSweetProducts  MntGoldProds  NumDealsPurchases  NumWebPurchases  \\\n",
       "0              88.0          88.0                  3                8   \n",
       "1               1.0           6.0                  2                1   \n",
       "2              21.0          42.0                  1                8   \n",
       "3               3.0           5.0                  2                2   \n",
       "4              27.0          15.0                  5                5   \n",
       "\n",
       "   NumCatalogPurchases  NumStorePurchases  NumWebVisitsMonth  AcceptedCmp3  \\\n",
       "0                   10                  4                  7             0   \n",
       "1                    1                  2                  5             0   \n",
       "2                    2                 10                  4             0   \n",
       "3                    0                  4                  6             0   \n",
       "4                    3                  6                  5             0   \n",
       "\n",
       "   AcceptedCmp4  AcceptedCmp5  AcceptedCmp1  AcceptedCmp2  Complain  Response  \\\n",
       "0             0             0             0             0         0         1   \n",
       "1             0             0             0             0         0         0   \n",
       "2             0             0             0             0         0         0   \n",
       "3             0             0             0             0         0         0   \n",
       "4             0             0             0             0         0         0   \n",
       "\n",
       "   Overall_Acceptance_Rate  Membership_Duration  Total_Amt_Spent  Total_People  \n",
       "0                        0                   11           1617.0             1  \n",
       "1                        0                    9             27.0             3  \n",
       "2                        0                   10            776.0             2  \n",
       "3                        0                    9             53.0             3  \n",
       "4                        0                    9            422.0             3  "
      ]
     },
     "execution_count": 20,
     "metadata": {},
     "output_type": "execute_result"
    }
   ],
   "source": [
    "unencoded_cols = ['Education','Marital_Status']\n",
    "le = preprocessing.LabelEncoder()\n",
    "enc_marketing_data = marketing_data.copy()\n",
    "\n",
    "for col in unencoded_cols:\n",
    "    enc_marketing_data[col] = le.fit_transform(marketing_data[col])\n",
    "    \n",
    "enc_marketing_data.head()"
   ]
  },
  {
   "cell_type": "markdown",
   "id": "a876f0af",
   "metadata": {},
   "source": [
    "### Log Transformation"
   ]
  },
  {
   "cell_type": "code",
   "execution_count": 22,
   "id": "a1b44c19",
   "metadata": {
    "scrolled": false
   },
   "outputs": [],
   "source": [
    "cols = ['Income','MntWines','MntFruits','MntMeatProducts','MntFishProducts','MntSweetProducts','MntGoldProds','NumDealsPurchases','NumCatalogPurchases','NumStorePurchases','NumWebVisitsMonth','Total_Amt_Spent']\n",
    "\n",
    "for chosen_col in cols:\n",
    "    enc_marketing_data[chosen_col] = np.log(enc_marketing_data[chosen_col] + 1)\n"
   ]
  },
  {
   "cell_type": "markdown",
   "id": "6b86dd7c",
   "metadata": {},
   "source": [
    "# Feature Selection"
   ]
  },
  {
   "cell_type": "code",
   "execution_count": 23,
   "id": "48c81810",
   "metadata": {},
   "outputs": [],
   "source": [
    "cols_to_remove = ['ID', 'Dt_Customer']\n",
    "enc_marketing_data.drop(cols_to_remove, axis=1, inplace=True)"
   ]
  },
  {
   "cell_type": "code",
   "execution_count": 24,
   "id": "d81903cd",
   "metadata": {},
   "outputs": [
    {
     "data": {
      "text/plain": [
       "(2240, 27)"
      ]
     },
     "execution_count": 24,
     "metadata": {},
     "output_type": "execute_result"
    }
   ],
   "source": [
    "cols_to_remove = ['Complain','Overall_Acceptance_Rate']\n",
    "enc_marketing_data.drop(cols_to_remove, axis=1, inplace=True)\n",
    "enc_marketing_data.shape"
   ]
  },
  {
   "cell_type": "markdown",
   "id": "52350215",
   "metadata": {},
   "source": [
    "# Model Application And Evaluation"
   ]
  },
  {
   "cell_type": "markdown",
   "id": "bb4c7287",
   "metadata": {},
   "source": [
    "### Base Model"
   ]
  },
  {
   "cell_type": "markdown",
   "id": "9bd0dcf0",
   "metadata": {},
   "source": [
    "##### Application"
   ]
  },
  {
   "cell_type": "code",
   "execution_count": 25,
   "id": "0ae248ce",
   "metadata": {},
   "outputs": [],
   "source": [
    "# Split the data into features (X) and target (y)\n",
    "X = enc_marketing_data\n",
    "y = enc_marketing_data.pop('Response')"
   ]
  },
  {
   "cell_type": "code",
   "execution_count": 26,
   "id": "bb0736c5",
   "metadata": {},
   "outputs": [
    {
     "name": "stdout",
     "output_type": "stream",
     "text": [
      "Train size X :  (1792, 26)\n",
      "Train size y :  (1792,)\n",
      "\n",
      "Test size X :  (448, 26)\n",
      "Test size y :  (448,)\n"
     ]
    }
   ],
   "source": [
    "# Train test split\n",
    "X_train, X_test, y_train, y_test = train_test_split(X, y, random_state = 42, test_size = 0.2)\n",
    "\n",
    "X_train_arr = np.array(X_train)\n",
    "y_train_arr = np.array(y_train)\n",
    "X_test_arr = np.array(X_test)\n",
    "y_test_arr = np.array(y_test)\n",
    "\n",
    "print(\"Train size X : \",X_train.shape)\n",
    "print(\"Train size y : \",y_train.shape)\n",
    "print(\"\\nTest size X : \",X_test.shape)\n",
    "print(\"Test size y : \",y_test.shape)"
   ]
  },
  {
   "cell_type": "code",
   "execution_count": 27,
   "id": "a20de14e",
   "metadata": {},
   "outputs": [
    {
     "data": {
      "text/plain": [
       "LogisticRegression(class_weight='balanced')"
      ]
     },
     "execution_count": 27,
     "metadata": {},
     "output_type": "execute_result"
    }
   ],
   "source": [
    "#Training the model\n",
    "lr_basemodel = LogisticRegression(class_weight='balanced')\n",
    "lr_basemodel.fit(X_train,y_train)"
   ]
  },
  {
   "cell_type": "markdown",
   "id": "296e723b",
   "metadata": {},
   "source": [
    "##### Evaluation"
   ]
  },
  {
   "cell_type": "code",
   "execution_count": 28,
   "id": "a915fbde",
   "metadata": {},
   "outputs": [
    {
     "name": "stdout",
     "output_type": "stream",
     "text": [
      "Accuracy: 0.808\n",
      "Precision: 0.429\n",
      "Recall: 0.739\n",
      "F1 Score: 0.543\n"
     ]
    }
   ],
   "source": [
    "y_pred_base = lr_basemodel.predict(X_test)\n",
    "print('Accuracy: %.3f' % accuracy_score(y_test, y_pred_base))\n",
    "print('Precision: %.3f' % precision_score(y_test, y_pred_base))\n",
    "print('Recall: %.3f' % recall_score(y_test, y_pred_base))\n",
    "print('F1 Score: %.3f' % f1_score(y_test, y_pred_base))"
   ]
  },
  {
   "cell_type": "markdown",
   "id": "bcbd5994",
   "metadata": {},
   "source": [
    "### Tuned Model"
   ]
  },
  {
   "cell_type": "markdown",
   "id": "9187d592",
   "metadata": {},
   "source": [
    "##### Application"
   ]
  },
  {
   "cell_type": "code",
   "execution_count": 31,
   "id": "6141a598",
   "metadata": {},
   "outputs": [
    {
     "name": "stdout",
     "output_type": "stream",
     "text": [
      "Best: 0.895833 using {'C': 1, 'penalty': 'l2', 'solver': 'newton-cg'}\n",
      "0.000000 (0.000000) with: {'C': 0.1, 'penalty': 'l1', 'solver': 'lbfgs'}\n",
      "0.891735 (0.019028) with: {'C': 0.1, 'penalty': 'l1', 'solver': 'liblinear'}\n",
      "0.000000 (0.000000) with: {'C': 0.1, 'penalty': 'l1', 'solver': 'newton-cg'}\n",
      "0.000000 (0.000000) with: {'C': 0.1, 'penalty': 'l1', 'solver': 'newton-cholesky'}\n",
      "0.000000 (0.000000) with: {'C': 0.1, 'penalty': 'l1', 'solver': 'sag'}\n",
      "0.869414 (0.015269) with: {'C': 0.1, 'penalty': 'l1', 'solver': 'saga'}\n",
      "0.893598 (0.018919) with: {'C': 0.1, 'penalty': 'l2', 'solver': 'lbfgs'}\n",
      "0.893227 (0.019070) with: {'C': 0.1, 'penalty': 'l2', 'solver': 'liblinear'}\n",
      "0.893597 (0.019467) with: {'C': 0.1, 'penalty': 'l2', 'solver': 'newton-cg'}\n",
      "0.000000 (0.000000) with: {'C': 0.1, 'penalty': 'l2', 'solver': 'newton-cholesky'}\n",
      "0.883925 (0.018726) with: {'C': 0.1, 'penalty': 'l2', 'solver': 'sag'}\n",
      "0.876113 (0.016487) with: {'C': 0.1, 'penalty': 'l2', 'solver': 'saga'}\n",
      "0.000000 (0.000000) with: {'C': 0.5, 'penalty': 'l1', 'solver': 'lbfgs'}\n",
      "0.890997 (0.020067) with: {'C': 0.5, 'penalty': 'l1', 'solver': 'liblinear'}\n",
      "0.000000 (0.000000) with: {'C': 0.5, 'penalty': 'l1', 'solver': 'newton-cg'}\n",
      "0.000000 (0.000000) with: {'C': 0.5, 'penalty': 'l1', 'solver': 'newton-cholesky'}\n",
      "0.000000 (0.000000) with: {'C': 0.5, 'penalty': 'l1', 'solver': 'sag'}\n",
      "0.877040 (0.016449) with: {'C': 0.5, 'penalty': 'l1', 'solver': 'saga'}\n",
      "0.891739 (0.018897) with: {'C': 0.5, 'penalty': 'l2', 'solver': 'lbfgs'}\n",
      "0.891555 (0.017340) with: {'C': 0.5, 'penalty': 'l2', 'solver': 'liblinear'}\n",
      "0.895458 (0.017255) with: {'C': 0.5, 'penalty': 'l2', 'solver': 'newton-cg'}\n",
      "0.000000 (0.000000) with: {'C': 0.5, 'penalty': 'l2', 'solver': 'newton-cholesky'}\n",
      "0.886157 (0.019767) with: {'C': 0.5, 'penalty': 'l2', 'solver': 'sag'}\n",
      "0.876485 (0.017006) with: {'C': 0.5, 'penalty': 'l2', 'solver': 'saga'}\n",
      "0.000000 (0.000000) with: {'C': 1, 'penalty': 'l1', 'solver': 'lbfgs'}\n",
      "0.894158 (0.017691) with: {'C': 1, 'penalty': 'l1', 'solver': 'liblinear'}\n",
      "0.000000 (0.000000) with: {'C': 1, 'penalty': 'l1', 'solver': 'newton-cg'}\n",
      "0.000000 (0.000000) with: {'C': 1, 'penalty': 'l1', 'solver': 'newton-cholesky'}\n",
      "0.000000 (0.000000) with: {'C': 1, 'penalty': 'l1', 'solver': 'sag'}\n",
      "0.876855 (0.016659) with: {'C': 1, 'penalty': 'l1', 'solver': 'saga'}\n",
      "0.892672 (0.019262) with: {'C': 1, 'penalty': 'l2', 'solver': 'lbfgs'}\n",
      "0.892112 (0.017086) with: {'C': 1, 'penalty': 'l2', 'solver': 'liblinear'}\n",
      "0.895833 (0.017911) with: {'C': 1, 'penalty': 'l2', 'solver': 'newton-cg'}\n",
      "0.000000 (0.000000) with: {'C': 1, 'penalty': 'l2', 'solver': 'newton-cholesky'}\n",
      "0.885784 (0.019933) with: {'C': 1, 'penalty': 'l2', 'solver': 'sag'}\n",
      "0.876670 (0.016989) with: {'C': 1, 'penalty': 'l2', 'solver': 'saga'}\n",
      "0.000000 (0.000000) with: {'C': 10, 'penalty': 'l1', 'solver': 'lbfgs'}\n",
      "0.893976 (0.017626) with: {'C': 10, 'penalty': 'l1', 'solver': 'liblinear'}\n",
      "0.000000 (0.000000) with: {'C': 10, 'penalty': 'l1', 'solver': 'newton-cg'}\n",
      "0.000000 (0.000000) with: {'C': 10, 'penalty': 'l1', 'solver': 'newton-cholesky'}\n",
      "0.000000 (0.000000) with: {'C': 10, 'penalty': 'l1', 'solver': 'sag'}\n",
      "0.876670 (0.016989) with: {'C': 10, 'penalty': 'l1', 'solver': 'saga'}\n",
      "0.891180 (0.018849) with: {'C': 10, 'penalty': 'l2', 'solver': 'lbfgs'}\n",
      "0.893973 (0.016247) with: {'C': 10, 'penalty': 'l2', 'solver': 'liblinear'}\n",
      "0.893974 (0.018335) with: {'C': 10, 'penalty': 'l2', 'solver': 'newton-cg'}\n",
      "0.000000 (0.000000) with: {'C': 10, 'penalty': 'l2', 'solver': 'newton-cholesky'}\n",
      "0.885969 (0.020038) with: {'C': 10, 'penalty': 'l2', 'solver': 'sag'}\n",
      "0.876298 (0.016968) with: {'C': 10, 'penalty': 'l2', 'solver': 'saga'}\n",
      "0.000000 (0.000000) with: {'C': 15, 'penalty': 'l1', 'solver': 'lbfgs'}\n",
      "0.894162 (0.018347) with: {'C': 15, 'penalty': 'l1', 'solver': 'liblinear'}\n",
      "0.000000 (0.000000) with: {'C': 15, 'penalty': 'l1', 'solver': 'newton-cg'}\n",
      "0.000000 (0.000000) with: {'C': 15, 'penalty': 'l1', 'solver': 'newton-cholesky'}\n",
      "0.000000 (0.000000) with: {'C': 15, 'penalty': 'l1', 'solver': 'sag'}\n",
      "0.876298 (0.016968) with: {'C': 15, 'penalty': 'l1', 'solver': 'saga'}\n",
      "0.892852 (0.019492) with: {'C': 15, 'penalty': 'l2', 'solver': 'lbfgs'}\n",
      "0.894345 (0.016362) with: {'C': 15, 'penalty': 'l2', 'solver': 'liblinear'}\n",
      "0.893974 (0.018335) with: {'C': 15, 'penalty': 'l2', 'solver': 'newton-cg'}\n",
      "0.000000 (0.000000) with: {'C': 15, 'penalty': 'l2', 'solver': 'newton-cholesky'}\n",
      "0.886342 (0.019974) with: {'C': 15, 'penalty': 'l2', 'solver': 'sag'}\n",
      "0.876485 (0.017006) with: {'C': 15, 'penalty': 'l2', 'solver': 'saga'}\n",
      "0.000000 (0.000000) with: {'C': 20, 'penalty': 'l1', 'solver': 'lbfgs'}\n",
      "0.893975 (0.018328) with: {'C': 20, 'penalty': 'l1', 'solver': 'liblinear'}\n",
      "0.000000 (0.000000) with: {'C': 20, 'penalty': 'l1', 'solver': 'newton-cg'}\n",
      "0.000000 (0.000000) with: {'C': 20, 'penalty': 'l1', 'solver': 'newton-cholesky'}\n",
      "0.000000 (0.000000) with: {'C': 20, 'penalty': 'l1', 'solver': 'sag'}\n",
      "0.876298 (0.016968) with: {'C': 20, 'penalty': 'l1', 'solver': 'saga'}\n",
      "0.891551 (0.019399) with: {'C': 20, 'penalty': 'l2', 'solver': 'lbfgs'}\n",
      "0.894346 (0.016544) with: {'C': 20, 'penalty': 'l2', 'solver': 'liblinear'}\n",
      "0.893974 (0.018335) with: {'C': 20, 'penalty': 'l2', 'solver': 'newton-cg'}\n",
      "0.000000 (0.000000) with: {'C': 20, 'penalty': 'l2', 'solver': 'newton-cholesky'}\n",
      "0.885969 (0.020038) with: {'C': 20, 'penalty': 'l2', 'solver': 'sag'}\n",
      "0.876298 (0.016968) with: {'C': 20, 'penalty': 'l2', 'solver': 'saga'}\n"
     ]
    }
   ],
   "source": [
    "#define model\n",
    "lr=LogisticRegression()\n",
    "#specifying all hyperparameters with possible values\n",
    "param= {'C': [0.1, 0.5, 1,10,15,20],'solver': ['lbfgs', 'liblinear', 'newton-cg', 'newton-cholesky', 'sag', 'saga'] ,'penalty': ['l1', 'l2']}\n",
    "\n",
    "# define grid search\n",
    "cv = RepeatedStratifiedKFold(n_splits=10, n_repeats=3)\n",
    "grid_search = GridSearchCV(estimator=lr, param_grid=param, n_jobs=-1, cv=cv, scoring='accuracy',error_score=0)\n",
    "grid_result = grid_search.fit(X_train, y_train)\n",
    "# summarize results\n",
    "print(\"Best: %f using %s\" % (grid_result.best_score_, grid_result.best_params_))\n",
    "means = grid_result.cv_results_['mean_test_score']\n",
    "stds = grid_result.cv_results_['std_test_score']\n",
    "params = grid_result.cv_results_['params']\n",
    "for mean, stdev, param in zip(means, stds, params):\n",
    "    print(\"%f (%f) with: %r\" % (mean, stdev, param))"
   ]
  },
  {
   "cell_type": "code",
   "execution_count": 29,
   "id": "cf191880",
   "metadata": {},
   "outputs": [
    {
     "data": {
      "text/plain": [
       "LogisticRegression(C=1, class_weight='balanced', solver='newton-cg')"
      ]
     },
     "execution_count": 29,
     "metadata": {},
     "output_type": "execute_result"
    }
   ],
   "source": [
    "lr_tunedmodel = LogisticRegression(C=1, penalty='l2', solver= 'newton-cg',class_weight='balanced')\n",
    "lr_tunedmodel.fit(X_train,y_train)"
   ]
  },
  {
   "cell_type": "markdown",
   "id": "9a8fc01f",
   "metadata": {},
   "source": [
    "###### Evaluation "
   ]
  },
  {
   "cell_type": "code",
   "execution_count": 30,
   "id": "36cd8961",
   "metadata": {},
   "outputs": [
    {
     "name": "stdout",
     "output_type": "stream",
     "text": [
      "Accuracy: 0.819\n",
      "Precision: 0.446\n",
      "Recall: 0.725\n",
      "F1 Score: 0.552\n"
     ]
    }
   ],
   "source": [
    "y_pred_tuned = lr_tunedmodel.predict(X_test)\n",
    "print('Accuracy: %.3f' % accuracy_score(y_test, y_pred_tuned))\n",
    "print('Precision: %.3f' % precision_score(y_test, y_pred_tuned))\n",
    "print('Recall: %.3f' % recall_score(y_test, y_pred_tuned))\n",
    "print('F1 Score: %.3f' % f1_score(y_test, y_pred_tuned))"
   ]
  },
  {
   "cell_type": "code",
   "execution_count": null,
   "id": "f80821f6",
   "metadata": {},
   "outputs": [],
   "source": []
  }
 ],
 "metadata": {
  "kernelspec": {
   "display_name": "Python 3 (ipykernel)",
   "language": "python",
   "name": "python3"
  },
  "language_info": {
   "codemirror_mode": {
    "name": "ipython",
    "version": 3
   },
   "file_extension": ".py",
   "mimetype": "text/x-python",
   "name": "python",
   "nbconvert_exporter": "python",
   "pygments_lexer": "ipython3",
   "version": "3.9.12"
  }
 },
 "nbformat": 4,
 "nbformat_minor": 5
}
