{
 "cells": [
  {
   "cell_type": "markdown",
   "id": "b1d21c78",
   "metadata": {},
   "source": [
    "# Data Cleaning And Preprocessing"
   ]
  },
  {
   "cell_type": "code",
   "execution_count": 1,
   "id": "4283593c",
   "metadata": {},
   "outputs": [],
   "source": [
    "#Data Preprocessing\n",
    "import numpy as np\n",
    "import matplotlib.pyplot as plt\n",
    "import pandas as pd\n",
    "from sklearn import preprocessing\n",
    "from datetime import datetime, date, timedelta\n",
    "import seaborn as sns\n",
    "import plotly.express as px\n",
    "from sklearn import preprocessing\n",
    "\n",
    "#Model Application\n",
    "from sklearn.model_selection import train_test_split\n",
    "from sklearn.ensemble import RandomForestClassifier\n",
    "\n",
    "#Model Evaluation\n",
    "from sklearn.metrics import confusion_matrix, classification_report\n",
    "from sklearn.metrics import accuracy_score\n",
    "from sklearn.metrics import precision_score\n",
    "from sklearn.metrics import recall_score\n",
    "from sklearn.metrics import f1_score\n",
    "from mlxtend.evaluate import bias_variance_decomp\n",
    "from sklearn import metrics\n",
    "\n",
    "#Parameter Tuning\n",
    "from sklearn.model_selection import GridSearchCV\n",
    "from sklearn.model_selection import RepeatedStratifiedKFold\n",
    "\n",
    "# Ignore all warnings\n",
    "import warnings\n",
    "warnings.filterwarnings('ignore')\n",
    "warnings.filterwarnings(action='ignore', category=DeprecationWarning)\n",
    "pd.set_option('display.max_columns', None)\n",
    "pd.set_option('display.max_rows', None)"
   ]
  },
  {
   "cell_type": "code",
   "execution_count": 2,
   "id": "1fe725ca",
   "metadata": {},
   "outputs": [],
   "source": [
    "np.random.seed(42)"
   ]
  },
  {
   "cell_type": "code",
   "execution_count": 3,
   "id": "b7ed536d",
   "metadata": {},
   "outputs": [],
   "source": [
    "marketing_data = pd.read_csv('marketing_campaign.csv')"
   ]
  },
  {
   "cell_type": "markdown",
   "id": "61f769ec",
   "metadata": {},
   "source": [
    "### Check Null Values"
   ]
  },
  {
   "cell_type": "code",
   "execution_count": 4,
   "id": "4ed019e6",
   "metadata": {},
   "outputs": [
    {
     "name": "stdout",
     "output_type": "stream",
     "text": [
      "52247.25\n"
     ]
    }
   ],
   "source": [
    "mean_income = marketing_data['Income'].mean()\n",
    "print(\"%.2f\" % mean_income)"
   ]
  },
  {
   "cell_type": "code",
   "execution_count": 5,
   "id": "926d2c4d",
   "metadata": {},
   "outputs": [
    {
     "data": {
      "text/plain": [
       "False"
      ]
     },
     "execution_count": 5,
     "metadata": {},
     "output_type": "execute_result"
    }
   ],
   "source": [
    "marketing_data['Income'].fillna(value=mean_income, inplace=True)\n",
    "marketing_data.isnull().values.any()"
   ]
  },
  {
   "cell_type": "markdown",
   "id": "9b2d61d1",
   "metadata": {},
   "source": [
    "### Remove Unwanted Columns "
   ]
  },
  {
   "cell_type": "code",
   "execution_count": 6,
   "id": "fd5eec33",
   "metadata": {},
   "outputs": [],
   "source": [
    "remove_cols= ['Z_CostContact','Z_Revenue']\n",
    "marketing_data = marketing_data.drop(remove_cols,axis=1)"
   ]
  },
  {
   "cell_type": "markdown",
   "id": "7d32ec5e",
   "metadata": {},
   "source": [
    "    "
   ]
  },
  {
   "cell_type": "markdown",
   "id": "d548ca3f",
   "metadata": {},
   "source": [
    "### Alter Data Values"
   ]
  },
  {
   "cell_type": "code",
   "execution_count": 7,
   "id": "942201b1",
   "metadata": {},
   "outputs": [],
   "source": [
    "# Marital Status\n",
    "marketing_data['Marital_Status'] = marketing_data['Marital_Status'].replace(['Together', 'Married'],'Couple')\n",
    "marketing_data['Marital_Status'] = marketing_data['Marital_Status'].replace(['Divorced', 'Widow', 'Alone'],'Single')\n",
    "marketing_data['Marital_Status'] = marketing_data['Marital_Status'].replace(['Absurd', 'YOLO'],'Unspecified')"
   ]
  },
  {
   "cell_type": "code",
   "execution_count": 8,
   "id": "058eed44",
   "metadata": {},
   "outputs": [],
   "source": [
    "# Education\n",
    "marketing_data['Education'] = marketing_data['Education'].replace(['Graduation','Basic', '2n Cycle'],['Graduate','High School','Unspecified'])\n",
    "marketing_data['Education'] = marketing_data['Education'].replace(['PhD','Master'],'Post-Graduate')"
   ]
  },
  {
   "cell_type": "markdown",
   "id": "11473074",
   "metadata": {},
   "source": [
    "### Alter Data Types"
   ]
  },
  {
   "cell_type": "code",
   "execution_count": 9,
   "id": "2b40872b",
   "metadata": {},
   "outputs": [
    {
     "name": "stdout",
     "output_type": "stream",
     "text": [
      "Current Year_Birth Format =  int64\n",
      "Altered Year_Birth Format =  datetime64[ns]\n"
     ]
    }
   ],
   "source": [
    "# Year Birth\n",
    "print(\"Current Year_Birth Format = \", marketing_data['Year_Birth'].dtypes)\n",
    "marketing_data['Year_Birth'] = pd.to_datetime(marketing_data['Year_Birth'], format='%Y')\n",
    "print(\"Altered Year_Birth Format = \",marketing_data['Year_Birth'].dtypes)"
   ]
  },
  {
   "cell_type": "code",
   "execution_count": 10,
   "id": "b92ed724",
   "metadata": {},
   "outputs": [
    {
     "name": "stdout",
     "output_type": "stream",
     "text": [
      "Current Dt_Customer Format =  object\n",
      "Altered Dt_Customer Format =  datetime64[ns]\n"
     ]
    }
   ],
   "source": [
    "# Joined Date\n",
    "print(\"Current Dt_Customer Format = \", marketing_data['Dt_Customer'].dtypes)\n",
    "marketing_data['Dt_Customer'] = pd.to_datetime(marketing_data['Dt_Customer'], format='%Y-%m-%d')\n",
    "print(\"Altered Dt_Customer Format = \", marketing_data['Dt_Customer'].dtypes)"
   ]
  },
  {
   "cell_type": "code",
   "execution_count": 11,
   "id": "0ba02592",
   "metadata": {},
   "outputs": [],
   "source": [
    "# Currency Values to Float\n",
    "marketing_data['MntWines'] = marketing_data['MntWines'].astype(float)\n",
    "marketing_data['MntFruits'] = marketing_data['MntFruits'].astype(float)\n",
    "marketing_data['MntMeatProducts'] = marketing_data['MntMeatProducts'].astype(float)\n",
    "marketing_data['MntFishProducts'] = marketing_data['MntFishProducts'].astype(float)\n",
    "marketing_data['MntSweetProducts'] = marketing_data['MntSweetProducts'].astype(float)\n",
    "marketing_data['MntGoldProds'] = marketing_data['MntGoldProds'].astype(float)"
   ]
  },
  {
   "cell_type": "markdown",
   "id": "54c10f2a",
   "metadata": {},
   "source": [
    "# Feature Engineering"
   ]
  },
  {
   "cell_type": "markdown",
   "id": "2e299f19",
   "metadata": {},
   "source": [
    "### Age"
   ]
  },
  {
   "cell_type": "code",
   "execution_count": 12,
   "id": "4e72896a",
   "metadata": {},
   "outputs": [],
   "source": [
    "#function to calculate age\n",
    "def calculateAge(birthDate):\n",
    "    today = date.today()\n",
    "    age = today.year - birthDate.year - ((today.month, today.day) < (birthDate.month, birthDate.day)) \n",
    "    return age\n",
    "\n",
    "#apply function to all rows\n",
    "marketing_data['Year_Birth'] = marketing_data['Year_Birth'].apply(calculateAge)"
   ]
  },
  {
   "cell_type": "code",
   "execution_count": 13,
   "id": "4b96ffa1",
   "metadata": {},
   "outputs": [
    {
     "name": "stdout",
     "output_type": "stream",
     "text": [
      "0    66\n",
      "1    69\n",
      "2    58\n",
      "3    39\n",
      "4    42\n",
      "Name: Age, dtype: int64\n"
     ]
    }
   ],
   "source": [
    "marketing_data.rename(columns = {'Year_Birth':'Age'}, inplace = True)\n",
    "print(marketing_data['Age'].head())"
   ]
  },
  {
   "cell_type": "markdown",
   "id": "3efdf2a2",
   "metadata": {},
   "source": [
    "### Overall Acceptance Rate"
   ]
  },
  {
   "cell_type": "code",
   "execution_count": 14,
   "id": "3b78509e",
   "metadata": {},
   "outputs": [
    {
     "name": "stdout",
     "output_type": "stream",
     "text": [
      "[0 1 2 3 4]\n"
     ]
    }
   ],
   "source": [
    "marketing_data['Overall_Acceptance_Rate'] = marketing_data['AcceptedCmp1'] + marketing_data['AcceptedCmp2'] + marketing_data['AcceptedCmp3'] + marketing_data['AcceptedCmp4'] + marketing_data['AcceptedCmp5']\n",
    "print(marketing_data['Overall_Acceptance_Rate'].unique())"
   ]
  },
  {
   "cell_type": "markdown",
   "id": "321845fc",
   "metadata": {},
   "source": [
    "### Membership duration"
   ]
  },
  {
   "cell_type": "code",
   "execution_count": 15,
   "id": "1cd7aa4e",
   "metadata": {},
   "outputs": [
    {
     "name": "stdout",
     "output_type": "stream",
     "text": [
      "2014-06-29 00:00:00\n",
      "2012-07-30 00:00:00\n"
     ]
    }
   ],
   "source": [
    "marketing_data['Membership_Duration'] = marketing_data['Dt_Customer'].apply(calculateAge)\n",
    "print(marketing_data['Dt_Customer'].max())\n",
    "print(marketing_data['Dt_Customer'].min())"
   ]
  },
  {
   "cell_type": "markdown",
   "id": "4fbbe5b9",
   "metadata": {},
   "source": [
    "### Total Amount Spent"
   ]
  },
  {
   "cell_type": "code",
   "execution_count": 16,
   "id": "48650e67",
   "metadata": {},
   "outputs": [
    {
     "name": "stdout",
     "output_type": "stream",
     "text": [
      "0    1617.0\n",
      "1      27.0\n",
      "2     776.0\n",
      "3      53.0\n",
      "4     422.0\n",
      "Name: Total_Amt_Spent, dtype: float64\n"
     ]
    }
   ],
   "source": [
    "marketing_data['Total_Amt_Spent'] = marketing_data['MntWines'] + marketing_data['MntFruits'] + marketing_data['MntMeatProducts'] + marketing_data['MntFishProducts'] + marketing_data['MntSweetProducts'] + marketing_data['MntGoldProds']\n",
    "print(marketing_data['Total_Amt_Spent'].head())"
   ]
  },
  {
   "cell_type": "markdown",
   "id": "9d3cf9e3",
   "metadata": {},
   "source": [
    "### Total People In The Household"
   ]
  },
  {
   "cell_type": "code",
   "execution_count": 17,
   "id": "c045f268",
   "metadata": {},
   "outputs": [],
   "source": [
    "total_count = []\n",
    "\n",
    "for status in marketing_data['Marital_Status']:\n",
    "    \n",
    "    adults = 0\n",
    "\n",
    "    if status == 'Couple':\n",
    "        adults = total_count.append(2)  \n",
    "    else:\n",
    "        adults = total_count.append(1)  \n",
    " "
   ]
  },
  {
   "cell_type": "code",
   "execution_count": 18,
   "id": "c67d3cf8",
   "metadata": {},
   "outputs": [
    {
     "name": "stdout",
     "output_type": "stream",
     "text": [
      "0    1\n",
      "1    3\n",
      "2    2\n",
      "3    3\n",
      "4    3\n",
      "Name: Total_People, dtype: int64\n"
     ]
    }
   ],
   "source": [
    "marketing_data['Total_People'] = total_count + marketing_data['Kidhome'] + marketing_data['Teenhome']\n",
    "print(marketing_data['Total_People'].head())"
   ]
  },
  {
   "cell_type": "markdown",
   "id": "5cd9c24c",
   "metadata": {},
   "source": [
    "### Outlier Detection"
   ]
  },
  {
   "cell_type": "code",
   "execution_count": 19,
   "id": "e4145425",
   "metadata": {},
   "outputs": [
    {
     "name": "stdout",
     "output_type": "stream",
     "text": [
      "52247.25135379059\n"
     ]
    }
   ],
   "source": [
    "mode_age = marketing_data['Age'].mode()\n",
    "mean_income = marketing_data['Income'].mean()\n",
    "\n",
    "marketing_data['Age'] = np.where(marketing_data['Age'] >83, mode_age ,marketing_data['Age'])\n",
    "marketing_data['Income'] = marketing_data['Income'].replace([666666.00], mean_income)\n",
    "\n",
    "print(mean_income)"
   ]
  },
  {
   "cell_type": "markdown",
   "id": "5ad4bf54",
   "metadata": {},
   "source": [
    "### Encoding"
   ]
  },
  {
   "cell_type": "code",
   "execution_count": 20,
   "id": "7cb160ac",
   "metadata": {},
   "outputs": [
    {
     "data": {
      "text/html": [
       "<div>\n",
       "<style scoped>\n",
       "    .dataframe tbody tr th:only-of-type {\n",
       "        vertical-align: middle;\n",
       "    }\n",
       "\n",
       "    .dataframe tbody tr th {\n",
       "        vertical-align: top;\n",
       "    }\n",
       "\n",
       "    .dataframe thead th {\n",
       "        text-align: right;\n",
       "    }\n",
       "</style>\n",
       "<table border=\"1\" class=\"dataframe\">\n",
       "  <thead>\n",
       "    <tr style=\"text-align: right;\">\n",
       "      <th></th>\n",
       "      <th>ID</th>\n",
       "      <th>Age</th>\n",
       "      <th>Education</th>\n",
       "      <th>Marital_Status</th>\n",
       "      <th>Income</th>\n",
       "      <th>Kidhome</th>\n",
       "      <th>Teenhome</th>\n",
       "      <th>Dt_Customer</th>\n",
       "      <th>Recency</th>\n",
       "      <th>MntWines</th>\n",
       "      <th>MntFruits</th>\n",
       "      <th>MntMeatProducts</th>\n",
       "      <th>MntFishProducts</th>\n",
       "      <th>MntSweetProducts</th>\n",
       "      <th>MntGoldProds</th>\n",
       "      <th>NumDealsPurchases</th>\n",
       "      <th>NumWebPurchases</th>\n",
       "      <th>NumCatalogPurchases</th>\n",
       "      <th>NumStorePurchases</th>\n",
       "      <th>NumWebVisitsMonth</th>\n",
       "      <th>AcceptedCmp3</th>\n",
       "      <th>AcceptedCmp4</th>\n",
       "      <th>AcceptedCmp5</th>\n",
       "      <th>AcceptedCmp1</th>\n",
       "      <th>AcceptedCmp2</th>\n",
       "      <th>Complain</th>\n",
       "      <th>Response</th>\n",
       "      <th>Overall_Acceptance_Rate</th>\n",
       "      <th>Membership_Duration</th>\n",
       "      <th>Total_Amt_Spent</th>\n",
       "      <th>Total_People</th>\n",
       "    </tr>\n",
       "  </thead>\n",
       "  <tbody>\n",
       "    <tr>\n",
       "      <th>0</th>\n",
       "      <td>5524</td>\n",
       "      <td>66</td>\n",
       "      <td>0</td>\n",
       "      <td>1</td>\n",
       "      <td>58138.0</td>\n",
       "      <td>0</td>\n",
       "      <td>0</td>\n",
       "      <td>2012-09-04</td>\n",
       "      <td>58</td>\n",
       "      <td>635.0</td>\n",
       "      <td>88.0</td>\n",
       "      <td>546.0</td>\n",
       "      <td>172.0</td>\n",
       "      <td>88.0</td>\n",
       "      <td>88.0</td>\n",
       "      <td>3</td>\n",
       "      <td>8</td>\n",
       "      <td>10</td>\n",
       "      <td>4</td>\n",
       "      <td>7</td>\n",
       "      <td>0</td>\n",
       "      <td>0</td>\n",
       "      <td>0</td>\n",
       "      <td>0</td>\n",
       "      <td>0</td>\n",
       "      <td>0</td>\n",
       "      <td>1</td>\n",
       "      <td>0</td>\n",
       "      <td>11</td>\n",
       "      <td>1617.0</td>\n",
       "      <td>1</td>\n",
       "    </tr>\n",
       "    <tr>\n",
       "      <th>1</th>\n",
       "      <td>2174</td>\n",
       "      <td>69</td>\n",
       "      <td>0</td>\n",
       "      <td>1</td>\n",
       "      <td>46344.0</td>\n",
       "      <td>1</td>\n",
       "      <td>1</td>\n",
       "      <td>2014-03-08</td>\n",
       "      <td>38</td>\n",
       "      <td>11.0</td>\n",
       "      <td>1.0</td>\n",
       "      <td>6.0</td>\n",
       "      <td>2.0</td>\n",
       "      <td>1.0</td>\n",
       "      <td>6.0</td>\n",
       "      <td>2</td>\n",
       "      <td>1</td>\n",
       "      <td>1</td>\n",
       "      <td>2</td>\n",
       "      <td>5</td>\n",
       "      <td>0</td>\n",
       "      <td>0</td>\n",
       "      <td>0</td>\n",
       "      <td>0</td>\n",
       "      <td>0</td>\n",
       "      <td>0</td>\n",
       "      <td>0</td>\n",
       "      <td>0</td>\n",
       "      <td>9</td>\n",
       "      <td>27.0</td>\n",
       "      <td>3</td>\n",
       "    </tr>\n",
       "    <tr>\n",
       "      <th>2</th>\n",
       "      <td>4141</td>\n",
       "      <td>58</td>\n",
       "      <td>0</td>\n",
       "      <td>0</td>\n",
       "      <td>71613.0</td>\n",
       "      <td>0</td>\n",
       "      <td>0</td>\n",
       "      <td>2013-08-21</td>\n",
       "      <td>26</td>\n",
       "      <td>426.0</td>\n",
       "      <td>49.0</td>\n",
       "      <td>127.0</td>\n",
       "      <td>111.0</td>\n",
       "      <td>21.0</td>\n",
       "      <td>42.0</td>\n",
       "      <td>1</td>\n",
       "      <td>8</td>\n",
       "      <td>2</td>\n",
       "      <td>10</td>\n",
       "      <td>4</td>\n",
       "      <td>0</td>\n",
       "      <td>0</td>\n",
       "      <td>0</td>\n",
       "      <td>0</td>\n",
       "      <td>0</td>\n",
       "      <td>0</td>\n",
       "      <td>0</td>\n",
       "      <td>0</td>\n",
       "      <td>10</td>\n",
       "      <td>776.0</td>\n",
       "      <td>2</td>\n",
       "    </tr>\n",
       "    <tr>\n",
       "      <th>3</th>\n",
       "      <td>6182</td>\n",
       "      <td>39</td>\n",
       "      <td>0</td>\n",
       "      <td>0</td>\n",
       "      <td>26646.0</td>\n",
       "      <td>1</td>\n",
       "      <td>0</td>\n",
       "      <td>2014-02-10</td>\n",
       "      <td>26</td>\n",
       "      <td>11.0</td>\n",
       "      <td>4.0</td>\n",
       "      <td>20.0</td>\n",
       "      <td>10.0</td>\n",
       "      <td>3.0</td>\n",
       "      <td>5.0</td>\n",
       "      <td>2</td>\n",
       "      <td>2</td>\n",
       "      <td>0</td>\n",
       "      <td>4</td>\n",
       "      <td>6</td>\n",
       "      <td>0</td>\n",
       "      <td>0</td>\n",
       "      <td>0</td>\n",
       "      <td>0</td>\n",
       "      <td>0</td>\n",
       "      <td>0</td>\n",
       "      <td>0</td>\n",
       "      <td>0</td>\n",
       "      <td>9</td>\n",
       "      <td>53.0</td>\n",
       "      <td>3</td>\n",
       "    </tr>\n",
       "    <tr>\n",
       "      <th>4</th>\n",
       "      <td>5324</td>\n",
       "      <td>42</td>\n",
       "      <td>2</td>\n",
       "      <td>0</td>\n",
       "      <td>58293.0</td>\n",
       "      <td>1</td>\n",
       "      <td>0</td>\n",
       "      <td>2014-01-19</td>\n",
       "      <td>94</td>\n",
       "      <td>173.0</td>\n",
       "      <td>43.0</td>\n",
       "      <td>118.0</td>\n",
       "      <td>46.0</td>\n",
       "      <td>27.0</td>\n",
       "      <td>15.0</td>\n",
       "      <td>5</td>\n",
       "      <td>5</td>\n",
       "      <td>3</td>\n",
       "      <td>6</td>\n",
       "      <td>5</td>\n",
       "      <td>0</td>\n",
       "      <td>0</td>\n",
       "      <td>0</td>\n",
       "      <td>0</td>\n",
       "      <td>0</td>\n",
       "      <td>0</td>\n",
       "      <td>0</td>\n",
       "      <td>0</td>\n",
       "      <td>9</td>\n",
       "      <td>422.0</td>\n",
       "      <td>3</td>\n",
       "    </tr>\n",
       "  </tbody>\n",
       "</table>\n",
       "</div>"
      ],
      "text/plain": [
       "     ID  Age  Education  Marital_Status   Income  Kidhome  Teenhome  \\\n",
       "0  5524   66          0               1  58138.0        0         0   \n",
       "1  2174   69          0               1  46344.0        1         1   \n",
       "2  4141   58          0               0  71613.0        0         0   \n",
       "3  6182   39          0               0  26646.0        1         0   \n",
       "4  5324   42          2               0  58293.0        1         0   \n",
       "\n",
       "  Dt_Customer  Recency  MntWines  MntFruits  MntMeatProducts  MntFishProducts  \\\n",
       "0  2012-09-04       58     635.0       88.0            546.0            172.0   \n",
       "1  2014-03-08       38      11.0        1.0              6.0              2.0   \n",
       "2  2013-08-21       26     426.0       49.0            127.0            111.0   \n",
       "3  2014-02-10       26      11.0        4.0             20.0             10.0   \n",
       "4  2014-01-19       94     173.0       43.0            118.0             46.0   \n",
       "\n",
       "   MntSweetProducts  MntGoldProds  NumDealsPurchases  NumWebPurchases  \\\n",
       "0              88.0          88.0                  3                8   \n",
       "1               1.0           6.0                  2                1   \n",
       "2              21.0          42.0                  1                8   \n",
       "3               3.0           5.0                  2                2   \n",
       "4              27.0          15.0                  5                5   \n",
       "\n",
       "   NumCatalogPurchases  NumStorePurchases  NumWebVisitsMonth  AcceptedCmp3  \\\n",
       "0                   10                  4                  7             0   \n",
       "1                    1                  2                  5             0   \n",
       "2                    2                 10                  4             0   \n",
       "3                    0                  4                  6             0   \n",
       "4                    3                  6                  5             0   \n",
       "\n",
       "   AcceptedCmp4  AcceptedCmp5  AcceptedCmp1  AcceptedCmp2  Complain  Response  \\\n",
       "0             0             0             0             0         0         1   \n",
       "1             0             0             0             0         0         0   \n",
       "2             0             0             0             0         0         0   \n",
       "3             0             0             0             0         0         0   \n",
       "4             0             0             0             0         0         0   \n",
       "\n",
       "   Overall_Acceptance_Rate  Membership_Duration  Total_Amt_Spent  Total_People  \n",
       "0                        0                   11           1617.0             1  \n",
       "1                        0                    9             27.0             3  \n",
       "2                        0                   10            776.0             2  \n",
       "3                        0                    9             53.0             3  \n",
       "4                        0                    9            422.0             3  "
      ]
     },
     "execution_count": 20,
     "metadata": {},
     "output_type": "execute_result"
    }
   ],
   "source": [
    "unencoded_cols = ['Education','Marital_Status']\n",
    "le = preprocessing.LabelEncoder()\n",
    "enc_marketing_data = marketing_data.copy()\n",
    "\n",
    "for col in unencoded_cols:\n",
    "    enc_marketing_data[col] = le.fit_transform(marketing_data[col])\n",
    "    \n",
    "enc_marketing_data.head()"
   ]
  },
  {
   "cell_type": "markdown",
   "id": "a876f0af",
   "metadata": {},
   "source": [
    "### Log Transformation"
   ]
  },
  {
   "cell_type": "code",
   "execution_count": 22,
   "id": "a1b44c19",
   "metadata": {
    "scrolled": false
   },
   "outputs": [],
   "source": [
    "cols = ['Income','MntWines','MntFruits','MntMeatProducts','MntFishProducts','MntSweetProducts','MntGoldProds','NumDealsPurchases','NumCatalogPurchases','NumStorePurchases','NumWebVisitsMonth','Total_Amt_Spent']\n",
    "\n",
    "for chosen_col in cols:\n",
    "    enc_marketing_data[chosen_col] = np.log(enc_marketing_data[chosen_col] + 1)\n"
   ]
  },
  {
   "cell_type": "markdown",
   "id": "6b86dd7c",
   "metadata": {},
   "source": [
    "# Feature Selection"
   ]
  },
  {
   "cell_type": "code",
   "execution_count": 23,
   "id": "48c81810",
   "metadata": {},
   "outputs": [],
   "source": [
    "cols_to_remove = ['ID', 'Dt_Customer']\n",
    "enc_marketing_data.drop(cols_to_remove, axis=1, inplace=True)"
   ]
  },
  {
   "cell_type": "code",
   "execution_count": 24,
   "id": "d81903cd",
   "metadata": {},
   "outputs": [
    {
     "data": {
      "text/plain": [
       "(2240, 27)"
      ]
     },
     "execution_count": 24,
     "metadata": {},
     "output_type": "execute_result"
    }
   ],
   "source": [
    "cols_to_remove = ['Complain','Overall_Acceptance_Rate']\n",
    "enc_marketing_data.drop(cols_to_remove, axis=1, inplace=True)\n",
    "enc_marketing_data.shape"
   ]
  },
  {
   "cell_type": "markdown",
   "id": "52350215",
   "metadata": {},
   "source": [
    "# Model Application And Evaluation"
   ]
  },
  {
   "cell_type": "markdown",
   "id": "bb4c7287",
   "metadata": {},
   "source": [
    "### Base Model"
   ]
  },
  {
   "cell_type": "markdown",
   "id": "9bd0dcf0",
   "metadata": {},
   "source": [
    "##### Application"
   ]
  },
  {
   "cell_type": "code",
   "execution_count": 25,
   "id": "0ae248ce",
   "metadata": {},
   "outputs": [],
   "source": [
    "# Split the data into features (X) and target (y)\n",
    "X = enc_marketing_data\n",
    "y = enc_marketing_data.pop('Response')"
   ]
  },
  {
   "cell_type": "code",
   "execution_count": 26,
   "id": "bb0736c5",
   "metadata": {},
   "outputs": [
    {
     "name": "stdout",
     "output_type": "stream",
     "text": [
      "Train size X :  (1792, 26)\n",
      "Train size y :  (1792,)\n",
      "\n",
      "Test size X :  (448, 26)\n",
      "Test size y :  (448,)\n"
     ]
    }
   ],
   "source": [
    "# Train test split\n",
    "X_train, X_test, y_train, y_test = train_test_split(X, y, random_state = 42, test_size = 0.2)\n",
    "\n",
    "X_train_arr = np.array(X_train)\n",
    "y_train_arr = np.array(y_train)\n",
    "X_test_arr = np.array(X_test)\n",
    "y_test_arr = np.array(y_test)\n",
    "\n",
    "print(\"Train size X : \",X_train.shape)\n",
    "print(\"Train size y : \",y_train.shape)\n",
    "print(\"\\nTest size X : \",X_test.shape)\n",
    "print(\"Test size y : \",y_test.shape)"
   ]
  },
  {
   "cell_type": "code",
   "execution_count": 27,
   "id": "a20de14e",
   "metadata": {},
   "outputs": [
    {
     "data": {
      "text/plain": [
       "RandomForestClassifier()"
      ]
     },
     "execution_count": 27,
     "metadata": {},
     "output_type": "execute_result"
    }
   ],
   "source": [
    "#Training the model\n",
    "rf_basemodel = RandomForestClassifier()\n",
    "rf_basemodel.fit(X_train,y_train)"
   ]
  },
  {
   "cell_type": "markdown",
   "id": "296e723b",
   "metadata": {},
   "source": [
    "##### Evaluation"
   ]
  },
  {
   "cell_type": "code",
   "execution_count": 28,
   "id": "a915fbde",
   "metadata": {},
   "outputs": [
    {
     "name": "stdout",
     "output_type": "stream",
     "text": [
      "Accuracy: 0.873\n",
      "Precision: 0.676\n",
      "Recall: 0.333\n",
      "F1 Score: 0.447\n"
     ]
    }
   ],
   "source": [
    "y_pred_base = rf_basemodel.predict(X_test)\n",
    "print('Accuracy: %.3f' % accuracy_score(y_test, y_pred_base))\n",
    "print('Precision: %.3f' % precision_score(y_test, y_pred_base))\n",
    "print('Recall: %.3f' % recall_score(y_test, y_pred_base))\n",
    "print('F1 Score: %.3f' % f1_score(y_test, y_pred_base))"
   ]
  },
  {
   "cell_type": "markdown",
   "id": "bcbd5994",
   "metadata": {},
   "source": [
    "### Tuned Model"
   ]
  },
  {
   "cell_type": "markdown",
   "id": "347e550a",
   "metadata": {},
   "source": [
    "###### Application"
   ]
  },
  {
   "cell_type": "code",
   "execution_count": 32,
   "id": "0d5b02cf",
   "metadata": {},
   "outputs": [
    {
     "name": "stdout",
     "output_type": "stream",
     "text": [
      "Best: 0.886344 using {'max_depth': 10, 'min_samples_leaf': 5, 'n_estimators': 200}\n",
      "0.864961 (0.012204) with: {'max_depth': 2, 'min_samples_leaf': 5, 'n_estimators': 10}\n",
      "0.863838 (0.007858) with: {'max_depth': 2, 'min_samples_leaf': 5, 'n_estimators': 25}\n",
      "0.862167 (0.008129) with: {'max_depth': 2, 'min_samples_leaf': 5, 'n_estimators': 30}\n",
      "0.863843 (0.009230) with: {'max_depth': 2, 'min_samples_leaf': 5, 'n_estimators': 50}\n",
      "0.864034 (0.009591) with: {'max_depth': 2, 'min_samples_leaf': 5, 'n_estimators': 100}\n",
      "0.862542 (0.008505) with: {'max_depth': 2, 'min_samples_leaf': 5, 'n_estimators': 200}\n",
      "0.865333 (0.010075) with: {'max_depth': 2, 'min_samples_leaf': 10, 'n_estimators': 10}\n",
      "0.861986 (0.010179) with: {'max_depth': 2, 'min_samples_leaf': 10, 'n_estimators': 25}\n",
      "0.861980 (0.009644) with: {'max_depth': 2, 'min_samples_leaf': 10, 'n_estimators': 30}\n",
      "0.862912 (0.008311) with: {'max_depth': 2, 'min_samples_leaf': 10, 'n_estimators': 50}\n",
      "0.864774 (0.010290) with: {'max_depth': 2, 'min_samples_leaf': 10, 'n_estimators': 100}\n",
      "0.862540 (0.008656) with: {'max_depth': 2, 'min_samples_leaf': 10, 'n_estimators': 200}\n",
      "0.863652 (0.009539) with: {'max_depth': 2, 'min_samples_leaf': 20, 'n_estimators': 10}\n",
      "0.862913 (0.009241) with: {'max_depth': 2, 'min_samples_leaf': 20, 'n_estimators': 25}\n",
      "0.862540 (0.009016) with: {'max_depth': 2, 'min_samples_leaf': 20, 'n_estimators': 30}\n",
      "0.861608 (0.009035) with: {'max_depth': 2, 'min_samples_leaf': 20, 'n_estimators': 50}\n",
      "0.863467 (0.007591) with: {'max_depth': 2, 'min_samples_leaf': 20, 'n_estimators': 100}\n",
      "0.862542 (0.009542) with: {'max_depth': 2, 'min_samples_leaf': 20, 'n_estimators': 200}\n",
      "0.855841 (0.008404) with: {'max_depth': 2, 'min_samples_leaf': 50, 'n_estimators': 10}\n",
      "0.855100 (0.006592) with: {'max_depth': 2, 'min_samples_leaf': 50, 'n_estimators': 25}\n",
      "0.854171 (0.005200) with: {'max_depth': 2, 'min_samples_leaf': 50, 'n_estimators': 30}\n",
      "0.853426 (0.004403) with: {'max_depth': 2, 'min_samples_leaf': 50, 'n_estimators': 50}\n",
      "0.853426 (0.004163) with: {'max_depth': 2, 'min_samples_leaf': 50, 'n_estimators': 100}\n",
      "0.853240 (0.004221) with: {'max_depth': 2, 'min_samples_leaf': 50, 'n_estimators': 200}\n",
      "0.852123 (0.002642) with: {'max_depth': 2, 'min_samples_leaf': 100, 'n_estimators': 10}\n",
      "0.852123 (0.002642) with: {'max_depth': 2, 'min_samples_leaf': 100, 'n_estimators': 25}\n",
      "0.852123 (0.002642) with: {'max_depth': 2, 'min_samples_leaf': 100, 'n_estimators': 30}\n",
      "0.852123 (0.002642) with: {'max_depth': 2, 'min_samples_leaf': 100, 'n_estimators': 50}\n",
      "0.852123 (0.002642) with: {'max_depth': 2, 'min_samples_leaf': 100, 'n_estimators': 100}\n",
      "0.852123 (0.002642) with: {'max_depth': 2, 'min_samples_leaf': 100, 'n_estimators': 200}\n",
      "0.852123 (0.002642) with: {'max_depth': 2, 'min_samples_leaf': 200, 'n_estimators': 10}\n",
      "0.852123 (0.002642) with: {'max_depth': 2, 'min_samples_leaf': 200, 'n_estimators': 25}\n",
      "0.852123 (0.002642) with: {'max_depth': 2, 'min_samples_leaf': 200, 'n_estimators': 30}\n",
      "0.852123 (0.002642) with: {'max_depth': 2, 'min_samples_leaf': 200, 'n_estimators': 50}\n",
      "0.852123 (0.002642) with: {'max_depth': 2, 'min_samples_leaf': 200, 'n_estimators': 100}\n",
      "0.852123 (0.002642) with: {'max_depth': 2, 'min_samples_leaf': 200, 'n_estimators': 200}\n",
      "0.868124 (0.011128) with: {'max_depth': 3, 'min_samples_leaf': 5, 'n_estimators': 10}\n",
      "0.869793 (0.010898) with: {'max_depth': 3, 'min_samples_leaf': 5, 'n_estimators': 25}\n",
      "0.869236 (0.009374) with: {'max_depth': 3, 'min_samples_leaf': 5, 'n_estimators': 30}\n",
      "0.870353 (0.011557) with: {'max_depth': 3, 'min_samples_leaf': 5, 'n_estimators': 50}\n",
      "0.871283 (0.010037) with: {'max_depth': 3, 'min_samples_leaf': 5, 'n_estimators': 100}\n",
      "0.869425 (0.009873) with: {'max_depth': 3, 'min_samples_leaf': 5, 'n_estimators': 200}\n",
      "0.869978 (0.011074) with: {'max_depth': 3, 'min_samples_leaf': 10, 'n_estimators': 10}\n",
      "0.869977 (0.009684) with: {'max_depth': 3, 'min_samples_leaf': 10, 'n_estimators': 25}\n",
      "0.871097 (0.011064) with: {'max_depth': 3, 'min_samples_leaf': 10, 'n_estimators': 30}\n",
      "0.870352 (0.009382) with: {'max_depth': 3, 'min_samples_leaf': 10, 'n_estimators': 50}\n",
      "0.870167 (0.009938) with: {'max_depth': 3, 'min_samples_leaf': 10, 'n_estimators': 100}\n",
      "0.869422 (0.009805) with: {'max_depth': 3, 'min_samples_leaf': 10, 'n_estimators': 200}\n",
      "0.866819 (0.010014) with: {'max_depth': 3, 'min_samples_leaf': 20, 'n_estimators': 10}\n",
      "0.869607 (0.010724) with: {'max_depth': 3, 'min_samples_leaf': 20, 'n_estimators': 25}\n",
      "0.868123 (0.010559) with: {'max_depth': 3, 'min_samples_leaf': 20, 'n_estimators': 30}\n",
      "0.869047 (0.010757) with: {'max_depth': 3, 'min_samples_leaf': 20, 'n_estimators': 50}\n",
      "0.867003 (0.009656) with: {'max_depth': 3, 'min_samples_leaf': 20, 'n_estimators': 100}\n",
      "0.868118 (0.009601) with: {'max_depth': 3, 'min_samples_leaf': 20, 'n_estimators': 200}\n",
      "0.856397 (0.007224) with: {'max_depth': 3, 'min_samples_leaf': 50, 'n_estimators': 10}\n",
      "0.857333 (0.007073) with: {'max_depth': 3, 'min_samples_leaf': 50, 'n_estimators': 25}\n",
      "0.856963 (0.007441) with: {'max_depth': 3, 'min_samples_leaf': 50, 'n_estimators': 30}\n",
      "0.855288 (0.005978) with: {'max_depth': 3, 'min_samples_leaf': 50, 'n_estimators': 50}\n",
      "0.854729 (0.004744) with: {'max_depth': 3, 'min_samples_leaf': 50, 'n_estimators': 100}\n",
      "0.854729 (0.005362) with: {'max_depth': 3, 'min_samples_leaf': 50, 'n_estimators': 200}\n",
      "0.852123 (0.002642) with: {'max_depth': 3, 'min_samples_leaf': 100, 'n_estimators': 10}\n",
      "0.852123 (0.002642) with: {'max_depth': 3, 'min_samples_leaf': 100, 'n_estimators': 25}\n",
      "0.852123 (0.002642) with: {'max_depth': 3, 'min_samples_leaf': 100, 'n_estimators': 30}\n",
      "0.852123 (0.002642) with: {'max_depth': 3, 'min_samples_leaf': 100, 'n_estimators': 50}\n",
      "0.852123 (0.002642) with: {'max_depth': 3, 'min_samples_leaf': 100, 'n_estimators': 100}\n",
      "0.852123 (0.002642) with: {'max_depth': 3, 'min_samples_leaf': 100, 'n_estimators': 200}\n",
      "0.852123 (0.002642) with: {'max_depth': 3, 'min_samples_leaf': 200, 'n_estimators': 10}\n",
      "0.852123 (0.002642) with: {'max_depth': 3, 'min_samples_leaf': 200, 'n_estimators': 25}\n",
      "0.852123 (0.002642) with: {'max_depth': 3, 'min_samples_leaf': 200, 'n_estimators': 30}\n",
      "0.852123 (0.002642) with: {'max_depth': 3, 'min_samples_leaf': 200, 'n_estimators': 50}\n",
      "0.852123 (0.002642) with: {'max_depth': 3, 'min_samples_leaf': 200, 'n_estimators': 100}\n",
      "0.852123 (0.002642) with: {'max_depth': 3, 'min_samples_leaf': 200, 'n_estimators': 200}\n",
      "0.876870 (0.013170) with: {'max_depth': 5, 'min_samples_leaf': 5, 'n_estimators': 10}\n",
      "0.878349 (0.011645) with: {'max_depth': 5, 'min_samples_leaf': 5, 'n_estimators': 25}\n",
      "0.876303 (0.010687) with: {'max_depth': 5, 'min_samples_leaf': 5, 'n_estimators': 30}\n",
      "0.878163 (0.010300) with: {'max_depth': 5, 'min_samples_leaf': 5, 'n_estimators': 50}\n",
      "0.875933 (0.012176) with: {'max_depth': 5, 'min_samples_leaf': 5, 'n_estimators': 100}\n",
      "0.877236 (0.009729) with: {'max_depth': 5, 'min_samples_leaf': 5, 'n_estimators': 200}\n",
      "0.874257 (0.009942) with: {'max_depth': 5, 'min_samples_leaf': 10, 'n_estimators': 10}\n",
      "0.873516 (0.012463) with: {'max_depth': 5, 'min_samples_leaf': 10, 'n_estimators': 25}\n",
      "0.873143 (0.008220) with: {'max_depth': 5, 'min_samples_leaf': 10, 'n_estimators': 30}\n",
      "0.875372 (0.010415) with: {'max_depth': 5, 'min_samples_leaf': 10, 'n_estimators': 50}\n",
      "0.873332 (0.010627) with: {'max_depth': 5, 'min_samples_leaf': 10, 'n_estimators': 100}\n",
      "0.875935 (0.009883) with: {'max_depth': 5, 'min_samples_leaf': 10, 'n_estimators': 200}\n",
      "0.868306 (0.011902) with: {'max_depth': 5, 'min_samples_leaf': 20, 'n_estimators': 10}\n",
      "0.871837 (0.009062) with: {'max_depth': 5, 'min_samples_leaf': 20, 'n_estimators': 25}\n",
      "0.871279 (0.009234) with: {'max_depth': 5, 'min_samples_leaf': 20, 'n_estimators': 30}\n",
      "0.870539 (0.009449) with: {'max_depth': 5, 'min_samples_leaf': 20, 'n_estimators': 50}\n",
      "0.871469 (0.009783) with: {'max_depth': 5, 'min_samples_leaf': 20, 'n_estimators': 100}\n",
      "0.871096 (0.009572) with: {'max_depth': 5, 'min_samples_leaf': 20, 'n_estimators': 200}\n",
      "0.857148 (0.007745) with: {'max_depth': 5, 'min_samples_leaf': 50, 'n_estimators': 10}\n",
      "0.858261 (0.008062) with: {'max_depth': 5, 'min_samples_leaf': 50, 'n_estimators': 25}\n",
      "0.858635 (0.009529) with: {'max_depth': 5, 'min_samples_leaf': 50, 'n_estimators': 30}\n",
      "0.856775 (0.006710) with: {'max_depth': 5, 'min_samples_leaf': 50, 'n_estimators': 50}\n",
      "0.855845 (0.006511) with: {'max_depth': 5, 'min_samples_leaf': 50, 'n_estimators': 100}\n",
      "0.857707 (0.008252) with: {'max_depth': 5, 'min_samples_leaf': 50, 'n_estimators': 200}\n",
      "0.852123 (0.002642) with: {'max_depth': 5, 'min_samples_leaf': 100, 'n_estimators': 10}\n",
      "0.852123 (0.002642) with: {'max_depth': 5, 'min_samples_leaf': 100, 'n_estimators': 25}\n",
      "0.852123 (0.002642) with: {'max_depth': 5, 'min_samples_leaf': 100, 'n_estimators': 30}\n",
      "0.852123 (0.002642) with: {'max_depth': 5, 'min_samples_leaf': 100, 'n_estimators': 50}\n",
      "0.852123 (0.002642) with: {'max_depth': 5, 'min_samples_leaf': 100, 'n_estimators': 100}\n",
      "0.852123 (0.002642) with: {'max_depth': 5, 'min_samples_leaf': 100, 'n_estimators': 200}\n",
      "0.852123 (0.002642) with: {'max_depth': 5, 'min_samples_leaf': 200, 'n_estimators': 10}\n",
      "0.852123 (0.002642) with: {'max_depth': 5, 'min_samples_leaf': 200, 'n_estimators': 25}\n",
      "0.852123 (0.002642) with: {'max_depth': 5, 'min_samples_leaf': 200, 'n_estimators': 30}\n",
      "0.852123 (0.002642) with: {'max_depth': 5, 'min_samples_leaf': 200, 'n_estimators': 50}\n",
      "0.852123 (0.002642) with: {'max_depth': 5, 'min_samples_leaf': 200, 'n_estimators': 100}\n",
      "0.852123 (0.002642) with: {'max_depth': 5, 'min_samples_leaf': 200, 'n_estimators': 200}\n",
      "0.879278 (0.011396) with: {'max_depth': 10, 'min_samples_leaf': 5, 'n_estimators': 10}\n",
      "0.885786 (0.011260) with: {'max_depth': 10, 'min_samples_leaf': 5, 'n_estimators': 25}\n",
      "0.885224 (0.015552) with: {'max_depth': 10, 'min_samples_leaf': 5, 'n_estimators': 30}\n",
      "0.885787 (0.011867) with: {'max_depth': 10, 'min_samples_leaf': 5, 'n_estimators': 50}\n",
      "0.885605 (0.012924) with: {'max_depth': 10, 'min_samples_leaf': 5, 'n_estimators': 100}\n",
      "0.886344 (0.014105) with: {'max_depth': 10, 'min_samples_leaf': 5, 'n_estimators': 200}\n",
      "0.875191 (0.014618) with: {'max_depth': 10, 'min_samples_leaf': 10, 'n_estimators': 10}\n",
      "0.879461 (0.012974) with: {'max_depth': 10, 'min_samples_leaf': 10, 'n_estimators': 25}\n",
      "0.880206 (0.011353) with: {'max_depth': 10, 'min_samples_leaf': 10, 'n_estimators': 30}\n",
      "0.881510 (0.012460) with: {'max_depth': 10, 'min_samples_leaf': 10, 'n_estimators': 50}\n",
      "0.880767 (0.011024) with: {'max_depth': 10, 'min_samples_leaf': 10, 'n_estimators': 100}\n",
      "0.879654 (0.011182) with: {'max_depth': 10, 'min_samples_leaf': 10, 'n_estimators': 200}\n",
      "0.869058 (0.012173) with: {'max_depth': 10, 'min_samples_leaf': 20, 'n_estimators': 10}\n",
      "0.869606 (0.010736) with: {'max_depth': 10, 'min_samples_leaf': 20, 'n_estimators': 25}\n",
      "0.872397 (0.009400) with: {'max_depth': 10, 'min_samples_leaf': 20, 'n_estimators': 30}\n",
      "0.871095 (0.009248) with: {'max_depth': 10, 'min_samples_leaf': 20, 'n_estimators': 50}\n",
      "0.871839 (0.010013) with: {'max_depth': 10, 'min_samples_leaf': 20, 'n_estimators': 100}\n",
      "0.873701 (0.009682) with: {'max_depth': 10, 'min_samples_leaf': 20, 'n_estimators': 200}\n",
      "0.859753 (0.009331) with: {'max_depth': 10, 'min_samples_leaf': 50, 'n_estimators': 10}\n",
      "0.859007 (0.009042) with: {'max_depth': 10, 'min_samples_leaf': 50, 'n_estimators': 25}\n",
      "0.857143 (0.007139) with: {'max_depth': 10, 'min_samples_leaf': 50, 'n_estimators': 30}\n",
      "0.855847 (0.007911) with: {'max_depth': 10, 'min_samples_leaf': 50, 'n_estimators': 50}\n",
      "0.856217 (0.006464) with: {'max_depth': 10, 'min_samples_leaf': 50, 'n_estimators': 100}\n",
      "0.856031 (0.006865) with: {'max_depth': 10, 'min_samples_leaf': 50, 'n_estimators': 200}\n",
      "0.852123 (0.002642) with: {'max_depth': 10, 'min_samples_leaf': 100, 'n_estimators': 10}\n",
      "0.852123 (0.002642) with: {'max_depth': 10, 'min_samples_leaf': 100, 'n_estimators': 25}\n",
      "0.852123 (0.002642) with: {'max_depth': 10, 'min_samples_leaf': 100, 'n_estimators': 30}\n",
      "0.852123 (0.002642) with: {'max_depth': 10, 'min_samples_leaf': 100, 'n_estimators': 50}\n",
      "0.852123 (0.002642) with: {'max_depth': 10, 'min_samples_leaf': 100, 'n_estimators': 100}\n",
      "0.852123 (0.002642) with: {'max_depth': 10, 'min_samples_leaf': 100, 'n_estimators': 200}\n",
      "0.852123 (0.002642) with: {'max_depth': 10, 'min_samples_leaf': 200, 'n_estimators': 10}\n",
      "0.852123 (0.002642) with: {'max_depth': 10, 'min_samples_leaf': 200, 'n_estimators': 25}\n",
      "0.852123 (0.002642) with: {'max_depth': 10, 'min_samples_leaf': 200, 'n_estimators': 30}\n",
      "0.852123 (0.002642) with: {'max_depth': 10, 'min_samples_leaf': 200, 'n_estimators': 50}\n",
      "0.852123 (0.002642) with: {'max_depth': 10, 'min_samples_leaf': 200, 'n_estimators': 100}\n",
      "0.852123 (0.002642) with: {'max_depth': 10, 'min_samples_leaf': 200, 'n_estimators': 200}\n",
      "0.878720 (0.019061) with: {'max_depth': 20, 'min_samples_leaf': 5, 'n_estimators': 10}\n",
      "0.884671 (0.017329) with: {'max_depth': 20, 'min_samples_leaf': 5, 'n_estimators': 25}\n",
      "0.879271 (0.014146) with: {'max_depth': 20, 'min_samples_leaf': 5, 'n_estimators': 30}\n",
      "0.885047 (0.014727) with: {'max_depth': 20, 'min_samples_leaf': 5, 'n_estimators': 50}\n",
      "0.886161 (0.013243) with: {'max_depth': 20, 'min_samples_leaf': 5, 'n_estimators': 100}\n",
      "0.884297 (0.012260) with: {'max_depth': 20, 'min_samples_leaf': 5, 'n_estimators': 200}\n",
      "0.877232 (0.012893) with: {'max_depth': 20, 'min_samples_leaf': 10, 'n_estimators': 10}\n",
      "0.881698 (0.014277) with: {'max_depth': 20, 'min_samples_leaf': 10, 'n_estimators': 25}\n",
      "0.878160 (0.011013) with: {'max_depth': 20, 'min_samples_leaf': 10, 'n_estimators': 30}\n",
      "0.880950 (0.010458) with: {'max_depth': 20, 'min_samples_leaf': 10, 'n_estimators': 50}\n",
      "0.881879 (0.010835) with: {'max_depth': 20, 'min_samples_leaf': 10, 'n_estimators': 100}\n",
      "0.880395 (0.011129) with: {'max_depth': 20, 'min_samples_leaf': 10, 'n_estimators': 200}\n",
      "0.870911 (0.012830) with: {'max_depth': 20, 'min_samples_leaf': 20, 'n_estimators': 10}\n",
      "0.875375 (0.013053) with: {'max_depth': 20, 'min_samples_leaf': 20, 'n_estimators': 25}\n",
      "0.872770 (0.010509) with: {'max_depth': 20, 'min_samples_leaf': 20, 'n_estimators': 30}\n",
      "0.873517 (0.009735) with: {'max_depth': 20, 'min_samples_leaf': 20, 'n_estimators': 50}\n",
      "0.872024 (0.010183) with: {'max_depth': 20, 'min_samples_leaf': 20, 'n_estimators': 100}\n",
      "0.873143 (0.011397) with: {'max_depth': 20, 'min_samples_leaf': 20, 'n_estimators': 200}\n",
      "0.861426 (0.009049) with: {'max_depth': 20, 'min_samples_leaf': 50, 'n_estimators': 10}\n",
      "0.856963 (0.007573) with: {'max_depth': 20, 'min_samples_leaf': 50, 'n_estimators': 25}\n",
      "0.857519 (0.007776) with: {'max_depth': 20, 'min_samples_leaf': 50, 'n_estimators': 30}\n",
      "0.855655 (0.004482) with: {'max_depth': 20, 'min_samples_leaf': 50, 'n_estimators': 50}\n",
      "0.856031 (0.005709) with: {'max_depth': 20, 'min_samples_leaf': 50, 'n_estimators': 100}\n",
      "0.856960 (0.007050) with: {'max_depth': 20, 'min_samples_leaf': 50, 'n_estimators': 200}\n",
      "0.852123 (0.002642) with: {'max_depth': 20, 'min_samples_leaf': 100, 'n_estimators': 10}\n",
      "0.852123 (0.002642) with: {'max_depth': 20, 'min_samples_leaf': 100, 'n_estimators': 25}\n",
      "0.852123 (0.002642) with: {'max_depth': 20, 'min_samples_leaf': 100, 'n_estimators': 30}\n",
      "0.852123 (0.002642) with: {'max_depth': 20, 'min_samples_leaf': 100, 'n_estimators': 50}\n",
      "0.852123 (0.002642) with: {'max_depth': 20, 'min_samples_leaf': 100, 'n_estimators': 100}\n",
      "0.852123 (0.002642) with: {'max_depth': 20, 'min_samples_leaf': 100, 'n_estimators': 200}\n",
      "0.852123 (0.002642) with: {'max_depth': 20, 'min_samples_leaf': 200, 'n_estimators': 10}\n",
      "0.852123 (0.002642) with: {'max_depth': 20, 'min_samples_leaf': 200, 'n_estimators': 25}\n",
      "0.852123 (0.002642) with: {'max_depth': 20, 'min_samples_leaf': 200, 'n_estimators': 30}\n",
      "0.852123 (0.002642) with: {'max_depth': 20, 'min_samples_leaf': 200, 'n_estimators': 50}\n",
      "0.852123 (0.002642) with: {'max_depth': 20, 'min_samples_leaf': 200, 'n_estimators': 100}\n",
      "0.852123 (0.002642) with: {'max_depth': 20, 'min_samples_leaf': 200, 'n_estimators': 200}\n"
     ]
    }
   ],
   "source": [
    "#define model\n",
    "rf=RandomForestClassifier()\n",
    "\n",
    "#specifying all hyperparameters with possible values\n",
    "param = {\n",
    "    'max_depth': [2,3,5,10,20],\n",
    "    'min_samples_leaf': [5,10,20,50,100,200],\n",
    "    'n_estimators': [10,25,30,50,100,200]\n",
    "}\n",
    "\n",
    "# define grid search\n",
    "cv = RepeatedStratifiedKFold(n_splits=10, n_repeats=3)\n",
    "grid_search = GridSearchCV(estimator=rf, param_grid=param, n_jobs=-1, cv=cv, scoring='accuracy',error_score=0)\n",
    "grid_result = grid_search.fit(X_train, y_train)\n",
    "# summarize results\n",
    "print(\"Best: %f using %s\" % (grid_result.best_score_, grid_result.best_params_))\n",
    "means = grid_result.cv_results_['mean_test_score']\n",
    "stds = grid_result.cv_results_['std_test_score']\n",
    "params = grid_result.cv_results_['params']\n",
    "for mean, stdev, param in zip(means, stds, params):\n",
    "    print(\"%f (%f) with: %r\" % (mean, stdev, param))"
   ]
  },
  {
   "cell_type": "code",
   "execution_count": 29,
   "id": "5b726ae5",
   "metadata": {},
   "outputs": [
    {
     "data": {
      "text/plain": [
       "RandomForestClassifier(max_depth=10, min_samples_leaf=5, n_estimators=200)"
      ]
     },
     "execution_count": 29,
     "metadata": {},
     "output_type": "execute_result"
    }
   ],
   "source": [
    "rf_tunedmodel = RandomForestClassifier(max_depth=10, min_samples_leaf=5, n_estimators=200)\n",
    "rf_tunedmodel.fit(X_train,y_train)"
   ]
  },
  {
   "cell_type": "markdown",
   "id": "c5182739",
   "metadata": {},
   "source": [
    "###### Evaluation"
   ]
  },
  {
   "cell_type": "code",
   "execution_count": 30,
   "id": "ae5422ac",
   "metadata": {},
   "outputs": [
    {
     "name": "stdout",
     "output_type": "stream",
     "text": [
      "Accuracy: 0.866\n",
      "Precision: 0.765\n",
      "Recall: 0.188\n",
      "F1 Score: 0.302\n"
     ]
    }
   ],
   "source": [
    "y_pred_tuned = rf_tunedmodel.predict(X_test)\n",
    "print('Accuracy: %.3f' % accuracy_score(y_test, y_pred_tuned))\n",
    "print('Precision: %.3f' % precision_score(y_test, y_pred_tuned))\n",
    "print('Recall: %.3f' % recall_score(y_test, y_pred_tuned))\n",
    "print('F1 Score: %.3f' % f1_score(y_test, y_pred_tuned))"
   ]
  },
  {
   "cell_type": "code",
   "execution_count": null,
   "id": "cbfdbcda",
   "metadata": {},
   "outputs": [],
   "source": []
  }
 ],
 "metadata": {
  "kernelspec": {
   "display_name": "Python 3 (ipykernel)",
   "language": "python",
   "name": "python3"
  },
  "language_info": {
   "codemirror_mode": {
    "name": "ipython",
    "version": 3
   },
   "file_extension": ".py",
   "mimetype": "text/x-python",
   "name": "python",
   "nbconvert_exporter": "python",
   "pygments_lexer": "ipython3",
   "version": "3.9.12"
  }
 },
 "nbformat": 4,
 "nbformat_minor": 5
}
